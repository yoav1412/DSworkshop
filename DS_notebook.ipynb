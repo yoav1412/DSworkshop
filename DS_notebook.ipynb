{
 "cells": [
  {
   "cell_type": "code",
   "execution_count": 1,
   "metadata": {
    "collapsed": true
   },
   "outputs": [],
   "source": [
    "%matplotlib inline"
   ]
  },
  {
   "cell_type": "code",
   "execution_count": 1,
   "metadata": {},
   "outputs": [],
   "source": [
    "import pandas as pd\n",
    "import numpy as np\n",
    "from sklearn.svm import SVC, NuSVC, SVR\n",
    "from scipy import stats\n",
    "from constants import *\n",
    "from auxiliary_functions import *\n",
    "from matplotlib import pyplot as plt\n",
    "from sklearn.model_selection import cross_validate, cross_val_score, train_test_split, KFold, StratifiedKFold, GridSearchCV\n",
    "from sklearn.preprocessing import StandardScaler, MinMaxScaler\n",
    "from sklearn.ensemble import RandomForestClassifier, GradientBoostingClassifier, GradientBoostingRegressor, VotingClassifier, AdaBoostClassifier, BaggingRegressor\n",
    "from sklearn.linear_model import LogisticRegression, SGDClassifier\n",
    "from sklearn.neighbors import KNeighborsClassifier\n",
    "from sklearn.neural_network import MLPClassifier\n",
    "from sklearn.discriminant_analysis import LinearDiscriminantAnalysis, QuadraticDiscriminantAnalysis\n",
    "from collections import namedtuple\n",
    "from sklearn.decomposition import PCA\n",
    "from os import cpu_count\n",
    "from TwoGroupsWeightedModel import TwoGroupsWeightedModel\n",
    "from sklearn.neural_network import MLPClassifier\n",
    "from sklearn.tree import DecisionTreeClassifier\n",
    "from scipy.stats import iqr, kurtosis, skew\n",
    "from create_nqi_features_with_hand_direction_partition import create_nqi_features_from_raw_data_with_sides_partitions\n",
    "from method1_feature_extraction import *\n"
   ]
  },
  {
   "cell_type": "code",
   "execution_count": 2,
   "metadata": {},
   "outputs": [],
   "source": [
    "PROCESS_DATA_FILES = False  # if set to False, data will be loaded from saved files\n",
    "CALCULATE_FEATURES = False\n",
    "SHOW_PLOTS = True  # if true, plots will be printed in the quantiles filter section of the data\n"
   ]
  },
  {
   "cell_type": "markdown",
   "metadata": {},
   "source": [
    "Load full users and taps datasets from Kaggle"
   ]
  },
  {
   "cell_type": "code",
   "execution_count": 3,
   "metadata": {
    "collapsed": false
   },
   "outputs": [
    {
     "name": "stdout",
     "output_type": "stream",
     "text": [
      "   Unnamed: 0  FlightTime  HoldTime Hand          ID Direction  LatencyTime  \\\n0           0       156.3     101.6    L  0EA27ICBLF        LL        234.4   \n1           1       359.4      85.9    L  0EA27ICBLF        LL        437.5   \n2           2       125.0      78.1    L  0EA27ICBLF        LL        210.9   \n3           3       281.3      62.5    L  0EA27ICBLF        LL        359.4   \n4           4        93.8     125.0    S  0EA27ICBLF        LS        187.5   \n\n  binIndex  \n0  (0, 90]  \n1  (0, 90]  \n2  (0, 90]  \n3  (0, 90]  \n4  (0, 90]  \n   BirthYear     DA DiagnosisYear  Gender          ID  Impact  Levadopa  \\\n0     1952.0   True          2000  Female  0EA27ICBLF  Severe      True   \n1     1959.0  False        ------  Female  0QAZFRHQHW  ------     False   \n2     1946.0  False        ------  Female  0WTDIGPSBZ  ------     False   \n3     1944.0  False        ------    Male  1HOEBIGASW  ------     False   \n4     1953.0  False          2017    Male  1WMVCCU4RH  Medium     False   \n\n    MAOB  Other  Parkinsons Sided  Tremors       UPDRS  \n0  False  False        True  Left     True  Don't know  \n1  False  False       False  None    False  Don't know  \n2  False  False       False  None    False  Don't know  \n3  False  False       False  None    False  Don't know  \n4  False  False        True  Left     True  Don't know  \n"
     ]
    }
   ],
   "source": [
    "from KaggleDataLoader import *\n",
    "\n",
    "if not PROCESS_DATA_FILES:\n",
    "    kaggle_taps = pd.read_csv(KAGGLE_TAPS_INPUT)\n",
    "    print(\"Kaggle taps dataframe:\")\n",
    "    print(kaggle_taps.head())\n",
    "    kaggle_users = pd.read_csv(KAGGLE_USERS_INPUT)\n",
    "    print(\"Kaggle users dataframe:\")\n",
    "    print(kaggle_users.head())\n",
    "\n",
    "else:\n",
    "    # Create dataframe from files, perform basic cleaning\n",
    "    kaggle_users = create_merged_users_details_file()\n",
    "    print(\"Kaggle users dataframe:\")\n",
    "    print(kaggle_users.head())\n",
    "    \n",
    "    kaggle_taps = create_merged_taps_dataframe()\n",
    "    kaggle_taps = clean_bad_values(kaggle_taps)\n",
    "    kaggle_taps = clean_incompatible_user_ids(kaggle_taps, kaggle_users)\n",
    "    print(\"Kaggle taps initial dataframe:\")\n",
    "    print(kaggle_taps.head())\n"
   ]
  },
  {
   "cell_type": "markdown",
   "metadata": {},
   "source": [
    "Filter outliers"
   ]
  },
  {
   "cell_type": "code",
   "execution_count": null,
   "metadata": {},
   "outputs": [],
   "source": [
    "if PROCESS_DATA_FILES:\n",
    "    def filter_column_by_quantile(df, column, threshold):\n",
    "        len_before = len(df)\n",
    "        df = df[df[column] < np.percentile(df[column], threshold)]\n",
    "        len_after = len(df)\n",
    "        print(\"Filtered out {} rows with outliers in column '{}'\".format((len_before - len_after), column))\n",
    "        return df\n",
    "    \n",
    "    \n",
    "    def plot_percentiles_of_column(df, col, start, end, bins):\n",
    "        X = np.linspace(start, end, bins)\n",
    "        Y = [np.percentile(df[col], x) for x in X]\n",
    "        plt.plot(X, Y)\n",
    "        plt.title(col + \" Percentiles\")\n",
    "        plt.xlabel(\"Percent\")\n",
    "        plt.ylabel(\"Percentile Value\")\n",
    "        plt.show()\n",
    "    \n",
    "    \n",
    "    # Filter out outliers of HoldTime:\n",
    "    plot_percentiles_of_column(kaggle_taps, 'HoldTime', 99.96, 99.9999, 20)\n",
    "    # After the percentile 99.993 we see significantly higher values, which are definitely outliers.\n",
    "    kaggle_taps = filter_column_by_quantile(kaggle_taps, 'HoldTime', 99.993)\n"
   ]
  },
  {
   "cell_type": "markdown",
   "metadata": {},
   "source": [
    "Calculate time bins and build final dataframe"
   ]
  },
  {
   "cell_type": "code",
   "execution_count": null,
   "metadata": {},
   "outputs": [],
   "source": [
    "if PROCESS_DATA_FILES:\n",
    "\n",
    "    # Add parsed date and time column + calculate cumulative time\n",
    "    kaggle_taps = add_cumulative_timestamps_column(kaggle_taps)\n",
    "    \n",
    "    # Group to bin indexes by the cumulative timestamps\n",
    "    def build_bins(df, bin_size_seconds):\n",
    "        df[\"PressTimeCumulative\"] = df[\"PressTimeCumulative\"] / 1000\n",
    "        max_press = (int(max((df[\"PressTimeCumulative\"])) / bin_size_seconds) + 1) * bin_size_seconds + 1\n",
    "        user_bins = [i for i in range(0, max_press, bin_size_seconds)]\n",
    "        df[\"binIndex\"] = pd.cut((df[\"PressTimeCumulative\"]), user_bins)\n",
    "        return df\n",
    "    \n",
    "    \n",
    "    kaggle_taps = build_bins(kaggle_taps, 90)\n",
    "    \n",
    "    # Keep only necessary columns and save to file\n",
    "    kaggle_taps = kaggle_taps[TAPS_FINAL_COLUMNS + ['binIndex']]\n",
    "    print(\"Kaggle taps final dataframe:\")\n",
    "    print(kaggle_taps.head())\n",
    "    \n",
    "    kaggle_taps.to_csv(constants.KAGGLE_TAPS_INPUT, index=False)"
   ]
  },
  {
   "cell_type": "markdown",
   "metadata": {},
   "source": [
    "Load full users and taps datasets from MIT dataset"
   ]
  },
  {
   "cell_type": "code",
   "execution_count": 6,
   "metadata": {
    "collapsed": true
   },
   "outputs": [
    {
     "name": "stdout",
     "output_type": "stream",
     "text": [
      "   ID Hand Direction  HoldTime   LatencyTime  FlightTime  pressTime binIndex\n0  68    R        LR     119.4  1.401115e+12      1766.2     1.8314  (0, 90]\n1  68    L        RL     133.7  5.904000e+02       471.0     2.4218  (0, 90]\n2  68    L        LL     184.7  4.731000e+02       339.4     2.8949  (0, 90]\n3  68    L        LL     149.9  3.464000e+02       161.7     3.2413  (0, 90]\n4  68    R        LR     213.7  7.203000e+02       570.4     3.9616  (0, 90]\n   ID  Parkinsons  UPDRS\n0  11        True  14.25\n1  60       False   2.00\n2  67        True  25.25\n3  68       False   6.00\n4  70        True  26.25\n"
     ]
    }
   ],
   "source": [
    "from MITDataLoader import *\n",
    "\n",
    "if not PROCESS_DATA_FILES:\n",
    "    mit_taps = pd.read_csv(MIT_TAPS_INPUT)\n",
    "    print(\"MIT taps dataframe:\")\n",
    "    print(mit_taps.head())\n",
    "    mit_users = pd.read_csv(MIT_USERS_INPUT)\n",
    "    print(\"MIT users dataframe:\")\n",
    "    print(mit_users.head())\n",
    "\n",
    "else:\n",
    "    mit_users = pd.read_csv(USERS, delimiter=',', header=0, error_bad_lines=False,\n",
    "                            low_memory=False, usecols=[\"pID\", \"gt\", \"updrs108\", \"file_1\", \"file_2\"])\n",
    "    \n",
    "    mit_taps = create_merged_taps_dataframe()\n",
    "    print(\"MIT taps initial dataframe:\")\n",
    "    print(mit_taps.head())\n",
    "    mit_taps = clean_errors_and_bad_values(mit_taps)\n",
    "    "
   ]
  },
  {
   "cell_type": "markdown",
   "metadata": {},
   "source": [
    "Calculate time bins and build final dataframe"
   ]
  },
  {
   "cell_type": "code",
   "execution_count": null,
   "metadata": {},
   "outputs": [],
   "source": [
    "if PROCESS_DATA_FILES:\n",
    "\n",
    "    # Group to bin indexes by pressTime and add as a new column\n",
    "    bin_size_seconds = 90\n",
    "    max_press = (int(max(mit_taps[\"pressTime\"]) / bin_size_seconds) + 1) * bin_size_seconds + 1\n",
    "    user_bins = [i for i in range(0, max_press, bin_size_seconds)]\n",
    "    mit_taps[\"binIndex\"] = pd.cut(mit_taps[\"pressTime\"], user_bins)\n"
   ]
  },
  {
   "cell_type": "markdown",
   "metadata": {},
   "source": [
    "Filter outlier"
   ]
  },
  {
   "cell_type": "code",
   "execution_count": null,
   "metadata": {},
   "outputs": [],
   "source": [
    "if PROCESS_DATA_FILES:\n",
    "    \n",
    "    def plot_percentile(df, column, start, end, bins):\n",
    "        X = np.linspace(start, end, bins)\n",
    "        Y = [np.percentile(df[column], x) for x in X]\n",
    "        plt.plot(X, Y)\n",
    "        plt.title(column + \" Percentiles\")\n",
    "        plt.xlabel(\"Percent\")\n",
    "        plt.ylabel(\"Percentile Value\")\n",
    "        plt.show()\n",
    "    \n",
    "    \n",
    "    def filter_column_by_quantile(df, column, threshold):\n",
    "        len_before = len(df)\n",
    "        df = df[df[column] < np.percentile(df[column], threshold)]\n",
    "        len_after = len(df)\n",
    "        print(\"Filtered out {} rows with outliers in column '{}'\".format((len_before - len_after), column))\n",
    "        return df\n",
    "    \n",
    "    \n",
    "    if SHOW_PLOTS:\n",
    "        for col in list(set(FLOAT_COLUMNS) - {\"pressTime\"}):\n",
    "            plot_percentile(mit_taps, col, 98, 99.9999, 40)\n",
    "    \n",
    "    # Filter according to the results in the plots\n",
    "    mit_taps = filter_column_by_quantile(mit_taps, \"HoldTime\", 99.99)\n",
    "    mit_taps = filter_column_by_quantile(mit_taps, \"LatencyTime\", 99.4)\n",
    "    mit_taps = filter_column_by_quantile(mit_taps, \"FlightTime\", 99.95)\n"
   ]
  },
  {
   "cell_type": "markdown",
   "metadata": {},
   "source": [
    "Save final dataframe"
   ]
  },
  {
   "cell_type": "code",
   "execution_count": null,
   "metadata": {},
   "outputs": [],
   "source": [
    "if PROCESS_DATA_FILES:\n",
    "\n",
    "    # Save to file - Taps file\n",
    "    mit_taps[[\"HoldTime\", \"LatencyTime\", \"FlightTime\"]] = \\\n",
    "        1000 * mit_taps[[\"HoldTime\", \"LatencyTime\", \"FlightTime\"]]  # to milliseconds\n",
    "    print(\"MIT taps final dataframe:\")\n",
    "    print(mit_taps.head())\n",
    "    \n",
    "    mit_taps.to_csv(MIT_TAPS_INPUT, index=False)\n",
    "    \n",
    "    # Save to file - Users file\n",
    "    mit_users.rename(columns={'pID': 'ID', 'gt': 'Parkinsons', 'updrs108': 'UPDRS'}, inplace=True)\n",
    "    mit_users = mit_users[['ID', 'Parkinsons', 'UPDRS']]\n",
    "    print(\"MIT users dataframe:\")\n",
    "    print(mit_users.head())\n",
    "    \n",
    "    mit_users.to_csv(MIT_USERS_INPUT, index=False)"
   ]
  },
  {
   "cell_type": "markdown",
   "metadata": {},
   "source": [
    "#Feature Creation"
   ]
  },
  {
   "cell_type": "markdown",
   "metadata": {},
   "source": [
    "##1.Creating features from the Kaggle data set, according to the first method:"
   ]
  },
  {
   "cell_type": "code",
   "execution_count": 5,
   "metadata": {},
   "outputs": [],
   "source": [
    ""
   ]
  },
  {
   "cell_type": "code",
   "execution_count": 8,
   "metadata": {},
   "outputs": [
    {
     "name": "stdout",
     "output_type": "stream",
     "text": [
      "   Unnamed: 0          ID  L_FlightTime_mean  L_FlightTime_std  \\\n0           0  0EA27ICBLF         239.655394        107.822976   \n1           1  0QAZFRHQHW         319.277429        162.896291   \n2           2  1HOEBIGASW         386.722581        175.209404   \n3           3  1XNJCXS3EY         226.013786         85.352172   \n4           4  2JTCBKUP8T         265.411441        160.215877   \n\n   L_FlightTime_kurtosis  L_FlightTime_skew  L_FlightTime_entropy  \\\n0              -1.263192          -0.032858             11.148338   \n1              -0.659685           0.361020              6.322468   \n2              -0.927794          -0.326568              3.319654   \n3              -0.493719          -0.125464              6.045913   \n4              -0.093353           0.540118              8.959632   \n\n   L_FlightTime_percnt10  L_FlightTime_percnt20  L_FlightTime_percnt40  \\\n0                   93.8                  125.0                 203.10   \n1                  117.2                  171.9                 253.52   \n2                  132.8                  187.5                 365.20   \n3                  113.3                  156.3                 203.10   \n4                   54.7                  117.2                 214.80   \n\n      ...      DiagnosisYear  Gender  Impact  Levadopa   MAOB  Other  \\\n0     ...               2000  Female  Severe      True  False  False   \n1     ...             ------  Female  ------     False  False  False   \n2     ...             ------    Male  ------     False  False  False   \n3     ...             ------    Male  ------     False  False  False   \n4     ...               2013    Male  Medium      True  False  False   \n\n   Parkinsons  Sided  Tremors       UPDRS  \n0        True   Left     True  Don't know  \n1       False   None    False  Don't know  \n2       False   None    False  Don't know  \n3       False   None    False  Don't know  \n4        True  Right     True  Don't know  \n\n[5 rows x 235 columns]\n"
     ]
    }
   ],
   "source": [
    "# For every patient, calculate summary statistics for all of their data, partitioned into Left/Right, \n",
    "# and LR/RL/LL/RR transitions: \n",
    "\n",
    "if CALCULATE_FEATURES:\n",
    "    method1_features = create_summary_statistics(kaggle_taps,\n",
    "                                                 columns_to_aggregate=[\"FlightTime\", \"HoldTime\", \"LatencyTime\"],\n",
    "                                                 aggregation_functions=[np.mean, np.std, stats.kurtosis, stats.skew,\n",
    "                                                            stats.entropy, percnt10, percnt20, percnt40, percnt60, percnt70,\n",
    "                                                            percnt80, percnt90])\n",
    "    # Add a feature of the mean-diff between Left and Right HoldTimes, and Between LR and RL LatencyTimes:\n",
    "    method1_features[\"mean_diff_L_R_HoldTime\"] = method1_features.R_HoldTime_mean - method1_features.L_HoldTime_mean\n",
    "    method1_features[\"mean_diff_LR_RL_LatencyTime\"] = method1_features.RL_LatencyTime_mean - method1_features.LR_LatencyTime_mean\n",
    "    method1_features[\"mean_diff_LL_RR_LatencyTime\"] = method1_features.LL_LatencyTime_mean - method1_features.RR_LatencyTime_mean\n",
    "    \n",
    "    # Join with the Users data:\n",
    "    method1_features = method1_features.merge(kaggle_users, on=\"ID\", how=\"left\")\n",
    "    # Dump to csv:\n",
    "    method1_features.to_csv(KAGGLE_DATA_ARTICLE_METHOD1_FEATURES)\n",
    "else:\n",
    "    method1_features = pd.read_csv(KAGGLE_DATA_ARTICLE_METHOD1_FEATURES)\n",
    "    \n",
    "print(method1_features.head())"
   ]
  },
  {
   "cell_type": "code",
   "execution_count": 9,
   "metadata": {},
   "outputs": [],
   "source": [
    "# Filter the data so that we only keep patients with plenty of tapping events, and only patients with mild Parkinsons:\n",
    "method1_features = method1_features[method1_features.total_count >= TAPS_THRESHOLD]  # take only users with more than THRESHOLD keystrokes\n",
    "method1_features = method1_features[method1_features.Levadopa == False]\n",
    "method1_features = method1_features[method1_features.Parkinsons == False | ( (method1_features.Parkinsons == True) & (method1_features.Impact == \"Mild\"))]\n"
   ]
  },
  {
   "cell_type": "markdown",
   "metadata": {},
   "source": [
    "#Modeling Phase 1: Attempting to reproduce the results from the Kaggle challenge article"
   ]
  },
  {
   "cell_type": "code",
   "execution_count": 10,
   "metadata": {},
   "outputs": [],
   "source": [
    "# The summary statistics used in the original article:\n",
    "ARTICLE_EXPLANATORY_VARIABLES =['L_HoldTime_mean', 'L_HoldTime_std', 'L_HoldTime_kurtosis', 'L_HoldTime_skew',\n",
    " 'R_HoldTime_mean', 'R_HoldTime_std', 'R_HoldTime_kurtosis', 'R_HoldTime_skew', 'LL_LatencyTime_mean', 'LL_LatencyTime_std',\n",
    " 'LL_LatencyTime_kurtosis', 'LL_LatencyTime_skew', 'LR_LatencyTime_mean', 'LR_LatencyTime_std', 'LR_LatencyTime_kurtosis',\n",
    " 'LR_LatencyTime_skew', 'RL_LatencyTime_mean', 'RL_LatencyTime_std', 'RL_LatencyTime_kurtosis', 'RL_LatencyTime_skew',\n",
    " 'RR_LatencyTime_mean', 'RR_LatencyTime_std', 'RR_LatencyTime_kurtosis', 'RR_LatencyTime_skew', 'mean_diff_LR_RL_LatencyTime',\n",
    " 'mean_diff_LL_RR_LatencyTime', 'mean_diff_L_R_HoldTime']\n",
    "\n",
    "\n"
   ]
  },
  {
   "cell_type": "markdown",
   "metadata": {},
   "source": [
    "we first construcy the freatures for the \"nqi-regression\":"
   ]
  },
  {
   "cell_type": "markdown",
   "metadata": {},
   "source": [
    "### First attempt: applying several models to the raw data with the variables used in the article, without further processing:\n"
   ]
  },
  {
   "cell_type": "code",
   "execution_count": 11,
   "metadata": {
    "collapsed": false
   },
   "outputs": [
    {
     "name": "stdout",
     "output_type": "stream",
     "text": [
      "LogisticRegression:\n\tTrain accuracy:0.7885\n\tTest accuracy (5-fold cross validation):0.4236\nRandomForestClassifier:\n\tTrain accuracy:1.0\n\tTest accuracy (5-fold cross validation):0.6327\n"
     ]
    },
    {
     "name": "stdout",
     "output_type": "stream",
     "text": [
      "AdaBoostClassifier:\n\tTrain accuracy:1.0\n\tTest accuracy (5-fold cross validation):0.52\nKNeighborsClassifier:\n\tTrain accuracy:0.6538\n\tTest accuracy (5-fold cross validation):0.5636\n"
     ]
    },
    {
     "name": "stdout",
     "output_type": "stream",
     "text": [
      "GradientBoostingClassifier:\n\tTrain accuracy:1.0\n\tTest accuracy (5-fold cross validation):0.5036\nSVC:\n\tTrain accuracy:1.0\n\tTest accuracy (5-fold cross validation):0.6364\n"
     ]
    }
   ],
   "source": [
    "X = method1_features[ARTICLE_EXPLANATORY_VARIABLES]\n",
    "y = method1_features[\"Parkinsons\"]\n",
    "classifiers = [LogisticRegression(),\n",
    "               RandomForestClassifier(),\n",
    "               AdaBoostClassifier(),\n",
    "               KNeighborsClassifier(),\n",
    "               GradientBoostingClassifier(),\n",
    "               SVC(kernel='rbf', probability=True),\n",
    "               ]\n",
    "for final_classifier in classifiers:\n",
    "    accuracy = evaluate_classifier_cv(final_classifier, X, y, cross_validation_folds=5)\n",
    "    print(str(final_classifier).split(\"(\")[0] + \":\")\n",
    "    print(\"\\t\"+accuracy.train)\n",
    "    print(\"\\t\" + accuracy.test)"
   ]
  },
  {
   "cell_type": "markdown",
   "metadata": {},
   "source": [
    "we can see that all models are highly overfitted, and do not perform well."
   ]
  },
  {
   "cell_type": "markdown",
   "metadata": {},
   "source": [
    "### Second attempt: normalize the data and apply PCA dimensionality reduction"
   ]
  },
  {
   "cell_type": "code",
   "execution_count": 12,
   "metadata": {},
   "outputs": [],
   "source": [
    "scaler = StandardScaler()\n",
    "normalized_X = scaler.fit_transform(X)"
   ]
  },
  {
   "cell_type": "code",
   "execution_count": 77,
   "metadata": {},
   "outputs": [
    {
     "data": {
      "image/png": "[encoded data removed]",
      "text/plain": [
       "<Figure size 1296x360 with 3 Axes>"
      ]
     },
     "metadata": {},
     "output_type": "display_data"
    }
   ],
   "source": [
    "# Visualizing the data in 3d, 2d and 1d after PCA:\n",
    "\n",
    "pca = PCA(n_components=1)\n",
    "reduced_X = pca.fit_transform(normalized_X)\n",
    "_1d_res = get_labeled_data_1d(reduced_X, y)\n",
    "\n",
    "pca = PCA(n_components=2)\n",
    "reduced_X = pca.fit_transform(normalized_X)\n",
    "_2d_res = get_labeled_data_2d(reduced_X, y)\n",
    "\n",
    "pca = PCA(n_components=3)\n",
    "reduced_X = pca.fit_transform(normalized_X)\n",
    "_3d_res = get_labeled_data_3d(reduced_X, y)\n",
    "\n",
    "plot_dimensionality_reduction(_1d_res, _2d_res, _3d_res)"
   ]
  },
  {
   "cell_type": "code",
   "execution_count": 19,
   "metadata": {},
   "outputs": [
    {
     "data": {
      "text/plain": [
       "[<matplotlib.lines.Line2D at 0x1585795d6d8>]"
      ]
     },
     "execution_count": 19,
     "metadata": {},
     "output_type": "execute_result"
    },
    {
     "data": {
      "image/png": "[encoded data removed]",
      "text/plain": [
       "<Figure size 432x288 with 1 Axes>"
      ]
     },
     "metadata": {},
     "output_type": "display_data"
    }
   ],
   "source": [
    "original_dim = len(normalized_X[0])\n",
    "tested_dimensions = []\n",
    "accuracies = []\n",
    "for dim in [i for i in range(1, original_dim+1)]:\n",
    "    if dim != original_dim:\n",
    "        pca = PCA(n_components=dim)\n",
    "        reduced_X = pca.fit_transform(normalized_X, y.values)\n",
    "    else:\n",
    "        reduced_X = normalized_X\n",
    "    best_accuracy = namedtuple(\"best_accuracy\", \"clf_name test_accuracy train_accuracy\")\n",
    "    best_accuracy.test_accuracy = -1  #init\n",
    "    for clf in classifiers:\n",
    "        accuracy = evaluate_classifier_cv(clf, reduced_X, y, cross_validation_folds=10)\n",
    "        if accuracy.test_score > best_accuracy.test_accuracy:\n",
    "            best_accuracy.test_accuracy = accuracy.test_score\n",
    "            best_accuracy.clf_name = str(clf).split(\"(\")[0]\n",
    "    tested_dimensions.append(dim)\n",
    "    accuracies.append(best_accuracy.test_accuracy)\n",
    "plt.title(\"Best test accuracy by dimension (reduction with PCA)\")\n",
    "plt.xlabel(\"Dimension\")\n",
    "plt.ylabel(\"Test accuracy rate\")\n",
    "plt.plot(tested_dimensions, accuracies)\n"
   ]
  },
  {
   "cell_type": "markdown",
   "metadata": {},
   "source": [
    "We can see that PCA dimensionality reduction does not improve prformance."
   ]
  },
  {
   "cell_type": "markdown",
   "metadata": {},
   "source": [
    "We can see that the above method works well, providing similar results to those described in the article (our result lie within the CI of the AUC achieved in the Nature article).\n",
    "We've tested some other approaches, and found the following to be more effective - we use a large forest of boosted regression trees onstead of the support-vector regression ensemble:"
   ]
  },
  {
   "cell_type": "code",
   "execution_count": 18,
   "metadata": {},
   "outputs": [
    {
     "name": "stdout",
     "output_type": "stream",
     "text": [
      "best AUC after LDA dimensionality reduction: 0.7166666666666667  (by model: LogisticRegression)\n"
     ]
    },
    {
     "name": "stderr",
     "output_type": "stream",
     "text": [
      "C:\\Python36\\lib\\site-packages\\sklearn\\utils\\validation.py:578: DataConversionWarning: A column-vector y was passed when a 1d array was expected. Please change the shape of y to (n_samples, ), for example using ravel().\n  y = column_or_1d(y, warn=True)\nC:\\Python36\\lib\\site-packages\\sklearn\\discriminant_analysis.py:388: UserWarning: Variables are collinear.\n  warnings.warn(\"Variables are collinear.\")\nC:\\Users\\yoav1\\PycharmProjects\\Parkinsons\\auxiliary_functions.py:27: DataConversionWarning: A column-vector y was passed when a 1d array was expected. Please change the shape of y to (n_samples,), for example using ravel().\n  model.fit(train_X, train_y)\nC:\\Python36\\lib\\site-packages\\sklearn\\utils\\validation.py:578: DataConversionWarning: A column-vector y was passed when a 1d array was expected. Please change the shape of y to (n_samples, ), for example using ravel().\n  y = column_or_1d(y, warn=True)\nC:\\Users\\yoav1\\PycharmProjects\\Parkinsons\\auxiliary_functions.py:27: DataConversionWarning: A column-vector y was passed when a 1d array was expected. Please change the shape of y to (n_samples, ), for example using ravel().\n  model.fit(train_X, train_y)\nC:\\Python36\\lib\\site-packages\\sklearn\\utils\\validation.py:578: DataConversionWarning: A column-vector y was passed when a 1d array was expected. Please change the shape of y to (n_samples, ), for example using ravel().\n  y = column_or_1d(y, warn=True)\n"
     ]
    }
   ],
   "source": [
    "# Apply LDA dim-reduction and scaling to the data, and randomly split test and train sets:\n",
    "\n",
    "# TODO: this section and the next one have very variable results (some runs even get AUC of 0.8...). maybe use K-fold-CV to reduce variance.\n",
    "\n",
    "\n",
    "train_X, train_y, test_X, test_y = split_to_train_test_and_apply_scaling_and_lda_dim_reduction(X, y, \n",
    "                                                                                               train_percentage=0.7)\n",
    "\n",
    "# Fit several models, and find the best one by AUC measure:\n",
    "best_auc, best_clf = get_best_roc(classifiers, train_X, train_y, test_X, test_y)\n",
    "print(\"best AUC after LDA dimensionality reduction:\", best_auc, \" (by model: {})\".format(type(best_clf).__name__))"
   ]
  },
  {
   "cell_type": "markdown",
   "metadata": {},
   "source": [
    "It is evident that neither technique of dimensionaliy reduction improves performance. \n",
    "We now explore adding additional predictors, specifically calculating percentles of the HoldTime and LatencyTime, trying to better describe the distribution of these measures for each patient:"
   ]
  },
  {
   "cell_type": "code",
   "execution_count": 19,
   "metadata": {},
   "outputs": [
    {
     "name": "stdout",
     "output_type": "stream",
     "text": [
      "best AUC with additional variables: 0.6875  (by model: LogisticRegression)\n"
     ]
    },
    {
     "name": "stderr",
     "output_type": "stream",
     "text": [
      "C:\\Python36\\lib\\site-packages\\sklearn\\utils\\validation.py:578: DataConversionWarning: A column-vector y was passed when a 1d array was expected. Please change the shape of y to (n_samples, ), for example using ravel().\n  y = column_or_1d(y, warn=True)\nC:\\Python36\\lib\\site-packages\\sklearn\\discriminant_analysis.py:388: UserWarning: Variables are collinear.\n  warnings.warn(\"Variables are collinear.\")\nC:\\Users\\yoav1\\PycharmProjects\\Parkinsons\\auxiliary_functions.py:27: DataConversionWarning: A column-vector y was passed when a 1d array was expected. Please change the shape of y to (n_samples,), for example using ravel().\n  model.fit(train_X, train_y)\nC:\\Python36\\lib\\site-packages\\sklearn\\utils\\validation.py:578: DataConversionWarning: A column-vector y was passed when a 1d array was expected. Please change the shape of y to (n_samples, ), for example using ravel().\n  y = column_or_1d(y, warn=True)\nC:\\Users\\yoav1\\PycharmProjects\\Parkinsons\\auxiliary_functions.py:27: DataConversionWarning: A column-vector y was passed when a 1d array was expected. Please change the shape of y to (n_samples, ), for example using ravel().\n  model.fit(train_X, train_y)\nC:\\Python36\\lib\\site-packages\\sklearn\\utils\\validation.py:578: DataConversionWarning: A column-vector y was passed when a 1d array was expected. Please change the shape of y to (n_samples, ), for example using ravel().\n  y = column_or_1d(y, warn=True)\n"
     ]
    }
   ],
   "source": [
    "PERCENTILES = [c for c in method1_features.columns.values if \"perc\" in c and \"FlightTime\" not in c]\n",
    "X = method1_features[ARTICLE_EXPLANATORY_VARIABLES + PERCENTILES]\n",
    "y = method1_features[\"Parkinsons\"]\n",
    "\n",
    "train_X, train_y, test_X, test_y = split_to_train_test_and_apply_scaling_and_lda_dim_reduction(X, y, \n",
    "                                                                                               train_percentage=0.7)\n",
    "# Fit several models, and find the best one by AUC measure:\n",
    "best_auc, best_clf = get_best_roc(classifiers, train_X, train_y, test_X, test_y)\n",
    "print(\"best AUC with additional variables:\", best_auc, \" (by model: {})\".format(type(best_clf).__name__))"
   ]
  },
  {
   "cell_type": "markdown",
   "metadata": {},
   "source": [
    "We now continue to follow the method descdribed in the article, by partitioning the data into two groups, Hold variables and Latency variables (depending on the orignal column they were created by). \n",
    "We then assign a Parkinson's probability using each group seperately, and output a final probability as a weighted average of these two probabilities."
   ]
  },
  {
   "cell_type": "code",
   "execution_count": 20,
   "metadata": {
    "collapsed": true
   },
   "outputs": [
    {
     "name": "stdout",
     "output_type": "stream",
     "text": [
      "Test AUC: 0.5326984126984128\nTest Accuracy: 0.49818181818181817\n"
     ]
    }
   ],
   "source": [
    "from TwoGroupsWeightedModel import TwoGroupsWeightedModel\n",
    "import warnings\n",
    "\n",
    "ALL_VARIABLES = ARTICLE_EXPLANATORY_VARIABLES\n",
    "HOLD_VARIABLES = [v for v in ALL_VARIABLES if \"HoldTime\" in v]\n",
    "LATENCY_VARIABLES = [v for v in ALL_VARIABLES if \"LatencyTime\" in v]\n",
    "\n",
    "voting_ensemble = VotingClassifier(estimators=[\n",
    "                                    ('1', RandomForestClassifier()),\n",
    "                                    ('2', SVC(probability=True)),\n",
    "                                    ('3', MLPClassifier()),\n",
    "                                    ('4', LogisticRegression()),\n",
    "                                    ('5', NuSVC(probability=True)),\n",
    "                                    ('6', KNeighborsClassifier()),\n",
    "                                    ('7', DecisionTreeClassifier()),\n",
    "                                    ('8', QuadraticDiscriminantAnalysis())\n",
    "                                  ],\n",
    "                        voting='soft')\n",
    "\n",
    "\n",
    "def weighting_function(hold_probs, latency_probs):\n",
    "    \"\"\"\n",
    "    These are the weights described in the article. We note that this weighting can yield probs > 1, and therefore is not optimal. \n",
    "    We've tried other weightings as well, with no significant improvement.\n",
    "    \"\"\"\n",
    "    return (hold_probs + 0.5*(1-1.2) + 1.2*latency_probs)/2.0\n",
    "\n",
    "\n",
    "groups_model = TwoGroupsWeightedModel(underlying_estimator_module_and_class=\"sklearn.pipeline Pipeline\",\n",
    "                            group1_var_names=HOLD_VARIABLES,\n",
    "                            group2_var_names=LATENCY_VARIABLES,\n",
    "                             weighting_function=weighting_function,              \n",
    "                            classification_threshold=0.5,\n",
    "                            steps=[(\"normalization\", StandardScaler()),\n",
    "                                   (\"lda\", LinearDiscriminantAnalysis()),\n",
    "                                   (\"clf\", voting_ensemble)])\n",
    "\n",
    "# calculate accuracy and AUC for the groups-model, using K-fold CV:\n",
    "X = method1_features[ARTICLE_EXPLANATORY_VARIABLES]\n",
    "y = method1_features[\"Parkinsons\"]\n",
    "\n",
    "\"\"\"\n",
    "Training the model on this data results in a \"Collinear Variables\" warnings. This is true, as some of the variables have very high Pearson-correlation.\n",
    "In order to reporoduce the article findings we ignore these erros for now, and  filter warnings for the next few lines. \n",
    "\"\"\"\n",
    "warnings.filterwarnings(\"ignore\")\n",
    "test_auc = evaluate_classifier_cv(clf=groups_model, X=X, y=y, cross_validation_folds=5, scoring='roc_auc').test_score\n",
    "test_accuracy = evaluate_classifier_cv(clf=groups_model, X=X, y=y, cross_validation_folds=5, scoring='accuracy').test_score\n",
    "warnings.resetwarnings()\n",
    "\n",
    "print(\"Test AUC: {}\\nTest Accuracy: {}\".format(test_auc, test_accuracy))"
   ]
  },
  {
   "cell_type": "markdown",
   "metadata": {
    "collapsed": true
   },
   "source": [
    "Conclusion: in the above section we tried to reproduce and improve the classifying technique described in the article that inspired the Kaggle challenge. \n",
    "We believe that the the results in the aticle are not valid and non-reproducible, and we ellaborate further on this in the project document."
   ]
  },
  {
   "cell_type": "code",
   "execution_count": 73,
   "metadata": {},
   "outputs": [
    {
     "data": {
      "text/plain": [
       "pandas.core.frame.DataFrame"
      ]
     },
     "execution_count": 73,
     "metadata": {},
     "output_type": "execute_result"
    }
   ],
   "source": [
    "#Modeling Phase 2: A completely different approah, inspired by results published by a team of MIT researchers"
   ]
  },
  {
   "cell_type": "markdown",
   "metadata": {},
   "source": [
    "we first construcy the freatures for the \"nqi-regression\":"
   ]
  },
  {
   "cell_type": "code",
   "execution_count": 74,
   "metadata": {},
   "outputs": [
    {
     "name": "stderr",
     "output_type": "stream",
     "text": [
      "C:\\Users\\yoav1\\PycharmProjects\\Parkinsons\\nqi_feature_creation_functions.py:22: RuntimeWarning: invalid value encountered in double_scalars\n  return (second_quartile - first_quartile)/(third_quartile - first_quartile)\n"
     ]
    }
   ],
   "source": [
    "from nqi_feature_creation_functions import *\n",
    "MIN_PRESSES_PER_BUCKET_THRESHOLD = 0 # Filtering on count didn't prove usefull.\n",
    "\n",
    "# Create the NQI features for both the MIT and the Kaggle Datasets:\n",
    "if CALCULATE_FEATURES:\n",
    "    for taps_input_file_path, nqi_features_output_filepath in \\\n",
    "            zip([MIT_TAPS_INPUT, KAGGLE_TAPS_INPUT], [MIT_NQI_FEATURES, KAGGLE_NQI_FEATURES]):\n",
    "    \n",
    "        taps = pd.read_csv(taps_input_file_path)\n",
    "        grouped_taps = taps.groupby([\"ID\", \"binIndex\"])[\"HoldTime\"].agg([agg_outliers, agg_iqr, agg_histogram_bin0, agg_histogram_bin1,\n",
    "                                                            agg_histogram_bin2, agg_histogram_bin3, np.count_nonzero])\n",
    "        t = taps.groupby([\"ID\", \"binIndex\"])[\"FlightTime\"].agg([np.mean, np.std]).reset_index()\n",
    "        nqi_calculator_input = grouped_taps.reset_index()\n",
    "        nqi_calculator_input = nqi_calculator_input.merge(t, on=[\"ID\",\"binIndex\"])\n",
    "        nqi_calculator_input = nqi_calculator_input.rename(columns={\"FlightTime\": \"mean_flight\"})\n",
    "    \n",
    "        nqi_calculator_input = nqi_calculator_input[nqi_calculator_input.count_nonzero > MIN_PRESSES_PER_BUCKET_THRESHOLD]\n",
    "    \n",
    "        nqi_calculator_input.to_csv(nqi_features_output_filepath, index=False)"
   ]
  },
  {
   "cell_type": "code",
   "execution_count": 86,
   "metadata": {},
   "outputs": [
    {
     "name": "stdout",
     "output_type": "stream",
     "text": [
      "   ID    binIndex  agg_outliers   agg_iqr  agg_histogram_bin0  \\\n0  11     (0, 90]      0.018868  0.275847            0.005585   \n1  11  (180, 270]      0.018141  0.318952            0.005170   \n2  11  (270, 360]      0.027888  0.330284            0.005689   \n3  11  (360, 450]      0.028205  0.254762            0.005682   \n4  11  (450, 540]      0.011472  0.273350            0.005629   \n\n   agg_histogram_bin1  agg_histogram_bin2  agg_histogram_bin3  count_nonzero  \\\n0            0.002340            0.000075            0.000000          530.0   \n1            0.002739            0.000054            0.000036          441.0   \n2            0.002279            0.000032            0.000000          502.0   \n3            0.002297            0.000021            0.000000          390.0   \n4            0.002325            0.000046            0.000000          523.0   \n\n         mean         std  \n0  178.038113  173.574397  \n1  182.795918  226.183604  \n2  171.605578  151.724316  \n3  184.779744  226.615372  \n4  176.496176  160.113229  \n"
     ]
    }
   ],
   "source": [
    "# TODO: remove, this is in aux funcs\n",
    "def list_diff(first, second):\n",
    "    second = set(second)\n",
    "    return [item for item in first if item not in second]\n",
    "\n",
    "mit_nqi_features = pd.read_csv(MIT_NQI_FEATURES)\n",
    "mit_users = pd.read_csv(MIT_USERS_INPUT)\n",
    "\n",
    "print(mit_nqi_features.head())\n",
    "\n",
    "mit_data = mit_nqi_features.merge(mit_users, on=\"ID\").dropna().reset_index().drop(\"index\", axis=1)\n",
    "PREDICTION_COLUMNS = list_diff(mit_data.columns, [\"UPDRS\", \"Parkinsons\", 'binIndex', 'ID', 'count_nonzero'])\n",
    "\n",
    "# Split the unified MIT dataset to train and test according to ID's:\n",
    "train_mit_data = mit_data[mit_data.ID <= 100].copy()\n",
    "test_mit_data = mit_data[mit_data.ID >= 1000].copy()"
   ]
  },
  {
   "cell_type": "code",
   "execution_count": 82,
   "metadata": {},
   "outputs": [],
   "source": [
    "# We first define a function that performs the NQI-regression and subsequent classification using the regression's predictions:\n",
    "\n",
    "def nqi_regression_and_pd_classification(train_data, test_data, regression_model, final_classifier):\n",
    "    \"\"\"\n",
    "    :param train_data, test_data: a DataFrame with NQI-features and regression target ('UPDRS').\n",
    "    :param regression_model: the regression model that will be used for predicting the nqi score.\n",
    "    :param final_classifier: the classification model that will be used for predicting Parkinson's/no-Parkinson's based on the predicted nqi score.\n",
    "    :return: the test AUC of the final model, that uses the predicted-nqi in order to predict Parkinson's.\n",
    "    \"\"\"\n",
    "    scaler = StandardScaler()\n",
    "    min_max_scaler = MinMaxScaler(feature_range=(0, 1))  # We use this to scale the UPDRS target to the [0,1] interval.\n",
    "    \n",
    "    train_X = train_data[PREDICTION_COLUMNS]\n",
    "    train_y = train_data[\"UPDRS\"]\n",
    "    \n",
    "    train_X = pd.DataFrame(scaler.fit_transform(train_X))\n",
    "    train_y = min_max_scaler.fit_transform(train_y.values.reshape(-1,1))\n",
    "    \n",
    "    test_X = test_data[PREDICTION_COLUMNS]\n",
    "    test_X = pd.DataFrame(scaler.transform(test_X))\n",
    "    regression_model.fit(X=train_X, y=np.ravel(train_y))\n",
    "\n",
    "    train_nqi_predictions = regression_model.predict(train_X)\n",
    "    train_data[\"predicted_nqi\"] = train_nqi_predictions\n",
    "    # calculate the average predicted-nqi per training patient:\n",
    "    train_final_df = train_data.groupby(\"ID\")[\"Parkinsons\", \"predicted_nqi\"].mean().reset_index()\n",
    "\n",
    "    # predict nqi for every subject in the test-set (as mean of predicted nqi of all the subject's time-windows):\n",
    "    test_nqi_predictions = regression_model.predict(test_X)\n",
    "    test_data[\"predicted_nqi\"] = test_nqi_predictions\n",
    "    test_final_df = test_data.groupby(\"ID\")[\"Parkinsons\", \"predicted_nqi\"].mean().reset_index()\n",
    "\n",
    "    # Use the result of the nqi-regression, to predict Parkinsons. To do so, we use another classification model (different models yield similar ersults):\n",
    "    \n",
    "    final_classifier.fit(train_final_df[\"predicted_nqi\"].values.reshape(-1, 1), train_final_df[\"Parkinsons\"])\n",
    "\n",
    "    predicted_test_probs = final_classifier.predict_proba(test_final_df[\"predicted_nqi\"].values.reshape(-1, 1))[:, 1]\n",
    "    test_set_auc = roc_auc_score(y_true=test_final_df[\"Parkinsons\"], y_score=predicted_test_probs)\n",
    "    result = namedtuple('result', 'test_auc y_true y_predicted')\n",
    "    result.test_auc, result.y_true, result.y_predicted  = test_set_auc, test_final_df[\"Parkinsons\"], predicted_test_probs\n",
    "    \n",
    "    return result "
   ]
  },
  {
   "cell_type": "code",
   "execution_count": 87,
   "metadata": {
    "collapsed": true
   },
   "outputs": [
    {
     "name": "stdout",
     "output_type": "stream",
     "text": [
      "Test AUC using support-vector regression: 0.7444444444444444\n"
     ]
    }
   ],
   "source": [
    "# We now apply the nqi regression procedure using a bagging-ensemble of 200 support-vector regressors,\n",
    "# in accordance with the original research, and use logistic regression as the final classifeir:\n",
    "\n",
    "sv_regression_ensemble = BaggingRegressor(base_estimator=SVR(),\n",
    "                                n_estimators=200,\n",
    "                                bootstrap=True,\n",
    "                                n_jobs=1)\n",
    "\n",
    "nqi_regression_on_mit_data_with_sv_regression_results = nqi_regression_and_pd_classification(train_mit_data, test_mit_data,\n",
    "                                                regression_model=sv_regression_ensemble,\n",
    "                                                final_classifier=LogisticRegression()\n",
    "                                                )\n",
    "test_auc = nqi_regression_on_mit_data_with_sv_regression_results.test_auc\n",
    "print(\"Test AUC using support-vector regression: {}\".format(test_auc))"
   ]
  },
  {
   "cell_type": "markdown",
   "metadata": {},
   "source": [
    "We can see that the above method works well, providing similar results to those described in the article (our result lie within the CI of the AUC achieved in the Nature article).\n",
    "We've tested some other approaches, and found the following to be more effective - we use a large forest of boosted regression trees onstead of the support-vector regression ensemble:"
   ]
  },
  {
   "cell_type": "code",
   "execution_count": 88,
   "metadata": {},
   "outputs": [
    {
     "name": "stdout",
     "output_type": "stream",
     "text": [
      "Test AUC using gb-tree regression: 0.8388888888888889\n"
     ]
    }
   ],
   "source": [
    "gbt_regression_ensemble = GradientBoostingRegressor(n_estimators=1000)\n",
    "\n",
    "nqi_regression_on_mit_data_with_gbt_regression_results = nqi_regression_and_pd_classification(train_mit_data, test_mit_data,\n",
    "                                                regression_model=gbt_regression_ensemble,\n",
    "                                                final_classifier=LogisticRegression()\n",
    "                                                )\n",
    "print(\"Test AUC using gb-tree regression: {}\".format(nqi_regression_on_mit_data_with_gbt_regression_results.test_auc))"
   ]
  },
  {
   "cell_type": "markdown",
   "metadata": {},
   "source": [
    ""
   ]
  },
  {
   "cell_type": "code",
   "execution_count": 119,
   "metadata": {},
   "outputs": [
    {
     "name": "stdout",
     "output_type": "stream",
     "text": [
      "Fitting 3 folds for each of 1296 candidates, totalling 3888 fits\n"
     ]
    },
    {
     "ename": "KeyboardInterrupt",
     "evalue": "",
     "traceback": [
      "\u001b[1;31m---------------------------------------------------------------------------\u001b[0m",
      "\u001b[1;31mKeyboardInterrupt\u001b[0m                         Traceback (most recent call last)",
      "\u001b[1;32m<ipython-input-119-4c3a556ef628>\u001b[0m in \u001b[0;36m<module>\u001b[1;34m()\u001b[0m\n\u001b[0;32m     13\u001b[0m \u001b[1;33m\u001b[0m\u001b[0m\n\u001b[0;32m     14\u001b[0m \u001b[0mgrid_searcher\u001b[0m \u001b[1;33m=\u001b[0m \u001b[0mGridSearchCV\u001b[0m\u001b[1;33m(\u001b[0m\u001b[0mgbt_regression_ensemble\u001b[0m\u001b[1;33m,\u001b[0m \u001b[0mparam_grid\u001b[0m\u001b[1;33m=\u001b[0m\u001b[0mparam_space\u001b[0m\u001b[1;33m,\u001b[0m \u001b[0mn_jobs\u001b[0m\u001b[1;33m=\u001b[0m\u001b[1;33m-\u001b[0m\u001b[1;36m1\u001b[0m\u001b[1;33m,\u001b[0m \u001b[0mcv\u001b[0m\u001b[1;33m=\u001b[0m\u001b[1;36m3\u001b[0m\u001b[1;33m,\u001b[0m \u001b[0mverbose\u001b[0m\u001b[1;33m=\u001b[0m\u001b[1;36m2\u001b[0m\u001b[1;33m,\u001b[0m \u001b[0mscoring\u001b[0m\u001b[1;33m=\u001b[0m\u001b[1;34m\"r2\"\u001b[0m\u001b[1;33m)\u001b[0m\u001b[1;33m\u001b[0m\u001b[0m\n\u001b[1;32m---> 15\u001b[1;33m \u001b[0mgrid_searcher\u001b[0m\u001b[1;33m.\u001b[0m\u001b[0mfit\u001b[0m\u001b[1;33m(\u001b[0m\u001b[0mX\u001b[0m\u001b[1;33m=\u001b[0m\u001b[0mtrain_X\u001b[0m\u001b[1;33m,\u001b[0m \u001b[0my\u001b[0m\u001b[1;33m=\u001b[0m\u001b[0mnp\u001b[0m\u001b[1;33m.\u001b[0m\u001b[0mravel\u001b[0m\u001b[1;33m(\u001b[0m\u001b[0mtrain_y\u001b[0m\u001b[1;33m)\u001b[0m\u001b[1;33m)\u001b[0m\u001b[1;33m\u001b[0m\u001b[0m\n\u001b[0m\u001b[0;32m     16\u001b[0m \u001b[0mprint\u001b[0m\u001b[1;33m(\u001b[0m\u001b[1;34m\"Best params:\\n\"\u001b[0m\u001b[1;33m,\u001b[0m \u001b[0mgrid_searcher\u001b[0m\u001b[1;33m.\u001b[0m\u001b[0mbest_params_\u001b[0m\u001b[1;33m)\u001b[0m\u001b[1;33m\u001b[0m\u001b[0m\n\u001b[0;32m     17\u001b[0m \u001b[0mgbt_regression_ensemble\u001b[0m\u001b[1;33m.\u001b[0m\u001b[0mset_params\u001b[0m\u001b[1;33m(\u001b[0m\u001b[0mgrid_searcher\u001b[0m\u001b[1;33m.\u001b[0m\u001b[0mbest_params_\u001b[0m\u001b[1;33m)\u001b[0m\u001b[1;33m\u001b[0m\u001b[0m\n",
      "\u001b[1;32mC:\\Python36\\lib\\site-packages\\sklearn\\model_selection\\_search.py\u001b[0m in \u001b[0;36mfit\u001b[1;34m(self, X, y, groups, **fit_params)\u001b[0m\n\u001b[0;32m    637\u001b[0m                                   error_score=self.error_score)\n\u001b[0;32m    638\u001b[0m           for parameters, (train, test) in product(candidate_params,\n\u001b[1;32m--> 639\u001b[1;33m                                                    cv.split(X, y, groups)))\n\u001b[0m\u001b[0;32m    640\u001b[0m \u001b[1;33m\u001b[0m\u001b[0m\n\u001b[0;32m    641\u001b[0m         \u001b[1;31m# if one choose to see train score, \"out\" will contain train score info\u001b[0m\u001b[1;33m\u001b[0m\u001b[1;33m\u001b[0m\u001b[0m\n",
      "\u001b[1;32mC:\\Python36\\lib\\site-packages\\sklearn\\externals\\joblib\\parallel.py\u001b[0m in \u001b[0;36m__call__\u001b[1;34m(self, iterable)\u001b[0m\n\u001b[0;32m    787\u001b[0m                 \u001b[1;31m# consumption.\u001b[0m\u001b[1;33m\u001b[0m\u001b[1;33m\u001b[0m\u001b[0m\n\u001b[0;32m    788\u001b[0m                 \u001b[0mself\u001b[0m\u001b[1;33m.\u001b[0m\u001b[0m_iterating\u001b[0m \u001b[1;33m=\u001b[0m \u001b[1;32mFalse\u001b[0m\u001b[1;33m\u001b[0m\u001b[0m\n\u001b[1;32m--> 789\u001b[1;33m             \u001b[0mself\u001b[0m\u001b[1;33m.\u001b[0m\u001b[0mretrieve\u001b[0m\u001b[1;33m(\u001b[0m\u001b[1;33m)\u001b[0m\u001b[1;33m\u001b[0m\u001b[0m\n\u001b[0m\u001b[0;32m    790\u001b[0m             \u001b[1;31m# Make sure that we get a last message telling us we are done\u001b[0m\u001b[1;33m\u001b[0m\u001b[1;33m\u001b[0m\u001b[0m\n\u001b[0;32m    791\u001b[0m             \u001b[0melapsed_time\u001b[0m \u001b[1;33m=\u001b[0m \u001b[0mtime\u001b[0m\u001b[1;33m.\u001b[0m\u001b[0mtime\u001b[0m\u001b[1;33m(\u001b[0m\u001b[1;33m)\u001b[0m \u001b[1;33m-\u001b[0m \u001b[0mself\u001b[0m\u001b[1;33m.\u001b[0m\u001b[0m_start_time\u001b[0m\u001b[1;33m\u001b[0m\u001b[0m\n",
      "\u001b[1;32mC:\\Python36\\lib\\site-packages\\sklearn\\externals\\joblib\\parallel.py\u001b[0m in \u001b[0;36mretrieve\u001b[1;34m(self)\u001b[0m\n\u001b[0;32m    697\u001b[0m             \u001b[1;32mtry\u001b[0m\u001b[1;33m:\u001b[0m\u001b[1;33m\u001b[0m\u001b[0m\n\u001b[0;32m    698\u001b[0m                 \u001b[1;32mif\u001b[0m \u001b[0mgetattr\u001b[0m\u001b[1;33m(\u001b[0m\u001b[0mself\u001b[0m\u001b[1;33m.\u001b[0m\u001b[0m_backend\u001b[0m\u001b[1;33m,\u001b[0m \u001b[1;34m'supports_timeout'\u001b[0m\u001b[1;33m,\u001b[0m \u001b[1;32mFalse\u001b[0m\u001b[1;33m)\u001b[0m\u001b[1;33m:\u001b[0m\u001b[1;33m\u001b[0m\u001b[0m\n\u001b[1;32m--> 699\u001b[1;33m                     \u001b[0mself\u001b[0m\u001b[1;33m.\u001b[0m\u001b[0m_output\u001b[0m\u001b[1;33m.\u001b[0m\u001b[0mextend\u001b[0m\u001b[1;33m(\u001b[0m\u001b[0mjob\u001b[0m\u001b[1;33m.\u001b[0m\u001b[0mget\u001b[0m\u001b[1;33m(\u001b[0m\u001b[0mtimeout\u001b[0m\u001b[1;33m=\u001b[0m\u001b[0mself\u001b[0m\u001b[1;33m.\u001b[0m\u001b[0mtimeout\u001b[0m\u001b[1;33m)\u001b[0m\u001b[1;33m)\u001b[0m\u001b[1;33m\u001b[0m\u001b[0m\n\u001b[0m\u001b[0;32m    700\u001b[0m                 \u001b[1;32melse\u001b[0m\u001b[1;33m:\u001b[0m\u001b[1;33m\u001b[0m\u001b[0m\n\u001b[0;32m    701\u001b[0m                     \u001b[0mself\u001b[0m\u001b[1;33m.\u001b[0m\u001b[0m_output\u001b[0m\u001b[1;33m.\u001b[0m\u001b[0mextend\u001b[0m\u001b[1;33m(\u001b[0m\u001b[0mjob\u001b[0m\u001b[1;33m.\u001b[0m\u001b[0mget\u001b[0m\u001b[1;33m(\u001b[0m\u001b[1;33m)\u001b[0m\u001b[1;33m)\u001b[0m\u001b[1;33m\u001b[0m\u001b[0m\n",
      "\u001b[1;32mC:\\Python36\\lib\\multiprocessing\\pool.py\u001b[0m in \u001b[0;36mget\u001b[1;34m(self, timeout)\u001b[0m\n\u001b[0;32m    636\u001b[0m \u001b[1;33m\u001b[0m\u001b[0m\n\u001b[0;32m    637\u001b[0m     \u001b[1;32mdef\u001b[0m \u001b[0mget\u001b[0m\u001b[1;33m(\u001b[0m\u001b[0mself\u001b[0m\u001b[1;33m,\u001b[0m \u001b[0mtimeout\u001b[0m\u001b[1;33m=\u001b[0m\u001b[1;32mNone\u001b[0m\u001b[1;33m)\u001b[0m\u001b[1;33m:\u001b[0m\u001b[1;33m\u001b[0m\u001b[0m\n\u001b[1;32m--> 638\u001b[1;33m         \u001b[0mself\u001b[0m\u001b[1;33m.\u001b[0m\u001b[0mwait\u001b[0m\u001b[1;33m(\u001b[0m\u001b[0mtimeout\u001b[0m\u001b[1;33m)\u001b[0m\u001b[1;33m\u001b[0m\u001b[0m\n\u001b[0m\u001b[0;32m    639\u001b[0m         \u001b[1;32mif\u001b[0m \u001b[1;32mnot\u001b[0m \u001b[0mself\u001b[0m\u001b[1;33m.\u001b[0m\u001b[0mready\u001b[0m\u001b[1;33m(\u001b[0m\u001b[1;33m)\u001b[0m\u001b[1;33m:\u001b[0m\u001b[1;33m\u001b[0m\u001b[0m\n\u001b[0;32m    640\u001b[0m             \u001b[1;32mraise\u001b[0m \u001b[0mTimeoutError\u001b[0m\u001b[1;33m\u001b[0m\u001b[0m\n",
      "\u001b[1;32mC:\\Python36\\lib\\multiprocessing\\pool.py\u001b[0m in \u001b[0;36mwait\u001b[1;34m(self, timeout)\u001b[0m\n\u001b[0;32m    633\u001b[0m \u001b[1;33m\u001b[0m\u001b[0m\n\u001b[0;32m    634\u001b[0m     \u001b[1;32mdef\u001b[0m \u001b[0mwait\u001b[0m\u001b[1;33m(\u001b[0m\u001b[0mself\u001b[0m\u001b[1;33m,\u001b[0m \u001b[0mtimeout\u001b[0m\u001b[1;33m=\u001b[0m\u001b[1;32mNone\u001b[0m\u001b[1;33m)\u001b[0m\u001b[1;33m:\u001b[0m\u001b[1;33m\u001b[0m\u001b[0m\n\u001b[1;32m--> 635\u001b[1;33m         \u001b[0mself\u001b[0m\u001b[1;33m.\u001b[0m\u001b[0m_event\u001b[0m\u001b[1;33m.\u001b[0m\u001b[0mwait\u001b[0m\u001b[1;33m(\u001b[0m\u001b[0mtimeout\u001b[0m\u001b[1;33m)\u001b[0m\u001b[1;33m\u001b[0m\u001b[0m\n\u001b[0m\u001b[0;32m    636\u001b[0m \u001b[1;33m\u001b[0m\u001b[0m\n\u001b[0;32m    637\u001b[0m     \u001b[1;32mdef\u001b[0m \u001b[0mget\u001b[0m\u001b[1;33m(\u001b[0m\u001b[0mself\u001b[0m\u001b[1;33m,\u001b[0m \u001b[0mtimeout\u001b[0m\u001b[1;33m=\u001b[0m\u001b[1;32mNone\u001b[0m\u001b[1;33m)\u001b[0m\u001b[1;33m:\u001b[0m\u001b[1;33m\u001b[0m\u001b[0m\n",
      "\u001b[1;32mC:\\Python36\\lib\\threading.py\u001b[0m in \u001b[0;36mwait\u001b[1;34m(self, timeout)\u001b[0m\n\u001b[0;32m    549\u001b[0m             \u001b[0msignaled\u001b[0m \u001b[1;33m=\u001b[0m \u001b[0mself\u001b[0m\u001b[1;33m.\u001b[0m\u001b[0m_flag\u001b[0m\u001b[1;33m\u001b[0m\u001b[0m\n\u001b[0;32m    550\u001b[0m             \u001b[1;32mif\u001b[0m \u001b[1;32mnot\u001b[0m \u001b[0msignaled\u001b[0m\u001b[1;33m:\u001b[0m\u001b[1;33m\u001b[0m\u001b[0m\n\u001b[1;32m--> 551\u001b[1;33m                 \u001b[0msignaled\u001b[0m \u001b[1;33m=\u001b[0m \u001b[0mself\u001b[0m\u001b[1;33m.\u001b[0m\u001b[0m_cond\u001b[0m\u001b[1;33m.\u001b[0m\u001b[0mwait\u001b[0m\u001b[1;33m(\u001b[0m\u001b[0mtimeout\u001b[0m\u001b[1;33m)\u001b[0m\u001b[1;33m\u001b[0m\u001b[0m\n\u001b[0m\u001b[0;32m    552\u001b[0m             \u001b[1;32mreturn\u001b[0m \u001b[0msignaled\u001b[0m\u001b[1;33m\u001b[0m\u001b[0m\n\u001b[0;32m    553\u001b[0m \u001b[1;33m\u001b[0m\u001b[0m\n",
      "\u001b[1;32mC:\\Python36\\lib\\threading.py\u001b[0m in \u001b[0;36mwait\u001b[1;34m(self, timeout)\u001b[0m\n\u001b[0;32m    293\u001b[0m         \u001b[1;32mtry\u001b[0m\u001b[1;33m:\u001b[0m    \u001b[1;31m# restore state no matter what (e.g., KeyboardInterrupt)\u001b[0m\u001b[1;33m\u001b[0m\u001b[0m\n\u001b[0;32m    294\u001b[0m             \u001b[1;32mif\u001b[0m \u001b[0mtimeout\u001b[0m \u001b[1;32mis\u001b[0m \u001b[1;32mNone\u001b[0m\u001b[1;33m:\u001b[0m\u001b[1;33m\u001b[0m\u001b[0m\n\u001b[1;32m--> 295\u001b[1;33m                 \u001b[0mwaiter\u001b[0m\u001b[1;33m.\u001b[0m\u001b[0macquire\u001b[0m\u001b[1;33m(\u001b[0m\u001b[1;33m)\u001b[0m\u001b[1;33m\u001b[0m\u001b[0m\n\u001b[0m\u001b[0;32m    296\u001b[0m                 \u001b[0mgotit\u001b[0m \u001b[1;33m=\u001b[0m \u001b[1;32mTrue\u001b[0m\u001b[1;33m\u001b[0m\u001b[0m\n\u001b[0;32m    297\u001b[0m             \u001b[1;32melse\u001b[0m\u001b[1;33m:\u001b[0m\u001b[1;33m\u001b[0m\u001b[0m\n",
      "\u001b[1;31mKeyboardInterrupt\u001b[0m: "
     ],
     "output_type": "error"
    }
   ],
   "source": [
    "# Optimize regressor parameters:\n",
    "\n",
    "train_X = train_mit_data[PREDICTION_COLUMNS]\n",
    "train_y = train_mit_data[\"UPDRS\"]\n",
    "\n",
    "param_space = {\n",
    "    'n_estimators': [100,500,1000],\n",
    "    'loss': ['ls', 'lad', 'huber', 'quantile'],\n",
    "    'learning_rate': [0.001,0.01,0.1],\n",
    "    'max_depth': [1,2,3,5,7,8],\n",
    "    'max_leaf_nodes': [None, 3, 5, 10, 50, 100]\n",
    "}\n",
    "\n",
    "grid_searcher = GridSearchCV(gbt_regression_ensemble, param_grid=param_space, n_jobs=-1, cv=3, verbose=2, scoring=\"r2\")\n",
    "grid_searcher.fit(X=train_X, y=np.ravel(train_y))\n",
    "print(\"Best params:\\n\", grid_searcher.best_params_)\n",
    "gbt_regression_ensemble.set_params(grid_searcher.best_params_)\n",
    "\n",
    "# TODO: run this, and present the auc of the optimized model. "
   ]
  },
  {
   "cell_type": "markdown",
   "metadata": {},
   "source": [
    "We will now try to evaluate the relevance of the above method to home-environment data, by training the nqi-regression model on all of the MIT data, and testing it on the Kaggle data (which is home-environment data):"
   ]
  },
  {
   "cell_type": "code",
   "execution_count": 89,
   "metadata": {
    "collapsed": false
   },
   "outputs": [
    {
     "name": "stdout",
     "output_type": "stream",
     "text": [
      "Test AUC on Kaggle data after training on MIT data: 0.4693877551020408\n"
     ]
    }
   ],
   "source": [
    "kaggle_nqi_features = pd.read_csv(KAGGLE_NQI_FEATURES)\n",
    "kaggle_users_data = pd.read_csv(KAGGLE_USERS_INPUT)\n",
    "kaggle_data = kaggle_nqi_features.merge(kaggle_users_data, on=\"ID\").dropna().reset_index().drop([\"index\"], axis=1)\n",
    "\n",
    "# Remove patients taking Levadopa or patients with non-mild Parkinson's:\n",
    "kaggle_data = kaggle_data[kaggle_data.Levadopa == False]\n",
    "kaggle_data = kaggle_data[kaggle_data.Parkinsons == False | ((kaggle_data.Parkinsons == True) & (kaggle_data.Impact == \"Mild\"))]\n",
    "\n",
    "\n",
    "# Apply nqi-regression:\n",
    "nqi_regression_on_kaggle_and_mit_data_with_gbt_regression_results = nqi_regression_and_pd_classification(train_data=mit_data, test_data=kaggle_data, \n",
    "                                     regression_model=gbt_regression_ensemble, \n",
    "                                     final_classifier=LogisticRegression())\n",
    "print(\"Test AUC on Kaggle data after training on MIT data: {}\".format(nqi_regression_on_kaggle_and_mit_data_with_gbt_regression_results.test_auc))"
   ]
  },
  {
   "cell_type": "markdown",
   "metadata": {},
   "source": [
    "We see above that the nqi-regression trained on the MIT data does not generalize well to the Kaggle data. We propose two possible explanations for this: it could be that the MIT data is fundamentally different, being collected in the lab and not at home. Another possible explanation is that the Kaggle data is corrupt (this could explain the inability to reproduce the first article)."
   ]
  },
  {
   "cell_type": "markdown",
   "metadata": {},
   "source": [
    "# TODO:\n",
    "1. Insert the left/right partition data with nqi-regression\n",
    "2. Try adding more features to nqi regression (see presentation)\n",
    "3. "
   ]
  },
  {
   "cell_type": "markdown",
   "metadata": {},
   "source": [
    ""
   ]
  },
  {
   "cell_type": "code",
   "execution_count": 64,
   "metadata": {},
   "outputs": [
    {
     "name": "stderr",
     "output_type": "stream",
     "text": [
      "C:\\Users\\yoav1\\PycharmProjects\\Parkinsons\\nqi_feature_creation_functions.py:22: RuntimeWarning: invalid value encountered in double_scalars\n  return (second_quartile - first_quartile)/(third_quartile - first_quartile)\n"
     ]
    },
    {
     "name": "stderr",
     "output_type": "stream",
     "text": [
      "C:\\Python36\\lib\\site-packages\\numpy\\lib\\function_base.py:842: RuntimeWarning: invalid value encountered in true_divide\n  return n/(n*db).sum(), bin_edges\n"
     ]
    },
    {
     "name": "stdout",
     "output_type": "stream",
     "text": [
      "NQI features with keyboard side partitions:\n['ID', 'LL_agg_histogram_bin0', 'LL_agg_histogram_bin1', 'LL_agg_histogram_bin2', 'LL_agg_histogram_bin3', 'LL_agg_iqr', 'LL_agg_outliers', 'LL_std', 'LR_agg_histogram_bin0', 'LR_agg_histogram_bin1', 'LR_agg_histogram_bin2', 'LR_agg_histogram_bin3', 'LR_agg_iqr', 'LR_agg_outliers', 'LR_std', 'L_agg_histogram_bin0', 'L_agg_histogram_bin1', 'L_agg_histogram_bin2', 'L_agg_histogram_bin3', 'L_agg_iqr', 'L_agg_outliers', 'L_std', 'RL_agg_histogram_bin0', 'RL_agg_histogram_bin1', 'RL_agg_histogram_bin2', 'RL_agg_histogram_bin3', 'RL_agg_iqr', 'RL_agg_outliers', 'RL_std', 'RR_agg_histogram_bin0', 'RR_agg_histogram_bin1', 'RR_agg_histogram_bin2', 'RR_agg_histogram_bin3', 'RR_agg_iqr', 'RR_agg_outliers', 'RR_std', 'R_agg_histogram_bin0', 'R_agg_histogram_bin1', 'R_agg_histogram_bin2', 'R_agg_histogram_bin3', 'R_agg_iqr', 'R_agg_outliers', 'R_std', 'agg_histogram_bin0', 'agg_histogram_bin1', 'agg_histogram_bin2', 'agg_histogram_bin3', 'agg_iqr', 'agg_outliers', 'binIndex', 'mean', 'std']\n"
     ]
    }
   ],
   "source": [
    "# Preparing the MIT data with measures of assymetry:\n",
    "nqi_features_with_side_partitions_data_path = create_nqi_features_from_raw_data_with_sides_partitions(MIT_TAPS_INPUT, MIT_NQI_FEATURES_SIDES_PARTITIONS)\n",
    "\n",
    "mit_nqi_features_with_sides_partition = pd.read_csv(nqi_features_with_side_partitions_data_path)\n",
    "mit_users = pd.read_csv(MIT_USERS_INPUT)\n",
    "\n",
    "print(\"NQI features with keyboard side partitions:\")\n",
    "print(sorted(mit_nqi_features_with_sides_partition.columns))\n",
    "\n",
    "mit_data_with_sides_partition = mit_nqi_features_with_sides_partition.merge(mit_users, on=\"ID\").dropna().reset_index().drop(\"index\", axis=1)\n",
    "PREDICTION_COLUMNS = list_diff(mit_data_with_sides_partition.columns, [\"UPDRS\", \"Parkinsons\", 'binIndex', 'ID', 'count_nonzero'])\n",
    "\n",
    "# Split the unified MIT dataset to train and test according to ID's:\n",
    "train_mit_data_with_sides_partitions = mit_data_with_sides_partition[mit_data_with_sides_partition.ID <= 100].copy()\n",
    "test_mit_data_with_sides_partitions = mit_data_with_sides_partition[mit_data_with_sides_partition.ID >= 1000].copy()\n"
   ]
  },
  {
   "cell_type": "code",
   "execution_count": 90,
   "metadata": {},
   "outputs": [
    {
     "name": "stdout",
     "output_type": "stream",
     "text": [
      "Test AUC on MIT with assymetry measurement features (keyboard side partitions) : 0.6464646464646465\n"
     ]
    }
   ],
   "source": [
    "nqi_regression_on_mit_data_with_assymetry_features = nqi_regression_and_pd_classification(train_data=train_mit_data_with_sides_partitions, \n",
    "                                                test_data=test_mit_data_with_sides_partitions, \n",
    "                                                regression_model=gbt_regression_ensemble, \n",
    "                                                final_classifier=LogisticRegression())\n",
    "print(\"Test AUC on MIT with assymetry measurement features (keyboard side partitions) : {}\".\n",
    "      format(nqi_regression_on_mit_data_with_assymetry_features.test_auc))"
   ]
  },
  {
   "cell_type": "markdown",
   "metadata": {},
   "source": [
    "Conclusion: our attempt to apply measuring assymetry to the process of predicting a patient UPDRS score did not improve the model over what we have previously achieved. This could be a result of the small size of our datatset, which suffers from high dimensionality when we introduce assymetry features. "
   ]
  },
  {
   "cell_type": "markdown",
   "metadata": {},
   "source": [
    ""
   ]
  },
  {
   "cell_type": "code",
   "execution_count": 27,
   "metadata": {},
   "outputs": [
    {
     "ename": "NameError",
     "evalue": "name 'nqi_regression_on_mit_data_with_assymetry_features' is not defined",
     "traceback": [
      "\u001b[1;31m---------------------------------------------------------------------------\u001b[0m",
      "\u001b[1;31mNameError\u001b[0m                                 Traceback (most recent call last)",
      "\u001b[1;32m<ipython-input-27-4cb18a390ac0>\u001b[0m in \u001b[0;36m<module>\u001b[1;34m()\u001b[0m\n\u001b[0;32m      1\u001b[0m \u001b[1;31m# Plot ROC curves for all of the above variations on the model:\u001b[0m\u001b[1;33m\u001b[0m\u001b[1;33m\u001b[0m\u001b[0m\n\u001b[1;32m----> 2\u001b[1;33m plot_multiple_roc_curves([('model with addymetry features', nqi_regression_on_mit_data_with_assymetry_features.y_true,\n\u001b[0m\u001b[0;32m      3\u001b[0m                            nqi_regression_on_mit_data_with_assymetry_features.y_predicted),                          \n\u001b[0;32m      4\u001b[0m                           ('model with gbt regressor', nqi_regression_on_mit_data_with_gbt_regression_results.y_true,\n\u001b[0;32m      5\u001b[0m                            nqi_regression_on_mit_data_with_gbt_regression_results.y_predicted),                          \n",
      "\u001b[1;31mNameError\u001b[0m: name 'nqi_regression_on_mit_data_with_assymetry_features' is not defined"
     ],
     "output_type": "error"
    }
   ],
   "source": [
    "# Plot ROC curves for all of the above variations on the model:\n",
    "plot_multiple_roc_curves([('model with addymetry features', nqi_regression_on_mit_data_with_assymetry_features.y_true,\n",
    "                           nqi_regression_on_mit_data_with_assymetry_features.y_predicted),                          \n",
    "                          ('model with gbt regressor', nqi_regression_on_mit_data_with_gbt_regression_results.y_true,\n",
    "                           nqi_regression_on_mit_data_with_gbt_regression_results.y_predicted),                          \n",
    "                          ('model with support-vector regressor', nqi_regression_on_mit_data_with_sv_regression_results.y_true,\n",
    "                           nqi_regression_on_mit_data_with_sv_regression_results.y_predicted),                          \n",
    "                          ('model trained on Kaggle data', nqi_regression_on_kaggle_and_mit_data_with_gbt_regression_results.y_true,\n",
    "                           nqi_regression_on_kaggle_and_mit_data_with_gbt_regression_results.y_predicted),                          \n",
    "                          ], \n",
    "                         title=\"ROC curves for parkinson's classification based on nqi-regression\")"
   ]
  },
  {
   "cell_type": "code",
   "execution_count": 99,
   "metadata": {},
   "outputs": [],
   "source": [
    ""
   ]
  },
  {
   "cell_type": "code",
   "execution_count": 17,
   "metadata": {},
   "outputs": [
    {
     "data": {
      "image/png": "[encoded data removed]",
      "text/plain": [
       "<Figure size 432x288 with 3 Axes>"
      ]
     },
     "metadata": {},
     "output_type": "display_data"
    }
   ],
   "source": [
    ""
   ]
  },
  {
   "cell_type": "code",
   "execution_count": 72,
   "metadata": {},
   "outputs": [],
   "source": [
    ""
   ]
  },
  {
   "cell_type": "code",
   "execution_count": null,
   "metadata": {},
   "outputs": [],
   "source": []
  },
  {
   "cell_type": "code",
   "execution_count": null,
   "metadata": {},
   "outputs": [],
   "source": []
  },
  {
   "cell_type": "code",
   "execution_count": null,
   "metadata": {},
   "outputs": [],
   "source": []
  },
  {
   "cell_type": "code",
   "execution_count": 73,
   "metadata": {},
   "outputs": [],
   "source": [
    ""
   ]
  },
  {
   "cell_type": "code",
   "execution_count": 76,
   "metadata": {},
   "outputs": [
    {
     "data": {
      "image/png": "[encoded data removed]",
      "text/plain": [
       "<Figure size 1296x360 with 3 Axes>"
      ]
     },
     "metadata": {},
     "output_type": "display_data"
    }
   ],
   "source": [
    "\n"
   ]
  },
  {
   "cell_type": "code",
   "execution_count": null,
   "metadata": {},
   "outputs": [],
   "source": []
  },
  {
   "cell_type": "code",
   "execution_count": 18,
   "metadata": {},
   "outputs": [],
   "source": [
    "def plot_labeled_data_1d(reduced_X, y, title, group_labels =(\"diagnosed\", \"not_diagnosed\"), show=False):\n",
    "    pdt = [reduced_X[i] for i in range(len(reduced_X)) if y.values[i] == True]\n",
    "    pdf = [reduced_X[i] for i in range(len(reduced_X)) if y.values[i] == False]\n",
    "    fig = plt.figure()\n",
    "    ax = fig.add_subplot()\n",
    "    a = ax.scatter(pdf, [0 for i in range(len(pdf))])\n",
    "    b = ax.scatter(pdt, [0 for i in range(len(pdt))], color=\"red\")\n",
    "    plt.title(title)\n",
    "    plt.legend([b, a], group_labels)\n",
    "    if show:\n",
    "        plt.show()\n",
    "\n",
    "\n",
    "def plot_labeled_data_2d(reduced_X, y, title, group_labels =(\"diagnosed\", \"not_diagnosed\"), show=False):\n",
    "    x1_pd_true = [reduced_X[i][0] for i in range(len(y)) if y.values[i] == True]\n",
    "    x1_pd_false = [reduced_X[i][0] for i in range(len(y)) if y.values[i] == False]\n",
    "    x2_pd_true = [reduced_X[i][1] for i in range(len(y)) if y.values[i] == True]\n",
    "    x2_pd_false = [reduced_X[i][1] for i in range(len(y)) if y.values[i] == False]\n",
    "    b = plt.scatter(x1_pd_true, x2_pd_true, color='red')\n",
    "    a = plt.scatter(x1_pd_false, x2_pd_false, color='blue')\n",
    "    plt.title(title)\n",
    "    plt.legend([b, a], group_labels)\n",
    "    if show:\n",
    "        plt.show()\n",
    "\n",
    "\n",
    "def plot_labeled_data_3d(reduced_X, y, title, group_labels =(\"diagnosed\", \"not_diagnosed\"), show=False):\n",
    "    x1_pd_true = [reduced_X[i][0] for i in range(len(y)) if y.values[i] == True]\n",
    "    x1_pd_false = [reduced_X[i][0] for i in range(len(y)) if y.values[i] == False]\n",
    "    x2_pd_true = [reduced_X[i][1] for i in range(len(y)) if y.values[i] == True]\n",
    "    x2_pd_false = [reduced_X[i][1] for i in range(len(y)) if y.values[i] == False]\n",
    "    x3_pd_true = [reduced_X[i][2] for i in range(len(y)) if y.values[i] == True]\n",
    "    x3_pd_false = [reduced_X[i][2] for i in range(len(y)) if y.values[i] == False]\n",
    "    fig = plt.figure()\n",
    "    ax = fig.add_subplot(111, projection='3d')\n",
    "    a = ax.scatter(x1_pd_false, x2_pd_false, x3_pd_false, c='blue')\n",
    "    b = ax.scatter(x1_pd_true, x2_pd_true, x3_pd_true, c='red')\n",
    "    plt.title(title)\n",
    "    plt.legend([b, a], group_labels)\n",
    "    if show:\n",
    "        plt.show()\n"
   ]
  }
 ],
 "metadata": {
  "kernelspec": {
   "display_name": "Python 2",
   "language": "python",
   "name": "python2"
  },
  "language_info": {
   "codemirror_mode": {
    "name": "ipython",
    "version": 2
   },
   "file_extension": ".py",
   "mimetype": "text/x-python",
   "name": "python",
   "nbconvert_exporter": "python",
   "pygments_lexer": "ipython2",
   "version": "2.7.6"
  }
 },
 "nbformat": 4,
 "nbformat_minor": 0
}
