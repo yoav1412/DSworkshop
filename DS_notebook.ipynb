{
 "cells": [
  {
   "cell_type": "code",
   "execution_count": 1,
   "metadata": {},
   "outputs": [],
   "source": [
    "%matplotlib inline"
   ]
  },
  {
   "cell_type": "code",
   "execution_count": 2,
   "metadata": {},
   "outputs": [],
   "source": [
    "import pandas as pd\n",
    "import numpy as np\n",
    "import warnings\n",
    "from sklearn.svm import SVC, NuSVC, SVR\n",
    "from scipy import stats\n",
    "from constants import *\n",
    "from auxiliary_functions import *\n",
    "from matplotlib import pyplot as plt\n",
    "from sklearn.model_selection import cross_validate, cross_val_score, train_test_split, KFold, StratifiedKFold, GridSearchCV\n",
    "from sklearn.preprocessing import StandardScaler, MinMaxScaler\n",
    "from sklearn.ensemble import RandomForestClassifier, GradientBoostingClassifier, GradientBoostingRegressor, VotingClassifier, AdaBoostClassifier, BaggingRegressor\n",
    "from sklearn.linear_model import LogisticRegression, SGDClassifier\n",
    "from sklearn.neighbors import KNeighborsClassifier\n",
    "from sklearn.neural_network import MLPClassifier\n",
    "from sklearn.discriminant_analysis import LinearDiscriminantAnalysis, QuadraticDiscriminantAnalysis\n",
    "from collections import namedtuple\n",
    "from sklearn.decomposition import PCA\n",
    "from os import cpu_count\n",
    "from TwoGroupsWeightedModel import TwoGroupsWeightedModel\n",
    "from sklearn.neural_network import MLPClassifier\n",
    "from sklearn.tree import DecisionTreeClassifier\n",
    "from scipy.stats import iqr, kurtosis, skew\n",
    "from create_nqi_features_with_hand_direction_partition import create_nqi_features_from_raw_data_with_sides_partitions\n",
    "from method1_feature_extraction import *\n",
    "from plots import *\n",
    "import random"
   ]
  },
  {
   "cell_type": "markdown",
   "metadata": {},
   "source": [
    "### Configuration Constants"
   ]
  },
  {
   "cell_type": "code",
   "execution_count": 3,
   "metadata": {},
   "outputs": [],
   "source": [
    "# if set to False, data will be loaded from previously processed saved files.\n",
    "# Else, it will be created from the raw data inside DATA_FOLDER/RawData.zip.\n",
    "PROCESS_DATA_FILES = True\n",
    "\n",
    "# if set to False, features will be loaded from previously saved files. Else they will be created from scratch.\n",
    "CALCULATE_FEATURES = True"
   ]
  },
  {
   "cell_type": "markdown",
   "metadata": {},
   "source": [
    "# Load Data"
   ]
  },
  {
   "cell_type": "code",
   "execution_count": 4,
   "metadata": {},
   "outputs": [],
   "source": [
    "if PROCESS_DATA_FILES:\n",
    "    from zipfile import ZipFile  \n",
    "    with ZipFile(os.path.join(DATA_FOLDER, RAW_DATA_ZIP_FILENAME)) as myzip:\n",
    "        myzip.extractall(DATA_FOLDER)"
   ]
  },
  {
   "cell_type": "markdown",
   "metadata": {},
   "source": [
    "##Load full users and taps datasets from Kaggle"
   ]
  },
  {
   "cell_type": "code",
   "execution_count": 5,
   "metadata": {},
   "outputs": [
    {
     "name": "stdout",
     "output_type": "stream",
     "text": [
      "Loading taps files: 100/622\n"
     ]
    },
    {
     "name": "stdout",
     "output_type": "stream",
     "text": [
      "Loading taps files: 200/622\n"
     ]
    },
    {
     "name": "stdout",
     "output_type": "stream",
     "text": [
      "Loading taps files: 300/622\n"
     ]
    },
    {
     "name": "stdout",
     "output_type": "stream",
     "text": [
      "Loading taps files: 400/622\n"
     ]
    },
    {
     "name": "stdout",
     "output_type": "stream",
     "text": [
      "Loading taps files: 500/622\n"
     ]
    },
    {
     "name": "stdout",
     "output_type": "stream",
     "text": [
      "Loading taps files: 600/622\n"
     ]
    },
    {
     "name": "stdout",
     "output_type": "stream",
     "text": [
      "Filtered out 386 rows with bad values in column 'HoldTime'\n"
     ]
    },
    {
     "name": "stdout",
     "output_type": "stream",
     "text": [
      "Filtered out 167 rows with bad values in column 'LatencyTime'\n"
     ]
    },
    {
     "name": "stdout",
     "output_type": "stream",
     "text": [
      "Filtered out 196 rows with bad values in column 'FlightTime'\n"
     ]
    },
    {
     "name": "stdout",
     "output_type": "stream",
     "text": [
      "Filtered out 0 rows with bad values in column 'Direction'\n"
     ]
    },
    {
     "name": "stdout",
     "output_type": "stream",
     "text": [
      "Filtered out 0 rows with bad values in column 'Hand'\n"
     ]
    },
    {
     "name": "stdout",
     "output_type": "stream",
     "text": [
      "there are 50 unique user IDs in the Tappy data with no entry in the Users file\n"
     ]
    },
    {
     "name": "stdout",
     "output_type": "stream",
     "text": [
      "Filtered out 301925 rows with bad values in column 'ID'\n"
     ]
    }
   ],
   "source": [
    "from kaggle_data_loader import *\n",
    "\n",
    "if PROCESS_DATA_FILES:\n",
    "    # Create dataframe from files, perform basic cleaning\n",
    "    kaggle_users = create_merged_users_details_file()\n",
    "    kaggle_taps = create_merged_taps_dataframe()\n",
    "    kaggle_taps = clean_bad_values(kaggle_taps)\n",
    "    kaggle_taps = clean_incompatible_user_ids(kaggle_taps, kaggle_users)"
   ]
  },
  {
   "cell_type": "markdown",
   "metadata": {},
   "source": [
    "Filter outliers"
   ]
  },
  {
   "cell_type": "code",
   "execution_count": 6,
   "metadata": {},
   "outputs": [
    {
     "data": {
      "image/png": "[encoded data removed]",
      "text/plain": [
       "<matplotlib.figure.Figure at 0x1ded121ef60>"
      ]
     },
     "metadata": {},
     "output_type": "display_data"
    },
    {
     "name": "stdout",
     "output_type": "stream",
     "text": [
      "After the percentile 99.993 we see significantly higher values, which are definitely outliers.\n"
     ]
    },
    {
     "name": "stdout",
     "output_type": "stream",
     "text": [
      "Filtered out 631 rows with outliers in column 'HoldTime'\n"
     ]
    }
   ],
   "source": [
    "if PROCESS_DATA_FILES:\n",
    "    def filter_column_by_quantile(df, column, threshold):\n",
    "        len_before = len(df)\n",
    "        df = df[df[column] < np.percentile(df[column], threshold)]\n",
    "        len_after = len(df)\n",
    "        print(\"Filtered out {} rows with outliers in column '{}'\".format((len_before - len_after), column))\n",
    "        return df\n",
    "    \n",
    "    \n",
    "    def plot_percentiles_of_column(df, col, start, end, bins):\n",
    "        X = np.linspace(start, end, bins)\n",
    "        Y = [np.percentile(df[col], x) for x in X]\n",
    "        plt.plot(X, Y)\n",
    "        plt.title(col + \" Percentiles\")\n",
    "        plt.xlabel(\"Percent\")\n",
    "        plt.ylabel(\"Percentile Value\")\n",
    "        plt.show()\n",
    "    \n",
    "    \n",
    "    # Filter out outliers of HoldTime:\n",
    "    plot_percentiles_of_column(kaggle_taps, 'HoldTime', 99.96, 99.9999, 20)\n",
    "    print(\"After the percentile 99.993 we see significantly higher values, which are definitely outliers.\")\n",
    "    kaggle_taps = filter_column_by_quantile(kaggle_taps, 'HoldTime', 99.993)"
   ]
  },
  {
   "cell_type": "markdown",
   "metadata": {},
   "source": [
    "Divide keystroakes to time-intervals of 90 seconds:"
   ]
  },
  {
   "cell_type": "code",
   "execution_count": 7,
   "metadata": {},
   "outputs": [
    {
     "name": "stdout",
     "output_type": "stream",
     "text": [
      "Starting parsing of timestamps into cumulative time...\n"
     ]
    },
    {
     "ename": "KeyboardInterrupt",
     "evalue": "",
     "traceback": [
      "\u001b[0;31m---------------------------------------------------------------------------\u001b[0m",
      "\u001b[0;31mKeyboardInterrupt\u001b[0m                         Traceback (most recent call last)",
      "\u001b[0;32m<ipython-input-7-933c5bf0e2d2>\u001b[0m in \u001b[0;36m<module>\u001b[0;34m()\u001b[0m\n\u001b[1;32m      2\u001b[0m \u001b[0;34m\u001b[0m\u001b[0m\n\u001b[1;32m      3\u001b[0m     \u001b[0;31m# Add parsed date and time column + calculate cumulative time\u001b[0m\u001b[0;34m\u001b[0m\u001b[0;34m\u001b[0m\u001b[0m\n\u001b[0;32m----> 4\u001b[0;31m     \u001b[0mkaggle_taps\u001b[0m \u001b[0;34m=\u001b[0m \u001b[0madd_cumulative_timestamps_column\u001b[0m\u001b[0;34m(\u001b[0m\u001b[0mkaggle_taps\u001b[0m\u001b[0;34m)\u001b[0m\u001b[0;34m\u001b[0m\u001b[0m\n\u001b[0m\u001b[1;32m      5\u001b[0m \u001b[0;34m\u001b[0m\u001b[0m\n\u001b[1;32m      6\u001b[0m     \u001b[0;31m# Group to bin indexes by the cumulative timestamps\u001b[0m\u001b[0;34m\u001b[0m\u001b[0;34m\u001b[0m\u001b[0m\n",
      "\u001b[0;32mC:\\Users\\Dan\\Google Drive\\University\\Year3\\DSWorkshop\\kaggle_data_loader.py\u001b[0m in \u001b[0;36madd_cumulative_timestamps_column\u001b[0;34m(df)\u001b[0m\n\u001b[1;32m    183\u001b[0m     \u001b[0mdf\u001b[0m\u001b[0;34m[\u001b[0m\u001b[0;34m'ParsedDateTime'\u001b[0m\u001b[0;34m]\u001b[0m \u001b[0;34m=\u001b[0m \u001b[0mdf\u001b[0m\u001b[0;34m[\u001b[0m\u001b[0;34m'Date'\u001b[0m\u001b[0;34m]\u001b[0m\u001b[0;34m.\u001b[0m\u001b[0mastype\u001b[0m\u001b[0;34m(\u001b[0m\u001b[0mstr\u001b[0m\u001b[0;34m)\u001b[0m \u001b[0;34m+\u001b[0m \u001b[0;34m\" \"\u001b[0m \u001b[0;34m+\u001b[0m \u001b[0mdf\u001b[0m\u001b[0;34m[\u001b[0m\u001b[0;34m'TimeStamp'\u001b[0m\u001b[0;34m]\u001b[0m\u001b[0;34m\u001b[0m\u001b[0m\n\u001b[1;32m    184\u001b[0m     \u001b[0mdf\u001b[0m \u001b[0;34m=\u001b[0m \u001b[0mdf\u001b[0m\u001b[0;34m.\u001b[0m\u001b[0mdrop\u001b[0m\u001b[0;34m(\u001b[0m\u001b[0;34m[\u001b[0m\u001b[0;34m'Date'\u001b[0m\u001b[0;34m,\u001b[0m \u001b[0;34m'TimeStamp'\u001b[0m\u001b[0;34m]\u001b[0m\u001b[0;34m,\u001b[0m \u001b[0maxis\u001b[0m\u001b[0;34m=\u001b[0m\u001b[0;36m1\u001b[0m\u001b[0;34m)\u001b[0m  \u001b[0;31m# save some memory because the df is huge\u001b[0m\u001b[0;34m\u001b[0m\u001b[0m\n\u001b[0;32m--> 185\u001b[0;31m     \u001b[0mdf\u001b[0m\u001b[0;34m[\u001b[0m\u001b[0;34m'ParsedDateTime'\u001b[0m\u001b[0;34m]\u001b[0m \u001b[0;34m=\u001b[0m \u001b[0mdf\u001b[0m\u001b[0;34m[\u001b[0m\u001b[0;34m'ParsedDateTime'\u001b[0m\u001b[0;34m]\u001b[0m\u001b[0;34m.\u001b[0m\u001b[0mapply\u001b[0m\u001b[0;34m(\u001b[0m\u001b[0mparsed_time_to_unix\u001b[0m\u001b[0;34m)\u001b[0m\u001b[0;34m\u001b[0m\u001b[0m\n\u001b[0m\u001b[1;32m    186\u001b[0m     \u001b[0minitial_timestamp_per_id\u001b[0m \u001b[0;34m=\u001b[0m \u001b[0mdf\u001b[0m\u001b[0;34m.\u001b[0m\u001b[0mgroupby\u001b[0m\u001b[0;34m(\u001b[0m\u001b[0;34m[\u001b[0m\u001b[0;34m'ID'\u001b[0m\u001b[0;34m]\u001b[0m\u001b[0;34m)\u001b[0m\u001b[0;34m[\u001b[0m\u001b[0;34m'ParsedDateTime'\u001b[0m\u001b[0;34m]\u001b[0m\u001b[0;34m.\u001b[0m\u001b[0mmin\u001b[0m\u001b[0;34m(\u001b[0m\u001b[0;34m)\u001b[0m\u001b[0;34m\u001b[0m\u001b[0m\n\u001b[1;32m    187\u001b[0m     \u001b[0mdf\u001b[0m\u001b[0;34m[\u001b[0m\u001b[0;34m'PressTimeCumulative'\u001b[0m\u001b[0;34m]\u001b[0m \u001b[0;34m=\u001b[0m \u001b[0mdf\u001b[0m\u001b[0;34m.\u001b[0m\u001b[0mapply\u001b[0m\u001b[0;34m(\u001b[0m\u001b[0mdiff_from_initial\u001b[0m\u001b[0;34m,\u001b[0m \u001b[0maxis\u001b[0m\u001b[0;34m=\u001b[0m\u001b[0;36m1\u001b[0m\u001b[0;34m)\u001b[0m\u001b[0;34m\u001b[0m\u001b[0m\n",
      "\u001b[0;32mC:\\Users\\Dan\\AppData\\Local\\Programs\\Python\\Python36\\lib\\site-packages\\pandas\\core\\series.py\u001b[0m in \u001b[0;36mapply\u001b[0;34m(self, func, convert_dtype, args, **kwds)\u001b[0m\n\u001b[1;32m   2549\u001b[0m             \u001b[0;32melse\u001b[0m\u001b[0;34m:\u001b[0m\u001b[0;34m\u001b[0m\u001b[0m\n\u001b[1;32m   2550\u001b[0m                 \u001b[0mvalues\u001b[0m \u001b[0;34m=\u001b[0m \u001b[0mself\u001b[0m\u001b[0;34m.\u001b[0m\u001b[0masobject\u001b[0m\u001b[0;34m\u001b[0m\u001b[0m\n\u001b[0;32m-> 2551\u001b[0;31m                 \u001b[0mmapped\u001b[0m \u001b[0;34m=\u001b[0m \u001b[0mlib\u001b[0m\u001b[0;34m.\u001b[0m\u001b[0mmap_infer\u001b[0m\u001b[0;34m(\u001b[0m\u001b[0mvalues\u001b[0m\u001b[0;34m,\u001b[0m \u001b[0mf\u001b[0m\u001b[0;34m,\u001b[0m \u001b[0mconvert\u001b[0m\u001b[0;34m=\u001b[0m\u001b[0mconvert_dtype\u001b[0m\u001b[0;34m)\u001b[0m\u001b[0;34m\u001b[0m\u001b[0m\n\u001b[0m\u001b[1;32m   2552\u001b[0m \u001b[0;34m\u001b[0m\u001b[0m\n\u001b[1;32m   2553\u001b[0m         \u001b[0;32mif\u001b[0m \u001b[0mlen\u001b[0m\u001b[0;34m(\u001b[0m\u001b[0mmapped\u001b[0m\u001b[0;34m)\u001b[0m \u001b[0;32mand\u001b[0m \u001b[0misinstance\u001b[0m\u001b[0;34m(\u001b[0m\u001b[0mmapped\u001b[0m\u001b[0;34m[\u001b[0m\u001b[0;36m0\u001b[0m\u001b[0;34m]\u001b[0m\u001b[0;34m,\u001b[0m \u001b[0mSeries\u001b[0m\u001b[0;34m)\u001b[0m\u001b[0;34m:\u001b[0m\u001b[0;34m\u001b[0m\u001b[0m\n",
      "\u001b[0;32mpandas/_libs/src\\inference.pyx\u001b[0m in \u001b[0;36mpandas._libs.lib.map_infer\u001b[0;34m()\u001b[0m\n",
      "\u001b[0;32mC:\\Users\\Dan\\Google Drive\\University\\Year3\\DSWorkshop\\kaggle_data_loader.py\u001b[0m in \u001b[0;36mparsed_time_to_unix\u001b[0;34m(x)\u001b[0m\n\u001b[1;32m    124\u001b[0m \u001b[0;34m\u001b[0m\u001b[0m\n\u001b[1;32m    125\u001b[0m \u001b[0;32mdef\u001b[0m \u001b[0mparsed_time_to_unix\u001b[0m\u001b[0;34m(\u001b[0m\u001b[0mx\u001b[0m\u001b[0;34m)\u001b[0m\u001b[0;34m:\u001b[0m\u001b[0;34m\u001b[0m\u001b[0m\n\u001b[0;32m--> 126\u001b[0;31m     \u001b[0mstrptime\u001b[0m \u001b[0;34m=\u001b[0m \u001b[0mdatetime\u001b[0m\u001b[0;34m.\u001b[0m\u001b[0mstrptime\u001b[0m\u001b[0;34m(\u001b[0m\u001b[0mx\u001b[0m\u001b[0;34m,\u001b[0m \u001b[0;34m\"%y%m%d %H:%M:%S.%f\"\u001b[0m\u001b[0;34m)\u001b[0m\u001b[0;34m\u001b[0m\u001b[0m\n\u001b[0m\u001b[1;32m    127\u001b[0m     \u001b[0;32mreturn\u001b[0m \u001b[0mt\u001b[0m\u001b[0;34m.\u001b[0m\u001b[0mmktime\u001b[0m\u001b[0;34m(\u001b[0m\u001b[0mstrptime\u001b[0m\u001b[0;34m.\u001b[0m\u001b[0mtimetuple\u001b[0m\u001b[0;34m(\u001b[0m\u001b[0;34m)\u001b[0m\u001b[0;34m)\u001b[0m \u001b[0;34m*\u001b[0m \u001b[0;36m1e3\u001b[0m \u001b[0;34m+\u001b[0m \u001b[0mstrptime\u001b[0m\u001b[0;34m.\u001b[0m\u001b[0mmicrosecond\u001b[0m \u001b[0;34m/\u001b[0m \u001b[0;36m1e3\u001b[0m\u001b[0;34m\u001b[0m\u001b[0m\n\u001b[1;32m    128\u001b[0m \u001b[0;34m\u001b[0m\u001b[0m\n",
      "\u001b[0;32mC:\\Users\\Dan\\AppData\\Local\\Programs\\Python\\Python36\\lib\\_strptime.py\u001b[0m in \u001b[0;36m_strptime_datetime\u001b[0;34m(cls, data_string, format)\u001b[0m\n\u001b[1;32m    563\u001b[0m     \"\"\"Return a class cls instance based on the input string and the\n\u001b[1;32m    564\u001b[0m     format string.\"\"\"\n\u001b[0;32m--> 565\u001b[0;31m     \u001b[0mtt\u001b[0m\u001b[0;34m,\u001b[0m \u001b[0mfraction\u001b[0m \u001b[0;34m=\u001b[0m \u001b[0m_strptime\u001b[0m\u001b[0;34m(\u001b[0m\u001b[0mdata_string\u001b[0m\u001b[0;34m,\u001b[0m \u001b[0mformat\u001b[0m\u001b[0;34m)\u001b[0m\u001b[0;34m\u001b[0m\u001b[0m\n\u001b[0m\u001b[1;32m    566\u001b[0m     \u001b[0mtzname\u001b[0m\u001b[0;34m,\u001b[0m \u001b[0mgmtoff\u001b[0m \u001b[0;34m=\u001b[0m \u001b[0mtt\u001b[0m\u001b[0;34m[\u001b[0m\u001b[0;34m-\u001b[0m\u001b[0;36m2\u001b[0m\u001b[0;34m:\u001b[0m\u001b[0;34m]\u001b[0m\u001b[0;34m\u001b[0m\u001b[0m\n\u001b[1;32m    567\u001b[0m     \u001b[0margs\u001b[0m \u001b[0;34m=\u001b[0m \u001b[0mtt\u001b[0m\u001b[0;34m[\u001b[0m\u001b[0;34m:\u001b[0m\u001b[0;36m6\u001b[0m\u001b[0;34m]\u001b[0m \u001b[0;34m+\u001b[0m \u001b[0;34m(\u001b[0m\u001b[0mfraction\u001b[0m\u001b[0;34m,\u001b[0m\u001b[0;34m)\u001b[0m\u001b[0;34m\u001b[0m\u001b[0m\n",
      "\u001b[0;32mC:\\Users\\Dan\\AppData\\Local\\Programs\\Python\\Python36\\lib\\_strptime.py\u001b[0m in \u001b[0;36m_strptime\u001b[0;34m(data_string, format)\u001b[0m\n\u001b[1;32m    539\u001b[0m     \u001b[0;31m# Add timezone info\u001b[0m\u001b[0;34m\u001b[0m\u001b[0;34m\u001b[0m\u001b[0m\n\u001b[1;32m    540\u001b[0m     \u001b[0mtzname\u001b[0m \u001b[0;34m=\u001b[0m \u001b[0mfound_dict\u001b[0m\u001b[0;34m.\u001b[0m\u001b[0mget\u001b[0m\u001b[0;34m(\u001b[0m\u001b[0;34m\"Z\"\u001b[0m\u001b[0;34m)\u001b[0m\u001b[0;34m\u001b[0m\u001b[0m\n\u001b[0;32m--> 541\u001b[0;31m     \u001b[0;32mif\u001b[0m \u001b[0mtzoffset\u001b[0m \u001b[0;32mis\u001b[0m \u001b[0;32mnot\u001b[0m \u001b[0;32mNone\u001b[0m\u001b[0;34m:\u001b[0m\u001b[0;34m\u001b[0m\u001b[0m\n\u001b[0m\u001b[1;32m    542\u001b[0m         \u001b[0mgmtoff\u001b[0m \u001b[0;34m=\u001b[0m \u001b[0mtzoffset\u001b[0m \u001b[0;34m*\u001b[0m \u001b[0;36m60\u001b[0m\u001b[0;34m\u001b[0m\u001b[0m\n\u001b[1;32m    543\u001b[0m     \u001b[0;32melse\u001b[0m\u001b[0;34m:\u001b[0m\u001b[0;34m\u001b[0m\u001b[0m\n",
      "\u001b[0;31mKeyboardInterrupt\u001b[0m: "
     ],
     "output_type": "error"
    }
   ],
   "source": [
    "if PROCESS_DATA_FILES:\n",
    "\n",
    "    # Add parsed date and time column + calculate cumulative time\n",
    "    kaggle_taps = add_cumulative_timestamps_column(kaggle_taps)\n",
    "    \n",
    "    # Group to bin indexes by the cumulative timestamps\n",
    "    def build_bins(df, bin_size_seconds):\n",
    "        df[\"PressTimeCumulative\"] = df[\"PressTimeCumulative\"] / 1000\n",
    "        max_press = (int(max((df[\"PressTimeCumulative\"])) / bin_size_seconds) + 1) * bin_size_seconds + 1\n",
    "        user_bins = [i for i in range(0, max_press, bin_size_seconds)]\n",
    "        df[\"binIndex\"] = pd.cut((df[\"PressTimeCumulative\"]), user_bins)\n",
    "        return df\n",
    "    \n",
    "    \n",
    "    kaggle_taps = build_bins(kaggle_taps, 90)\n",
    "    \n",
    "    # Keep only necessary columns and save to file\n",
    "    kaggle_taps = kaggle_taps[TAPS_FINAL_COLUMNS + ['binIndex']]    \n",
    "    kaggle_taps.to_csv(constants.KAGGLE_TAPS_INPUT, index=False)"
   ]
  },
  {
   "cell_type": "code",
   "execution_count": null,
   "metadata": {},
   "outputs": [
    {
     "ename": "FileNotFoundError",
     "evalue": "File b'C:\\\\Users\\\\Dan\\\\Google Drive\\\\University\\\\Year3\\\\DSWorkshop\\\\Data\\\\KAGGLE_TAPS.csv' does not exist",
     "traceback": [
      "\u001b[0;31m---------------------------------------------------------------------------\u001b[0m",
      "\u001b[0;31mFileNotFoundError\u001b[0m                         Traceback (most recent call last)",
      "\u001b[0;32m<ipython-input-8-d9aa205fbb03>\u001b[0m in \u001b[0;36m<module>\u001b[0;34m()\u001b[0m\n\u001b[0;32m----> 1\u001b[0;31m \u001b[0mkaggle_taps\u001b[0m \u001b[0;34m=\u001b[0m \u001b[0mpd\u001b[0m\u001b[0;34m.\u001b[0m\u001b[0mread_csv\u001b[0m\u001b[0;34m(\u001b[0m\u001b[0mKAGGLE_TAPS_INPUT\u001b[0m\u001b[0;34m)\u001b[0m\u001b[0;34m\u001b[0m\u001b[0m\n\u001b[0m\u001b[1;32m      2\u001b[0m \u001b[0mkaggle_users\u001b[0m \u001b[0;34m=\u001b[0m \u001b[0mpd\u001b[0m\u001b[0;34m.\u001b[0m\u001b[0mread_csv\u001b[0m\u001b[0;34m(\u001b[0m\u001b[0mKAGGLE_USERS_INPUT\u001b[0m\u001b[0;34m)\u001b[0m\u001b[0;34m\u001b[0m\u001b[0m\n\u001b[1;32m      3\u001b[0m \u001b[0;34m\u001b[0m\u001b[0m\n\u001b[1;32m      4\u001b[0m \u001b[0mprint\u001b[0m\u001b[0;34m(\u001b[0m\u001b[0;34m\"Kaggle taps final dataframe:\\n\"\u001b[0m\u001b[0;34m)\u001b[0m\u001b[0;34m\u001b[0m\u001b[0m\n\u001b[1;32m      5\u001b[0m \u001b[0mprint\u001b[0m\u001b[0;34m(\u001b[0m\u001b[0mkaggle_taps\u001b[0m\u001b[0;34m.\u001b[0m\u001b[0mhead\u001b[0m\u001b[0;34m(\u001b[0m\u001b[0;34m)\u001b[0m\u001b[0;34m)\u001b[0m\u001b[0;34m\u001b[0m\u001b[0m\n",
      "\u001b[0;32mC:\\Users\\Dan\\AppData\\Local\\Programs\\Python\\Python36\\lib\\site-packages\\pandas\\io\\parsers.py\u001b[0m in \u001b[0;36mparser_f\u001b[0;34m(filepath_or_buffer, sep, delimiter, header, names, index_col, usecols, squeeze, prefix, mangle_dupe_cols, dtype, engine, converters, true_values, false_values, skipinitialspace, skiprows, nrows, na_values, keep_default_na, na_filter, verbose, skip_blank_lines, parse_dates, infer_datetime_format, keep_date_col, date_parser, dayfirst, iterator, chunksize, compression, thousands, decimal, lineterminator, quotechar, quoting, escapechar, comment, encoding, dialect, tupleize_cols, error_bad_lines, warn_bad_lines, skipfooter, skip_footer, doublequote, delim_whitespace, as_recarray, compact_ints, use_unsigned, low_memory, buffer_lines, memory_map, float_precision)\u001b[0m\n\u001b[1;32m    707\u001b[0m                     skip_blank_lines=skip_blank_lines)\n\u001b[1;32m    708\u001b[0m \u001b[0;34m\u001b[0m\u001b[0m\n\u001b[0;32m--> 709\u001b[0;31m         \u001b[0;32mreturn\u001b[0m \u001b[0m_read\u001b[0m\u001b[0;34m(\u001b[0m\u001b[0mfilepath_or_buffer\u001b[0m\u001b[0;34m,\u001b[0m \u001b[0mkwds\u001b[0m\u001b[0;34m)\u001b[0m\u001b[0;34m\u001b[0m\u001b[0m\n\u001b[0m\u001b[1;32m    710\u001b[0m \u001b[0;34m\u001b[0m\u001b[0m\n\u001b[1;32m    711\u001b[0m     \u001b[0mparser_f\u001b[0m\u001b[0;34m.\u001b[0m\u001b[0m__name__\u001b[0m \u001b[0;34m=\u001b[0m \u001b[0mname\u001b[0m\u001b[0;34m\u001b[0m\u001b[0m\n",
      "\u001b[0;32mC:\\Users\\Dan\\AppData\\Local\\Programs\\Python\\Python36\\lib\\site-packages\\pandas\\io\\parsers.py\u001b[0m in \u001b[0;36m_read\u001b[0;34m(filepath_or_buffer, kwds)\u001b[0m\n\u001b[1;32m    447\u001b[0m \u001b[0;34m\u001b[0m\u001b[0m\n\u001b[1;32m    448\u001b[0m     \u001b[0;31m# Create the parser.\u001b[0m\u001b[0;34m\u001b[0m\u001b[0;34m\u001b[0m\u001b[0m\n\u001b[0;32m--> 449\u001b[0;31m     \u001b[0mparser\u001b[0m \u001b[0;34m=\u001b[0m \u001b[0mTextFileReader\u001b[0m\u001b[0;34m(\u001b[0m\u001b[0mfilepath_or_buffer\u001b[0m\u001b[0;34m,\u001b[0m \u001b[0;34m**\u001b[0m\u001b[0mkwds\u001b[0m\u001b[0;34m)\u001b[0m\u001b[0;34m\u001b[0m\u001b[0m\n\u001b[0m\u001b[1;32m    450\u001b[0m \u001b[0;34m\u001b[0m\u001b[0m\n\u001b[1;32m    451\u001b[0m     \u001b[0;32mif\u001b[0m \u001b[0mchunksize\u001b[0m \u001b[0;32mor\u001b[0m \u001b[0miterator\u001b[0m\u001b[0;34m:\u001b[0m\u001b[0;34m\u001b[0m\u001b[0m\n",
      "\u001b[0;32mC:\\Users\\Dan\\AppData\\Local\\Programs\\Python\\Python36\\lib\\site-packages\\pandas\\io\\parsers.py\u001b[0m in \u001b[0;36m__init__\u001b[0;34m(self, f, engine, **kwds)\u001b[0m\n\u001b[1;32m    816\u001b[0m             \u001b[0mself\u001b[0m\u001b[0;34m.\u001b[0m\u001b[0moptions\u001b[0m\u001b[0;34m[\u001b[0m\u001b[0;34m'has_index_names'\u001b[0m\u001b[0;34m]\u001b[0m \u001b[0;34m=\u001b[0m \u001b[0mkwds\u001b[0m\u001b[0;34m[\u001b[0m\u001b[0;34m'has_index_names'\u001b[0m\u001b[0;34m]\u001b[0m\u001b[0;34m\u001b[0m\u001b[0m\n\u001b[1;32m    817\u001b[0m \u001b[0;34m\u001b[0m\u001b[0m\n\u001b[0;32m--> 818\u001b[0;31m         \u001b[0mself\u001b[0m\u001b[0;34m.\u001b[0m\u001b[0m_make_engine\u001b[0m\u001b[0;34m(\u001b[0m\u001b[0mself\u001b[0m\u001b[0;34m.\u001b[0m\u001b[0mengine\u001b[0m\u001b[0;34m)\u001b[0m\u001b[0;34m\u001b[0m\u001b[0m\n\u001b[0m\u001b[1;32m    819\u001b[0m \u001b[0;34m\u001b[0m\u001b[0m\n\u001b[1;32m    820\u001b[0m     \u001b[0;32mdef\u001b[0m \u001b[0mclose\u001b[0m\u001b[0;34m(\u001b[0m\u001b[0mself\u001b[0m\u001b[0;34m)\u001b[0m\u001b[0;34m:\u001b[0m\u001b[0;34m\u001b[0m\u001b[0m\n",
      "\u001b[0;32mC:\\Users\\Dan\\AppData\\Local\\Programs\\Python\\Python36\\lib\\site-packages\\pandas\\io\\parsers.py\u001b[0m in \u001b[0;36m_make_engine\u001b[0;34m(self, engine)\u001b[0m\n\u001b[1;32m   1047\u001b[0m     \u001b[0;32mdef\u001b[0m \u001b[0m_make_engine\u001b[0m\u001b[0;34m(\u001b[0m\u001b[0mself\u001b[0m\u001b[0;34m,\u001b[0m \u001b[0mengine\u001b[0m\u001b[0;34m=\u001b[0m\u001b[0;34m'c'\u001b[0m\u001b[0;34m)\u001b[0m\u001b[0;34m:\u001b[0m\u001b[0;34m\u001b[0m\u001b[0m\n\u001b[1;32m   1048\u001b[0m         \u001b[0;32mif\u001b[0m \u001b[0mengine\u001b[0m \u001b[0;34m==\u001b[0m \u001b[0;34m'c'\u001b[0m\u001b[0;34m:\u001b[0m\u001b[0;34m\u001b[0m\u001b[0m\n\u001b[0;32m-> 1049\u001b[0;31m             \u001b[0mself\u001b[0m\u001b[0;34m.\u001b[0m\u001b[0m_engine\u001b[0m \u001b[0;34m=\u001b[0m \u001b[0mCParserWrapper\u001b[0m\u001b[0;34m(\u001b[0m\u001b[0mself\u001b[0m\u001b[0;34m.\u001b[0m\u001b[0mf\u001b[0m\u001b[0;34m,\u001b[0m \u001b[0;34m**\u001b[0m\u001b[0mself\u001b[0m\u001b[0;34m.\u001b[0m\u001b[0moptions\u001b[0m\u001b[0;34m)\u001b[0m\u001b[0;34m\u001b[0m\u001b[0m\n\u001b[0m\u001b[1;32m   1050\u001b[0m         \u001b[0;32melse\u001b[0m\u001b[0;34m:\u001b[0m\u001b[0;34m\u001b[0m\u001b[0m\n\u001b[1;32m   1051\u001b[0m             \u001b[0;32mif\u001b[0m \u001b[0mengine\u001b[0m \u001b[0;34m==\u001b[0m \u001b[0;34m'python'\u001b[0m\u001b[0;34m:\u001b[0m\u001b[0;34m\u001b[0m\u001b[0m\n",
      "\u001b[0;32mC:\\Users\\Dan\\AppData\\Local\\Programs\\Python\\Python36\\lib\\site-packages\\pandas\\io\\parsers.py\u001b[0m in \u001b[0;36m__init__\u001b[0;34m(self, src, **kwds)\u001b[0m\n\u001b[1;32m   1693\u001b[0m         \u001b[0mkwds\u001b[0m\u001b[0;34m[\u001b[0m\u001b[0;34m'allow_leading_cols'\u001b[0m\u001b[0;34m]\u001b[0m \u001b[0;34m=\u001b[0m \u001b[0mself\u001b[0m\u001b[0;34m.\u001b[0m\u001b[0mindex_col\u001b[0m \u001b[0;32mis\u001b[0m \u001b[0;32mnot\u001b[0m \u001b[0;32mFalse\u001b[0m\u001b[0;34m\u001b[0m\u001b[0m\n\u001b[1;32m   1694\u001b[0m \u001b[0;34m\u001b[0m\u001b[0m\n\u001b[0;32m-> 1695\u001b[0;31m         \u001b[0mself\u001b[0m\u001b[0;34m.\u001b[0m\u001b[0m_reader\u001b[0m \u001b[0;34m=\u001b[0m \u001b[0mparsers\u001b[0m\u001b[0;34m.\u001b[0m\u001b[0mTextReader\u001b[0m\u001b[0;34m(\u001b[0m\u001b[0msrc\u001b[0m\u001b[0;34m,\u001b[0m \u001b[0;34m**\u001b[0m\u001b[0mkwds\u001b[0m\u001b[0;34m)\u001b[0m\u001b[0;34m\u001b[0m\u001b[0m\n\u001b[0m\u001b[1;32m   1696\u001b[0m \u001b[0;34m\u001b[0m\u001b[0m\n\u001b[1;32m   1697\u001b[0m         \u001b[0;31m# XXX\u001b[0m\u001b[0;34m\u001b[0m\u001b[0;34m\u001b[0m\u001b[0m\n",
      "\u001b[0;32mpandas\\_libs\\parsers.pyx\u001b[0m in \u001b[0;36mpandas._libs.parsers.TextReader.__cinit__\u001b[0;34m()\u001b[0m\n",
      "\u001b[0;32mpandas\\_libs\\parsers.pyx\u001b[0m in \u001b[0;36mpandas._libs.parsers.TextReader._setup_parser_source\u001b[0;34m()\u001b[0m\n",
      "\u001b[0;31mFileNotFoundError\u001b[0m: File b'C:\\\\Users\\\\Dan\\\\Google Drive\\\\University\\\\Year3\\\\DSWorkshop\\\\Data\\\\KAGGLE_TAPS.csv' does not exist"
     ],
     "output_type": "error"
    }
   ],
   "source": [
    "kaggle_taps = pd.read_csv(KAGGLE_TAPS_INPUT)\n",
    "kaggle_users = pd.read_csv(KAGGLE_USERS_INPUT)\n",
    "\n",
    "print(\"Kaggle taps final dataframe:\\n\")\n",
    "print(kaggle_taps.head())\n",
    "print(\"\\nKaggle users dataframe:\\n\")\n",
    "print(kaggle_users.head())"
   ]
  },
  {
   "cell_type": "markdown",
   "metadata": {},
   "source": [
    "###Summary plots on Kaggle data"
   ]
  },
  {
   "cell_type": "code",
   "execution_count": 9,
   "metadata": {
    "collapsed": true
   },
   "outputs": [
    {
     "ename": "TypeError",
     "evalue": "unsupported operand type(s) for -: 'int' and 'str'",
     "traceback": [
      "\u001b[0;31m---------------------------------------------------------------------------\u001b[0m",
      "\u001b[0;31mTypeError\u001b[0m                                 Traceback (most recent call last)",
      "\u001b[0;32mC:\\Users\\Dan\\AppData\\Local\\Programs\\Python\\Python36\\lib\\site-packages\\pandas\\core\\ops.py\u001b[0m in \u001b[0;36mna_op\u001b[0;34m(x, y)\u001b[0m\n\u001b[1;32m    675\u001b[0m         \u001b[0;32mtry\u001b[0m\u001b[0;34m:\u001b[0m\u001b[0;34m\u001b[0m\u001b[0m\n\u001b[0;32m--> 676\u001b[0;31m             \u001b[0mresult\u001b[0m \u001b[0;34m=\u001b[0m \u001b[0mexpressions\u001b[0m\u001b[0;34m.\u001b[0m\u001b[0mevaluate\u001b[0m\u001b[0;34m(\u001b[0m\u001b[0mop\u001b[0m\u001b[0;34m,\u001b[0m \u001b[0mstr_rep\u001b[0m\u001b[0;34m,\u001b[0m \u001b[0mx\u001b[0m\u001b[0;34m,\u001b[0m \u001b[0my\u001b[0m\u001b[0;34m,\u001b[0m \u001b[0;34m**\u001b[0m\u001b[0meval_kwargs\u001b[0m\u001b[0;34m)\u001b[0m\u001b[0;34m\u001b[0m\u001b[0m\n\u001b[0m\u001b[1;32m    677\u001b[0m         \u001b[0;32mexcept\u001b[0m \u001b[0mTypeError\u001b[0m\u001b[0;34m:\u001b[0m\u001b[0;34m\u001b[0m\u001b[0m\n",
      "\u001b[0;32mC:\\Users\\Dan\\AppData\\Local\\Programs\\Python\\Python36\\lib\\site-packages\\pandas\\core\\computation\\expressions.py\u001b[0m in \u001b[0;36mevaluate\u001b[0;34m(op, op_str, a, b, use_numexpr, **eval_kwargs)\u001b[0m\n\u001b[1;32m    203\u001b[0m     \u001b[0;32mif\u001b[0m \u001b[0muse_numexpr\u001b[0m\u001b[0;34m:\u001b[0m\u001b[0;34m\u001b[0m\u001b[0m\n\u001b[0;32m--> 204\u001b[0;31m         \u001b[0;32mreturn\u001b[0m \u001b[0m_evaluate\u001b[0m\u001b[0;34m(\u001b[0m\u001b[0mop\u001b[0m\u001b[0;34m,\u001b[0m \u001b[0mop_str\u001b[0m\u001b[0;34m,\u001b[0m \u001b[0ma\u001b[0m\u001b[0;34m,\u001b[0m \u001b[0mb\u001b[0m\u001b[0;34m,\u001b[0m \u001b[0;34m**\u001b[0m\u001b[0meval_kwargs\u001b[0m\u001b[0;34m)\u001b[0m\u001b[0;34m\u001b[0m\u001b[0m\n\u001b[0m\u001b[1;32m    205\u001b[0m     \u001b[0;32mreturn\u001b[0m \u001b[0m_evaluate_standard\u001b[0m\u001b[0;34m(\u001b[0m\u001b[0mop\u001b[0m\u001b[0;34m,\u001b[0m \u001b[0mop_str\u001b[0m\u001b[0;34m,\u001b[0m \u001b[0ma\u001b[0m\u001b[0;34m,\u001b[0m \u001b[0mb\u001b[0m\u001b[0;34m)\u001b[0m\u001b[0;34m\u001b[0m\u001b[0m\n",
      "\u001b[0;32mC:\\Users\\Dan\\AppData\\Local\\Programs\\Python\\Python36\\lib\\site-packages\\pandas\\core\\computation\\expressions.py\u001b[0m in \u001b[0;36m_evaluate_standard\u001b[0;34m(op, op_str, a, b, **eval_kwargs)\u001b[0m\n\u001b[1;32m     63\u001b[0m     \u001b[0;32mwith\u001b[0m \u001b[0mnp\u001b[0m\u001b[0;34m.\u001b[0m\u001b[0merrstate\u001b[0m\u001b[0;34m(\u001b[0m\u001b[0mall\u001b[0m\u001b[0;34m=\u001b[0m\u001b[0;34m'ignore'\u001b[0m\u001b[0;34m)\u001b[0m\u001b[0;34m:\u001b[0m\u001b[0;34m\u001b[0m\u001b[0m\n\u001b[0;32m---> 64\u001b[0;31m         \u001b[0;32mreturn\u001b[0m \u001b[0mop\u001b[0m\u001b[0;34m(\u001b[0m\u001b[0ma\u001b[0m\u001b[0;34m,\u001b[0m \u001b[0mb\u001b[0m\u001b[0;34m)\u001b[0m\u001b[0;34m\u001b[0m\u001b[0m\n\u001b[0m\u001b[1;32m     65\u001b[0m \u001b[0;34m\u001b[0m\u001b[0m\n",
      "\u001b[0;32mC:\\Users\\Dan\\AppData\\Local\\Programs\\Python\\Python36\\lib\\site-packages\\pandas\\core\\ops.py\u001b[0m in \u001b[0;36m<lambda>\u001b[0;34m(x, y)\u001b[0m\n\u001b[1;32m     98\u001b[0m                           default_axis=default_axis, reversed=True),\n\u001b[0;32m---> 99\u001b[0;31m         rsub=arith_method(lambda x, y: y - x, names('rsub'), op('-'),\n\u001b[0m\u001b[1;32m    100\u001b[0m                           default_axis=default_axis, reversed=True),\n",
      "\u001b[0;31mTypeError\u001b[0m: unsupported operand type(s) for -: 'int' and 'str'",
      "\nDuring handling of the above exception, another exception occurred:\n",
      "\u001b[0;31mTypeError\u001b[0m                                 Traceback (most recent call last)",
      "\u001b[0;32mC:\\Users\\Dan\\AppData\\Local\\Programs\\Python\\Python36\\lib\\site-packages\\pandas\\core\\ops.py\u001b[0m in \u001b[0;36msafe_na_op\u001b[0;34m(lvalues, rvalues)\u001b[0m\n\u001b[1;32m    699\u001b[0m             \u001b[0;32mwith\u001b[0m \u001b[0mnp\u001b[0m\u001b[0;34m.\u001b[0m\u001b[0merrstate\u001b[0m\u001b[0;34m(\u001b[0m\u001b[0mall\u001b[0m\u001b[0;34m=\u001b[0m\u001b[0;34m'ignore'\u001b[0m\u001b[0;34m)\u001b[0m\u001b[0;34m:\u001b[0m\u001b[0;34m\u001b[0m\u001b[0m\n\u001b[0;32m--> 700\u001b[0;31m                 \u001b[0;32mreturn\u001b[0m \u001b[0mna_op\u001b[0m\u001b[0;34m(\u001b[0m\u001b[0mlvalues\u001b[0m\u001b[0;34m,\u001b[0m \u001b[0mrvalues\u001b[0m\u001b[0;34m)\u001b[0m\u001b[0;34m\u001b[0m\u001b[0m\n\u001b[0m\u001b[1;32m    701\u001b[0m         \u001b[0;32mexcept\u001b[0m \u001b[0mException\u001b[0m\u001b[0;34m:\u001b[0m\u001b[0;34m\u001b[0m\u001b[0m\n",
      "\u001b[0;32mC:\\Users\\Dan\\AppData\\Local\\Programs\\Python\\Python36\\lib\\site-packages\\pandas\\core\\ops.py\u001b[0m in \u001b[0;36mna_op\u001b[0;34m(x, y)\u001b[0m\n\u001b[1;32m    685\u001b[0m                 \u001b[0mmask\u001b[0m \u001b[0;34m=\u001b[0m \u001b[0mnotna\u001b[0m\u001b[0;34m(\u001b[0m\u001b[0mx\u001b[0m\u001b[0;34m)\u001b[0m\u001b[0;34m\u001b[0m\u001b[0m\n\u001b[0;32m--> 686\u001b[0;31m                 \u001b[0mresult\u001b[0m\u001b[0;34m[\u001b[0m\u001b[0mmask\u001b[0m\u001b[0;34m]\u001b[0m \u001b[0;34m=\u001b[0m \u001b[0mop\u001b[0m\u001b[0;34m(\u001b[0m\u001b[0mx\u001b[0m\u001b[0;34m[\u001b[0m\u001b[0mmask\u001b[0m\u001b[0;34m]\u001b[0m\u001b[0;34m,\u001b[0m \u001b[0my\u001b[0m\u001b[0;34m)\u001b[0m\u001b[0;34m\u001b[0m\u001b[0m\n\u001b[0m\u001b[1;32m    687\u001b[0m             \u001b[0;32melse\u001b[0m\u001b[0;34m:\u001b[0m\u001b[0;34m\u001b[0m\u001b[0m\n",
      "\u001b[0;32mC:\\Users\\Dan\\AppData\\Local\\Programs\\Python\\Python36\\lib\\site-packages\\pandas\\core\\ops.py\u001b[0m in \u001b[0;36m<lambda>\u001b[0;34m(x, y)\u001b[0m\n\u001b[1;32m     98\u001b[0m                           default_axis=default_axis, reversed=True),\n\u001b[0;32m---> 99\u001b[0;31m         rsub=arith_method(lambda x, y: y - x, names('rsub'), op('-'),\n\u001b[0m\u001b[1;32m    100\u001b[0m                           default_axis=default_axis, reversed=True),\n",
      "\u001b[0;31mTypeError\u001b[0m: unsupported operand type(s) for -: 'int' and 'str'",
      "\nDuring handling of the above exception, another exception occurred:\n",
      "\u001b[0;31mTypeError\u001b[0m                                 Traceback (most recent call last)",
      "\u001b[0;32m<ipython-input-9-e512e8a66394>\u001b[0m in \u001b[0;36m<module>\u001b[0;34m()\u001b[0m\n\u001b[1;32m      1\u001b[0m \u001b[0mwarnings\u001b[0m\u001b[0;34m.\u001b[0m\u001b[0msimplefilter\u001b[0m\u001b[0;34m(\u001b[0m\u001b[0maction\u001b[0m\u001b[0;34m=\u001b[0m\u001b[0;34m'ignore'\u001b[0m\u001b[0;34m,\u001b[0m \u001b[0mcategory\u001b[0m\u001b[0;34m=\u001b[0m\u001b[0mFutureWarning\u001b[0m\u001b[0;34m)\u001b[0m \u001b[0;31m# Ignore pandas warning caused by an internal call to deprecated 'reshape'\u001b[0m\u001b[0;34m\u001b[0m\u001b[0m\n\u001b[1;32m      2\u001b[0m \u001b[0;34m\u001b[0m\u001b[0m\n\u001b[0;32m----> 3\u001b[0;31m \u001b[0mages\u001b[0m \u001b[0;34m=\u001b[0m \u001b[0madd_age_column\u001b[0m\u001b[0;34m(\u001b[0m\u001b[0mkaggle_users\u001b[0m\u001b[0;34m)\u001b[0m\u001b[0;34m\u001b[0m\u001b[0m\n\u001b[0m\u001b[1;32m      4\u001b[0m \u001b[0mmild_users\u001b[0m \u001b[0;34m=\u001b[0m \u001b[0mkeep_only_mild_users\u001b[0m\u001b[0;34m(\u001b[0m\u001b[0mkaggle_users\u001b[0m\u001b[0;34m)\u001b[0m\u001b[0;34m\u001b[0m\u001b[0m\n\u001b[1;32m      5\u001b[0m \u001b[0;34m\u001b[0m\u001b[0m\n",
      "\u001b[0;32mC:\\Users\\Dan\\Google Drive\\University\\Year3\\DSWorkshop\\plots.py\u001b[0m in \u001b[0;36madd_age_column\u001b[0;34m(users)\u001b[0m\n\u001b[1;32m      6\u001b[0m     \u001b[0mages\u001b[0m \u001b[0;34m=\u001b[0m \u001b[0musers\u001b[0m\u001b[0;34m.\u001b[0m\u001b[0mcopy\u001b[0m\u001b[0;34m(\u001b[0m\u001b[0;34m)\u001b[0m\u001b[0;34m\u001b[0m\u001b[0m\n\u001b[1;32m      7\u001b[0m     \u001b[0mages\u001b[0m \u001b[0;34m=\u001b[0m \u001b[0mages\u001b[0m\u001b[0;34m.\u001b[0m\u001b[0mdropna\u001b[0m\u001b[0;34m(\u001b[0m\u001b[0msubset\u001b[0m\u001b[0;34m=\u001b[0m\u001b[0;34m[\u001b[0m\u001b[0;34m'BirthYear'\u001b[0m\u001b[0;34m]\u001b[0m\u001b[0;34m)\u001b[0m\u001b[0;34m\u001b[0m\u001b[0m\n\u001b[0;32m----> 8\u001b[0;31m     \u001b[0mages\u001b[0m\u001b[0;34m[\u001b[0m\u001b[0;34m'Age'\u001b[0m\u001b[0;34m]\u001b[0m \u001b[0;34m=\u001b[0m \u001b[0;36m2018\u001b[0m \u001b[0;34m-\u001b[0m \u001b[0mages\u001b[0m\u001b[0;34m[\u001b[0m\u001b[0;34m'BirthYear'\u001b[0m\u001b[0;34m]\u001b[0m\u001b[0;34m\u001b[0m\u001b[0m\n\u001b[0m\u001b[1;32m      9\u001b[0m     \u001b[0mages\u001b[0m \u001b[0;34m=\u001b[0m \u001b[0mages\u001b[0m\u001b[0;34m.\u001b[0m\u001b[0mdropna\u001b[0m\u001b[0;34m(\u001b[0m\u001b[0msubset\u001b[0m\u001b[0;34m=\u001b[0m\u001b[0;34m[\u001b[0m\u001b[0;34m'Age'\u001b[0m\u001b[0;34m]\u001b[0m\u001b[0;34m)\u001b[0m\u001b[0;34m\u001b[0m\u001b[0m\n\u001b[1;32m     10\u001b[0m     \u001b[0;32mreturn\u001b[0m \u001b[0mages\u001b[0m\u001b[0;34m\u001b[0m\u001b[0m\n",
      "\u001b[0;32mC:\\Users\\Dan\\AppData\\Local\\Programs\\Python\\Python36\\lib\\site-packages\\pandas\\core\\ops.py\u001b[0m in \u001b[0;36mwrapper\u001b[0;34m(left, right, name, na_op)\u001b[0m\n\u001b[1;32m    737\u001b[0m                 \u001b[0mlvalues\u001b[0m \u001b[0;34m=\u001b[0m \u001b[0mlvalues\u001b[0m\u001b[0;34m.\u001b[0m\u001b[0mvalues\u001b[0m\u001b[0;34m\u001b[0m\u001b[0m\n\u001b[1;32m    738\u001b[0m \u001b[0;34m\u001b[0m\u001b[0m\n\u001b[0;32m--> 739\u001b[0;31m         \u001b[0mresult\u001b[0m \u001b[0;34m=\u001b[0m \u001b[0mwrap_results\u001b[0m\u001b[0;34m(\u001b[0m\u001b[0msafe_na_op\u001b[0m\u001b[0;34m(\u001b[0m\u001b[0mlvalues\u001b[0m\u001b[0;34m,\u001b[0m \u001b[0mrvalues\u001b[0m\u001b[0;34m)\u001b[0m\u001b[0;34m)\u001b[0m\u001b[0;34m\u001b[0m\u001b[0m\n\u001b[0m\u001b[1;32m    740\u001b[0m         return construct_result(\n\u001b[1;32m    741\u001b[0m             \u001b[0mleft\u001b[0m\u001b[0;34m,\u001b[0m\u001b[0;34m\u001b[0m\u001b[0m\n",
      "\u001b[0;32mC:\\Users\\Dan\\AppData\\Local\\Programs\\Python\\Python36\\lib\\site-packages\\pandas\\core\\ops.py\u001b[0m in \u001b[0;36msafe_na_op\u001b[0;34m(lvalues, rvalues)\u001b[0m\n\u001b[1;32m    708\u001b[0m                 \u001b[0;32mif\u001b[0m \u001b[0mis_object_dtype\u001b[0m\u001b[0;34m(\u001b[0m\u001b[0mlvalues\u001b[0m\u001b[0;34m)\u001b[0m\u001b[0;34m:\u001b[0m\u001b[0;34m\u001b[0m\u001b[0m\n\u001b[1;32m    709\u001b[0m                     return libalgos.arrmap_object(lvalues,\n\u001b[0;32m--> 710\u001b[0;31m                                                   lambda x: op(x, rvalues))\n\u001b[0m\u001b[1;32m    711\u001b[0m             \u001b[0;32mraise\u001b[0m\u001b[0;34m\u001b[0m\u001b[0m\n\u001b[1;32m    712\u001b[0m \u001b[0;34m\u001b[0m\u001b[0m\n",
      "\u001b[0;32mpandas\\_libs\\algos_common_helper.pxi\u001b[0m in \u001b[0;36mpandas._libs.algos.arrmap_object\u001b[0;34m()\u001b[0m\n",
      "\u001b[0;32mC:\\Users\\Dan\\AppData\\Local\\Programs\\Python\\Python36\\lib\\site-packages\\pandas\\core\\ops.py\u001b[0m in \u001b[0;36m<lambda>\u001b[0;34m(x)\u001b[0m\n\u001b[1;32m    708\u001b[0m                 \u001b[0;32mif\u001b[0m \u001b[0mis_object_dtype\u001b[0m\u001b[0;34m(\u001b[0m\u001b[0mlvalues\u001b[0m\u001b[0;34m)\u001b[0m\u001b[0;34m:\u001b[0m\u001b[0;34m\u001b[0m\u001b[0m\n\u001b[1;32m    709\u001b[0m                     return libalgos.arrmap_object(lvalues,\n\u001b[0;32m--> 710\u001b[0;31m                                                   lambda x: op(x, rvalues))\n\u001b[0m\u001b[1;32m    711\u001b[0m             \u001b[0;32mraise\u001b[0m\u001b[0;34m\u001b[0m\u001b[0m\n\u001b[1;32m    712\u001b[0m \u001b[0;34m\u001b[0m\u001b[0m\n",
      "\u001b[0;32mC:\\Users\\Dan\\AppData\\Local\\Programs\\Python\\Python36\\lib\\site-packages\\pandas\\core\\ops.py\u001b[0m in \u001b[0;36m<lambda>\u001b[0;34m(x, y)\u001b[0m\n\u001b[1;32m     97\u001b[0m         rmul=arith_method(operator.mul, names('rmul'), op('*'),\n\u001b[1;32m     98\u001b[0m                           default_axis=default_axis, reversed=True),\n\u001b[0;32m---> 99\u001b[0;31m         rsub=arith_method(lambda x, y: y - x, names('rsub'), op('-'),\n\u001b[0m\u001b[1;32m    100\u001b[0m                           default_axis=default_axis, reversed=True),\n\u001b[1;32m    101\u001b[0m         rtruediv=arith_method(lambda x, y: operator.truediv(y, x),\n",
      "\u001b[0;31mTypeError\u001b[0m: unsupported operand type(s) for -: 'int' and 'str'"
     ],
     "output_type": "error"
    }
   ],
   "source": [
    "warnings.simplefilter(action='ignore', category=FutureWarning) # Ignore pandas warning caused by an internal call to deprecated 'reshape'\n",
    "\n",
    "ages = add_age_column(kaggle_users)\n",
    "mild_users = keep_only_mild_users(kaggle_users)\n",
    "\n",
    "# general statistics of the users\n",
    "fig = plt.figure(figsize=(15, 10))\n",
    "ages_plot(fig, ages)\n",
    "genders_plot(fig, mild_users)\n",
    "diagnosis_plot(fig, mild_users)\n",
    "sickness_level_plot(fig, ages)\n",
    "\n",
    "warnings.resetwarnings()"
   ]
  },
  {
   "cell_type": "markdown",
   "metadata": {},
   "source": [
    "####In-depth analysis of the values in 'HoldTime'\n",
    "An important finding that we had during the analysis of the Kaggle data, is that there is a significant number of specific 'HoldTime' values that occur hundreds of thousands of times in the data, sometimes even in a series of sequential keystrokes, in a pattern that is totally unlikely."
   ]
  },
  {
   "cell_type": "code",
   "execution_count": 10,
   "metadata": {},
   "outputs": [
    {
     "name": "stdout",
     "output_type": "stream",
     "text": [
      "10 most common values in 'HoldTime' and their count:\n\nHoldTime\n82.0     235253\n117.2    260154\n70.3     264541\n125.0    304250\n101.6    323205\n85.9     339476\n62.5     352945\n109.4    387298\n93.8     490810\n78.1     645667\nName: HoldTime, dtype: int64\n"
     ]
    },
    {
     "data": {
      "image/png": "[encoded data removed]",
      "text/plain": [
       "<matplotlib.figure.Figure at 0x1de907f78d0>"
      ]
     },
     "metadata": {},
     "output_type": "display_data"
    }
   ],
   "source": [
    "holdTimeCounters = kaggle_taps.groupby(['HoldTime']).HoldTime.count().sort_values()\n",
    "print(\"10 most common values in 'HoldTime' and their count:\\n\")\n",
    "print(holdTimeCounters.tail(10))\n",
    "hist = holdTimeCounters.hist(bins=100).set(xlabel=\"Count of occurrences of a 'HoldTime' value\", ylabel=\"Count of unique values\")"
   ]
  },
  {
   "cell_type": "markdown",
   "metadata": {},
   "source": [
    "We can see that most of the values appear less than 200 times, while there are some extreme values that appear hundred of thousand of time.\n",
    "\n",
    "As an example, let's focus on the extreme value '78.1'. If it was a valid normal value, we would expect to see that the density of it's appearance count should be similar to those of values around it. Let's plot the histogram around the value '78.1': "
   ]
  },
  {
   "cell_type": "code",
   "execution_count": 11,
   "metadata": {},
   "outputs": [
    {
     "ename": "KeyboardInterrupt",
     "evalue": "",
     "traceback": [
      "\u001b[0;31m---------------------------------------------------------------------------\u001b[0m",
      "\u001b[0;31mKeyboardInterrupt\u001b[0m                         Traceback (most recent call last)",
      "\u001b[0;32m<ipython-input-11-f5c58e58c2d8>\u001b[0m in \u001b[0;36m<module>\u001b[0;34m()\u001b[0m\n\u001b[0;32m----> 1\u001b[0;31m \u001b[0mhist\u001b[0m \u001b[0;34m=\u001b[0m \u001b[0mkaggle_taps\u001b[0m\u001b[0;34m[\u001b[0m\u001b[0;34m(\u001b[0m\u001b[0mkaggle_taps\u001b[0m\u001b[0;34m.\u001b[0m\u001b[0mHoldTime\u001b[0m \u001b[0;34m<\u001b[0m \u001b[0;36m80\u001b[0m\u001b[0;34m)\u001b[0m \u001b[0;34m&\u001b[0m \u001b[0;34m(\u001b[0m\u001b[0mkaggle_taps\u001b[0m\u001b[0;34m.\u001b[0m\u001b[0mHoldTime\u001b[0m \u001b[0;34m>\u001b[0m \u001b[0;36m75\u001b[0m\u001b[0;34m)\u001b[0m\u001b[0;34m]\u001b[0m\u001b[0;34m.\u001b[0m\u001b[0mHoldTime\u001b[0m     \u001b[0;34m.\u001b[0m\u001b[0mhist\u001b[0m\u001b[0;34m(\u001b[0m\u001b[0mbins\u001b[0m\u001b[0;34m=\u001b[0m\u001b[0;36m100\u001b[0m\u001b[0;34m)\u001b[0m\u001b[0;34m.\u001b[0m\u001b[0mset\u001b[0m\u001b[0;34m(\u001b[0m\u001b[0mxlabel\u001b[0m\u001b[0;34m=\u001b[0m\u001b[0;34m\"'HoldTime' value\"\u001b[0m\u001b[0;34m,\u001b[0m \u001b[0mylabel\u001b[0m\u001b[0;34m=\u001b[0m\u001b[0;34m\"Count of occurrences\"\u001b[0m\u001b[0;34m)\u001b[0m\u001b[0;34m\u001b[0m\u001b[0m\n\u001b[0m",
      "\u001b[0;32mC:\\Users\\Dan\\AppData\\Local\\Programs\\Python\\Python36\\lib\\site-packages\\pandas\\plotting\\_core.py\u001b[0m in \u001b[0;36mhist_series\u001b[0;34m(self, by, ax, grid, xlabelsize, xrot, ylabelsize, yrot, figsize, bins, **kwds)\u001b[0m\n\u001b[1;32m   2244\u001b[0m         \u001b[0mvalues\u001b[0m \u001b[0;34m=\u001b[0m \u001b[0mself\u001b[0m\u001b[0;34m.\u001b[0m\u001b[0mdropna\u001b[0m\u001b[0;34m(\u001b[0m\u001b[0;34m)\u001b[0m\u001b[0;34m.\u001b[0m\u001b[0mvalues\u001b[0m\u001b[0;34m\u001b[0m\u001b[0m\n\u001b[1;32m   2245\u001b[0m \u001b[0;34m\u001b[0m\u001b[0m\n\u001b[0;32m-> 2246\u001b[0;31m         \u001b[0max\u001b[0m\u001b[0;34m.\u001b[0m\u001b[0mhist\u001b[0m\u001b[0;34m(\u001b[0m\u001b[0mvalues\u001b[0m\u001b[0;34m,\u001b[0m \u001b[0mbins\u001b[0m\u001b[0;34m=\u001b[0m\u001b[0mbins\u001b[0m\u001b[0;34m,\u001b[0m \u001b[0;34m**\u001b[0m\u001b[0mkwds\u001b[0m\u001b[0;34m)\u001b[0m\u001b[0;34m\u001b[0m\u001b[0m\n\u001b[0m\u001b[1;32m   2247\u001b[0m         \u001b[0max\u001b[0m\u001b[0;34m.\u001b[0m\u001b[0mgrid\u001b[0m\u001b[0;34m(\u001b[0m\u001b[0mgrid\u001b[0m\u001b[0;34m)\u001b[0m\u001b[0;34m\u001b[0m\u001b[0m\n\u001b[1;32m   2248\u001b[0m         \u001b[0maxes\u001b[0m \u001b[0;34m=\u001b[0m \u001b[0mnp\u001b[0m\u001b[0;34m.\u001b[0m\u001b[0marray\u001b[0m\u001b[0;34m(\u001b[0m\u001b[0;34m[\u001b[0m\u001b[0max\u001b[0m\u001b[0;34m]\u001b[0m\u001b[0;34m)\u001b[0m\u001b[0;34m\u001b[0m\u001b[0m\n",
      "\u001b[0;32mC:\\Users\\Dan\\AppData\\Local\\Programs\\Python\\Python36\\lib\\site-packages\\matplotlib\\__init__.py\u001b[0m in \u001b[0;36minner\u001b[0;34m(ax, *args, **kwargs)\u001b[0m\n\u001b[1;32m   1708\u001b[0m                     warnings.warn(msg % (label_namer, func.__name__),\n\u001b[1;32m   1709\u001b[0m                                   RuntimeWarning, stacklevel=2)\n\u001b[0;32m-> 1710\u001b[0;31m             \u001b[0;32mreturn\u001b[0m \u001b[0mfunc\u001b[0m\u001b[0;34m(\u001b[0m\u001b[0max\u001b[0m\u001b[0;34m,\u001b[0m \u001b[0;34m*\u001b[0m\u001b[0margs\u001b[0m\u001b[0;34m,\u001b[0m \u001b[0;34m**\u001b[0m\u001b[0mkwargs\u001b[0m\u001b[0;34m)\u001b[0m\u001b[0;34m\u001b[0m\u001b[0m\n\u001b[0m\u001b[1;32m   1711\u001b[0m         \u001b[0mpre_doc\u001b[0m \u001b[0;34m=\u001b[0m \u001b[0minner\u001b[0m\u001b[0;34m.\u001b[0m\u001b[0m__doc__\u001b[0m\u001b[0;34m\u001b[0m\u001b[0m\n\u001b[1;32m   1712\u001b[0m         \u001b[0;32mif\u001b[0m \u001b[0mpre_doc\u001b[0m \u001b[0;32mis\u001b[0m \u001b[0;32mNone\u001b[0m\u001b[0;34m:\u001b[0m\u001b[0;34m\u001b[0m\u001b[0m\n",
      "\u001b[0;32mC:\\Users\\Dan\\AppData\\Local\\Programs\\Python\\Python36\\lib\\site-packages\\matplotlib\\axes\\_axes.py\u001b[0m in \u001b[0;36mhist\u001b[0;34m(***failed resolving arguments***)\u001b[0m\n\u001b[1;32m   6205\u001b[0m             \u001b[0;31m# this will automatically overwrite bins,\u001b[0m\u001b[0;34m\u001b[0m\u001b[0;34m\u001b[0m\u001b[0m\n\u001b[1;32m   6206\u001b[0m             \u001b[0;31m# so that each histogram uses the same bins\u001b[0m\u001b[0;34m\u001b[0m\u001b[0;34m\u001b[0m\u001b[0m\n\u001b[0;32m-> 6207\u001b[0;31m             \u001b[0mm\u001b[0m\u001b[0;34m,\u001b[0m \u001b[0mbins\u001b[0m \u001b[0;34m=\u001b[0m \u001b[0mnp\u001b[0m\u001b[0;34m.\u001b[0m\u001b[0mhistogram\u001b[0m\u001b[0;34m(\u001b[0m\u001b[0mx\u001b[0m\u001b[0;34m[\u001b[0m\u001b[0mi\u001b[0m\u001b[0;34m]\u001b[0m\u001b[0;34m,\u001b[0m \u001b[0mbins\u001b[0m\u001b[0;34m,\u001b[0m \u001b[0mweights\u001b[0m\u001b[0;34m=\u001b[0m\u001b[0mw\u001b[0m\u001b[0;34m[\u001b[0m\u001b[0mi\u001b[0m\u001b[0;34m]\u001b[0m\u001b[0;34m,\u001b[0m \u001b[0;34m**\u001b[0m\u001b[0mhist_kwargs\u001b[0m\u001b[0;34m)\u001b[0m\u001b[0;34m\u001b[0m\u001b[0m\n\u001b[0m\u001b[1;32m   6208\u001b[0m             \u001b[0mm\u001b[0m \u001b[0;34m=\u001b[0m \u001b[0mm\u001b[0m\u001b[0;34m.\u001b[0m\u001b[0mastype\u001b[0m\u001b[0;34m(\u001b[0m\u001b[0mfloat\u001b[0m\u001b[0;34m)\u001b[0m  \u001b[0;31m# causes problems later if it's an int\u001b[0m\u001b[0;34m\u001b[0m\u001b[0m\n\u001b[1;32m   6209\u001b[0m             \u001b[0;32mif\u001b[0m \u001b[0mmlast\u001b[0m \u001b[0;32mis\u001b[0m \u001b[0;32mNone\u001b[0m\u001b[0;34m:\u001b[0m\u001b[0;34m\u001b[0m\u001b[0m\n",
      "\u001b[0;32mC:\\Users\\Dan\\AppData\\Local\\Programs\\Python\\Python36\\lib\\site-packages\\numpy\\lib\\function_base.py\u001b[0m in \u001b[0;36mhistogram\u001b[0;34m(a, bins, range, normed, weights, density)\u001b[0m\n\u001b[1;32m    794\u001b[0m             \u001b[0;32mfor\u001b[0m \u001b[0mi\u001b[0m \u001b[0;32min\u001b[0m \u001b[0marange\u001b[0m\u001b[0;34m(\u001b[0m\u001b[0;36m0\u001b[0m\u001b[0;34m,\u001b[0m \u001b[0mlen\u001b[0m\u001b[0;34m(\u001b[0m\u001b[0ma\u001b[0m\u001b[0;34m)\u001b[0m\u001b[0;34m,\u001b[0m \u001b[0mBLOCK\u001b[0m\u001b[0;34m)\u001b[0m\u001b[0;34m:\u001b[0m\u001b[0;34m\u001b[0m\u001b[0m\n\u001b[1;32m    795\u001b[0m                 \u001b[0msa\u001b[0m \u001b[0;34m=\u001b[0m \u001b[0msort\u001b[0m\u001b[0;34m(\u001b[0m\u001b[0ma\u001b[0m\u001b[0;34m[\u001b[0m\u001b[0mi\u001b[0m\u001b[0;34m:\u001b[0m\u001b[0mi\u001b[0m\u001b[0;34m+\u001b[0m\u001b[0mBLOCK\u001b[0m\u001b[0;34m]\u001b[0m\u001b[0;34m)\u001b[0m\u001b[0;34m\u001b[0m\u001b[0m\n\u001b[0;32m--> 796\u001b[0;31m                 n += np.r_[sa.searchsorted(bins[:-1], 'left'),\n\u001b[0m\u001b[1;32m    797\u001b[0m                            sa.searchsorted(bins[-1], 'right')]\n\u001b[1;32m    798\u001b[0m         \u001b[0;32melse\u001b[0m\u001b[0;34m:\u001b[0m\u001b[0;34m\u001b[0m\u001b[0m\n",
      "\u001b[0;31mKeyboardInterrupt\u001b[0m: "
     ],
     "output_type": "error"
    },
    {
     "data": {
      "image/png": "[encoded data removed]",
      "text/plain": [
       "<matplotlib.figure.Figure at 0x1de82ae6588>"
      ]
     },
     "metadata": {},
     "output_type": "display_data"
    }
   ],
   "source": [
    "hist = kaggle_taps[(kaggle_taps.HoldTime < 80) & (kaggle_taps.HoldTime > 75)].HoldTime \\\n",
    "    .hist(bins=100).set(xlabel=\"'HoldTime' value\", ylabel=\"Count of occurrences\")"
   ]
  },
  {
   "cell_type": "markdown",
   "metadata": {},
   "source": [
    "We can see that the value is '78.1' is extremely common (>600,000 occurrences) while other close values are rare.\n",
    "We therefore conclude that the Kaggle data has built-in corrupted entries which are hard to distinguish from the correct ones. Trying to filter out such extremely common values leads to losing the vast majority of tha data. We therefore decided to continue working with the original data but keeping in mind the understanding that the signal could be corrupted."
   ]
  },
  {
   "cell_type": "markdown",
   "metadata": {},
   "source": [
    "##Load full users and taps datasets from MIT dataset"
   ]
  },
  {
   "cell_type": "code",
   "execution_count": 12,
   "metadata": {
    "collapsed": true
   },
   "outputs": [
    {
     "name": "stdout",
     "output_type": "stream",
     "text": [
      "Filtered out 1 rows with bad values in column 'HoldTime'\nFiltered out 3504 rows with bad values in column 'LatencyTime'"
     ]
    },
    {
     "name": "stdout",
     "output_type": "stream",
     "text": [
      "\nFiltered out 12987 rows with bad values in column 'FlightTime'\n"
     ]
    },
    {
     "name": "stdout",
     "output_type": "stream",
     "text": [
      "Filtered out 0 rows with bad values in column 'pressTime'\n"
     ]
    },
    {
     "name": "stdout",
     "output_type": "stream",
     "text": [
      "Filtered out 10664 rows with bad values in column 'Hand'\nFiltered out 5817 rows with bad values in column 'Direction'"
     ]
    },
    {
     "name": "stdout",
     "output_type": "stream",
     "text": [
      "\n\nMIT taps initial dataframe:\n\n   ID Hand Direction HoldTime  LatencyTime FlightTime pressTime\n1  68    R        LR   0.1194  1.40111e+09     1.7662    1.8314\n2  68    L        RL   0.1337       0.5904      0.471    2.4218\n3  68    L        LL   0.1847       0.4731     0.3394    2.8949\n4  68    L        LL   0.1499       0.3464     0.1617    3.2413\n5  68    R        LR   0.2137       0.7203     0.5704    3.9616\n"
     ]
    }
   ],
   "source": [
    "from mit_data_loader import *\n",
    "    \n",
    "if PROCESS_DATA_FILES:\n",
    "    mit_users = pd.read_csv(USERS, delimiter=',', header=0, error_bad_lines=False,\n",
    "                            low_memory=False, usecols=[\"pID\", \"gt\", \"updrs108\", \"file_1\", \"file_2\"])\n",
    "    \n",
    "    mit_taps = create_merged_taps_dataframe()\n",
    "    mit_taps = clean_errors_and_bad_values(mit_taps)\n",
    "\n",
    "    print(\"\\nMIT taps initial dataframe:\\n\")\n",
    "    print(mit_taps.head())"
   ]
  },
  {
   "cell_type": "markdown",
   "metadata": {},
   "source": [
    "Divide keystrokes to time-intervals of 90 seconds:"
   ]
  },
  {
   "cell_type": "code",
   "execution_count": 13,
   "metadata": {},
   "outputs": [],
   "source": [
    "if PROCESS_DATA_FILES:\n",
    "\n",
    "    # Group to bin indexes by pressTime and add as a new column\n",
    "    bin_size_seconds = 90\n",
    "    max_press = (int(max(mit_taps[\"pressTime\"]) / bin_size_seconds) + 1) * bin_size_seconds + 1\n",
    "    user_bins = [i for i in range(0, max_press, bin_size_seconds)]\n",
    "    mit_taps[\"binIndex\"] = pd.cut(mit_taps[\"pressTime\"], user_bins)"
   ]
  },
  {
   "cell_type": "markdown",
   "metadata": {},
   "source": [
    "Filter outliers:"
   ]
  },
  {
   "cell_type": "code",
   "execution_count": 14,
   "metadata": {},
   "outputs": [
    {
     "data": {
      "image/png": "[encoded data removed]",
      "text/plain": [
       "<matplotlib.figure.Figure at 0x1df2f0d1fd0>"
      ]
     },
     "metadata": {},
     "output_type": "display_data"
    },
    {
     "data": {
      "image/png": "[encoded data removed]",
      "text/plain": [
       "<matplotlib.figure.Figure at 0x1df2ee71208>"
      ]
     },
     "metadata": {},
     "output_type": "display_data"
    },
    {
     "data": {
      "image/png": "[encoded data removed]",
      "text/plain": [
       "<matplotlib.figure.Figure at 0x1df2f0699b0>"
      ]
     },
     "metadata": {},
     "output_type": "display_data"
    },
    {
     "name": "stdout",
     "output_type": "stream",
     "text": [
      "Filtered out 15 rows with outliers in column 'HoldTime'\n"
     ]
    },
    {
     "name": "stdout",
     "output_type": "stream",
     "text": [
      "Filtered out 867 rows with outliers in column 'LatencyTime'\nFiltered out 72 rows with outliers in column 'FlightTime'"
     ]
    },
    {
     "name": "stdout",
     "output_type": "stream",
     "text": [
      "\n"
     ]
    }
   ],
   "source": [
    "if PROCESS_DATA_FILES:\n",
    "    \n",
    "    def plot_percentile(df, column, start, end, bins):\n",
    "        X = np.linspace(start, end, bins)\n",
    "        Y = [np.percentile(df[column], x) for x in X]\n",
    "        plt.plot(X, Y)\n",
    "        plt.title(column + \" Percentiles\")\n",
    "        plt.xlabel(\"Percent\")\n",
    "        plt.ylabel(\"Percentile Value\")\n",
    "        plt.show()\n",
    "    \n",
    "    \n",
    "    def filter_column_by_quantile(df, column, threshold):\n",
    "        len_before = len(df)\n",
    "        df = df[df[column] < np.percentile(df[column], threshold)]\n",
    "        len_after = len(df)\n",
    "        print(\"Filtered out {} rows with outliers in column '{}'\".format((len_before - len_after), column))\n",
    "        return df\n",
    "    \n",
    "    for col in list(set(FLOAT_COLUMNS) - {\"pressTime\"}):\n",
    "        plot_percentile(mit_taps, col, 98, 99.9999, 40)\n",
    "    \n",
    "    # Filter according to the results in the plots\n",
    "    mit_taps = filter_column_by_quantile(mit_taps, \"HoldTime\", 99.99)\n",
    "    mit_taps = filter_column_by_quantile(mit_taps, \"LatencyTime\", 99.4)\n",
    "    mit_taps = filter_column_by_quantile(mit_taps, \"FlightTime\", 99.95)"
   ]
  },
  {
   "cell_type": "markdown",
   "metadata": {},
   "source": [
    "Save final dataframe:"
   ]
  },
  {
   "cell_type": "code",
   "execution_count": 15,
   "metadata": {},
   "outputs": [],
   "source": [
    "if PROCESS_DATA_FILES:\n",
    "\n",
    "    # Save to file - Taps file\n",
    "    mit_taps[[\"HoldTime\", \"LatencyTime\", \"FlightTime\"]] = \\\n",
    "        1000 * mit_taps[[\"HoldTime\", \"LatencyTime\", \"FlightTime\"]]  # to milliseconds\n",
    "    mit_taps.to_csv(MIT_TAPS_INPUT, index=False)\n",
    "    \n",
    "    # Save to file - Users file\n",
    "    mit_users.rename(columns={'pID': 'ID', 'gt': 'Parkinsons', 'updrs108': 'UPDRS'}, inplace=True)\n",
    "    mit_users = mit_users[['ID', 'Parkinsons', 'UPDRS']]\n",
    "    \n",
    "    mit_users.to_csv(MIT_USERS_INPUT, index=False)"
   ]
  },
  {
   "cell_type": "code",
   "execution_count": 16,
   "metadata": {},
   "outputs": [
    {
     "name": "stdout",
     "output_type": "stream",
     "text": [
      "MIT users dataframe:\n\n   ID  Parkinsons  UPDRS\n0  11        True  14.25\n1  60       False   2.00\n2  67        True  25.25\n3  68       False   6.00\n4  70        True  26.25\n\nMIT taps final dataframe:\n\n   ID Hand Direction  HoldTime  LatencyTime  FlightTime  pressTime binIndex\n0  68    L        RL     133.7        590.4       471.0     2.4218  (0, 90]\n1  68    L        LL     184.7        473.1       339.4     2.8949  (0, 90]\n2  68    L        LL     149.9        346.4       161.7     3.2413  (0, 90]\n3  68    R        LR     213.7        720.3       570.4     3.9616  (0, 90]\n4  68    R        RR     164.3       2505.7      2291.9     6.4673  (0, 90]\n"
     ]
    }
   ],
   "source": [
    "mit_taps = pd.read_csv(MIT_TAPS_INPUT)\n",
    "mit_users = pd.read_csv(MIT_USERS_INPUT)\n",
    "\n",
    "print(\"MIT users dataframe:\\n\")\n",
    "print(mit_users.head())\n",
    "print(\"\\nMIT taps final dataframe:\\n\")\n",
    "print(mit_taps.head())"
   ]
  },
  {
   "cell_type": "markdown",
   "metadata": {},
   "source": [
    "Summary plots on MIT data:"
   ]
  },
  {
   "cell_type": "code",
   "execution_count": 17,
   "metadata": {},
   "outputs": [
    {
     "data": {
      "image/png": "[encoded data removed]",
      "text/plain": [
       "<matplotlib.figure.Figure at 0x1df2ef68e80>"
      ]
     },
     "metadata": {},
     "output_type": "display_data"
    }
   ],
   "source": [
    "warnings.simplefilter(action='ignore', category=FutureWarning) # Ignore pandas warning caused by an internal call to deprecated 'reshape'\n",
    "\n",
    "fig = plt.figure(figsize=(15, 5))\n",
    "mit_updrs_distribution(fig, mit_users)\n",
    "mit_diagnosis(fig, mit_users)\n",
    "\n",
    "warnings.resetwarnings()"
   ]
  },
  {
   "cell_type": "markdown",
   "metadata": {},
   "source": [
    "#Feature Creation"
   ]
  },
  {
   "cell_type": "markdown",
   "metadata": {},
   "source": [
    "##1. Creating features from the Kaggle data set, according to the first approach:\n",
    "\n",
    "For every patient, calculate summary statistics for all of their data, partitioned into Left/Right, and LR/RL/LL/RR transitions: \n"
   ]
  },
  {
   "cell_type": "code",
   "execution_count": 18,
   "metadata": {},
   "outputs": [
    {
     "ename": "ValueError",
     "evalue": "no results",
     "traceback": [
      "\u001b[0;31m---------------------------------------------------------------------------\u001b[0m",
      "\u001b[0;31mValueError\u001b[0m                                Traceback (most recent call last)",
      "\u001b[0;32m<ipython-input-18-547f69f58769>\u001b[0m in \u001b[0;36m<module>\u001b[0;34m()\u001b[0m\n\u001b[1;32m      4\u001b[0m                                                  aggregation_functions=[np.mean, np.std, stats.kurtosis, stats.skew,\n\u001b[1;32m      5\u001b[0m                                                             \u001b[0mstats\u001b[0m\u001b[0;34m.\u001b[0m\u001b[0mentropy\u001b[0m\u001b[0;34m,\u001b[0m \u001b[0mpercnt10\u001b[0m\u001b[0;34m,\u001b[0m \u001b[0mpercnt20\u001b[0m\u001b[0;34m,\u001b[0m \u001b[0mpercnt40\u001b[0m\u001b[0;34m,\u001b[0m \u001b[0mpercnt60\u001b[0m\u001b[0;34m,\u001b[0m \u001b[0mpercnt70\u001b[0m\u001b[0;34m,\u001b[0m\u001b[0;34m\u001b[0m\u001b[0m\n\u001b[0;32m----> 6\u001b[0;31m                                                             percnt80, percnt90])\n\u001b[0m\u001b[1;32m      7\u001b[0m     \u001b[0;31m# Add a feature of the mean-diff between Left and Right HoldTimes, and Between LR and RL LatencyTimes:\u001b[0m\u001b[0;34m\u001b[0m\u001b[0;34m\u001b[0m\u001b[0m\n\u001b[1;32m      8\u001b[0m     \u001b[0mmethod1_features\u001b[0m\u001b[0;34m[\u001b[0m\u001b[0;34m\"mean_diff_L_R_HoldTime\"\u001b[0m\u001b[0;34m]\u001b[0m \u001b[0;34m=\u001b[0m \u001b[0mmethod1_features\u001b[0m\u001b[0;34m.\u001b[0m\u001b[0mR_HoldTime_mean\u001b[0m \u001b[0;34m-\u001b[0m \u001b[0mmethod1_features\u001b[0m\u001b[0;34m.\u001b[0m\u001b[0mL_HoldTime_mean\u001b[0m\u001b[0;34m\u001b[0m\u001b[0m\n",
      "\u001b[0;32mC:\\Users\\Dan\\Google Drive\\University\\Year3\\DSWorkshop\\method1_feature_extraction.py\u001b[0m in \u001b[0;36mcreate_summary_statistics\u001b[0;34m(full_data, columns_to_aggregate, aggregation_functions)\u001b[0m\n\u001b[1;32m     14\u001b[0m     \u001b[0;31m# Calculate statistics for rows that match 'Left' / 'Right' keystrokes:\u001b[0m\u001b[0;34m\u001b[0m\u001b[0;34m\u001b[0m\u001b[0m\n\u001b[1;32m     15\u001b[0m     \u001b[0mleft_right_stats\u001b[0m \u001b[0;34m=\u001b[0m \u001b[0mfull_data\u001b[0m\u001b[0;34m.\u001b[0m\u001b[0mgroupby\u001b[0m\u001b[0;34m(\u001b[0m\u001b[0;34m[\u001b[0m\u001b[0;34m\"ID\"\u001b[0m\u001b[0;34m,\u001b[0m \u001b[0;34m\"Hand\"\u001b[0m\u001b[0;34m]\u001b[0m\u001b[0;34m)\u001b[0m\u001b[0;34m[\u001b[0m\u001b[0mcolumns_to_aggregate\u001b[0m\u001b[0;34m]\u001b[0m\u001b[0;34m.\u001b[0m\u001b[0;31m \u001b[0m\u001b[0;31m\\\u001b[0m\u001b[0;34m\u001b[0m\u001b[0m\n\u001b[0;32m---> 16\u001b[0;31m         \u001b[0magg\u001b[0m\u001b[0;34m(\u001b[0m\u001b[0maggregation_functions\u001b[0m\u001b[0;34m)\u001b[0m\u001b[0;34m.\u001b[0m\u001b[0mreset_index\u001b[0m\u001b[0;34m(\u001b[0m\u001b[0;34m)\u001b[0m\u001b[0;34m\u001b[0m\u001b[0m\n\u001b[0m\u001b[1;32m     17\u001b[0m     \u001b[0mleftHandStats\u001b[0m \u001b[0;34m=\u001b[0m \u001b[0mleft_right_stats\u001b[0m\u001b[0;34m[\u001b[0m\u001b[0mleft_right_stats\u001b[0m\u001b[0;34m.\u001b[0m\u001b[0mHand\u001b[0m \u001b[0;34m==\u001b[0m \u001b[0;34m'L'\u001b[0m\u001b[0;34m]\u001b[0m\u001b[0;34m\u001b[0m\u001b[0m\n\u001b[1;32m     18\u001b[0m     \u001b[0mrightHandStats\u001b[0m \u001b[0;34m=\u001b[0m \u001b[0mleft_right_stats\u001b[0m\u001b[0;34m[\u001b[0m\u001b[0mleft_right_stats\u001b[0m\u001b[0;34m.\u001b[0m\u001b[0mHand\u001b[0m \u001b[0;34m==\u001b[0m \u001b[0;34m'R'\u001b[0m\u001b[0;34m]\u001b[0m\u001b[0;34m\u001b[0m\u001b[0m\n",
      "\u001b[0;32mC:\\Users\\Dan\\AppData\\Local\\Programs\\Python\\Python36\\lib\\site-packages\\pandas\\core\\groupby.py\u001b[0m in \u001b[0;36maggregate\u001b[0;34m(self, arg, *args, **kwargs)\u001b[0m\n\u001b[1;32m   4289\u001b[0m         versionadded=''))\n\u001b[1;32m   4290\u001b[0m     \u001b[0;32mdef\u001b[0m \u001b[0maggregate\u001b[0m\u001b[0;34m(\u001b[0m\u001b[0mself\u001b[0m\u001b[0;34m,\u001b[0m \u001b[0marg\u001b[0m\u001b[0;34m,\u001b[0m \u001b[0;34m*\u001b[0m\u001b[0margs\u001b[0m\u001b[0;34m,\u001b[0m \u001b[0;34m**\u001b[0m\u001b[0mkwargs\u001b[0m\u001b[0;34m)\u001b[0m\u001b[0;34m:\u001b[0m\u001b[0;34m\u001b[0m\u001b[0m\n\u001b[0;32m-> 4291\u001b[0;31m         \u001b[0;32mreturn\u001b[0m \u001b[0msuper\u001b[0m\u001b[0;34m(\u001b[0m\u001b[0mDataFrameGroupBy\u001b[0m\u001b[0;34m,\u001b[0m \u001b[0mself\u001b[0m\u001b[0;34m)\u001b[0m\u001b[0;34m.\u001b[0m\u001b[0maggregate\u001b[0m\u001b[0;34m(\u001b[0m\u001b[0marg\u001b[0m\u001b[0;34m,\u001b[0m \u001b[0;34m*\u001b[0m\u001b[0margs\u001b[0m\u001b[0;34m,\u001b[0m \u001b[0;34m**\u001b[0m\u001b[0mkwargs\u001b[0m\u001b[0;34m)\u001b[0m\u001b[0;34m\u001b[0m\u001b[0m\n\u001b[0m\u001b[1;32m   4292\u001b[0m \u001b[0;34m\u001b[0m\u001b[0m\n\u001b[1;32m   4293\u001b[0m     \u001b[0magg\u001b[0m \u001b[0;34m=\u001b[0m \u001b[0maggregate\u001b[0m\u001b[0;34m\u001b[0m\u001b[0m\n",
      "\u001b[0;32mC:\\Users\\Dan\\AppData\\Local\\Programs\\Python\\Python36\\lib\\site-packages\\pandas\\core\\groupby.py\u001b[0m in \u001b[0;36maggregate\u001b[0;34m(self, arg, *args, **kwargs)\u001b[0m\n\u001b[1;32m   3722\u001b[0m \u001b[0;34m\u001b[0m\u001b[0m\n\u001b[1;32m   3723\u001b[0m         \u001b[0m_level\u001b[0m \u001b[0;34m=\u001b[0m \u001b[0mkwargs\u001b[0m\u001b[0;34m.\u001b[0m\u001b[0mpop\u001b[0m\u001b[0;34m(\u001b[0m\u001b[0;34m'_level'\u001b[0m\u001b[0;34m,\u001b[0m \u001b[0;32mNone\u001b[0m\u001b[0;34m)\u001b[0m\u001b[0;34m\u001b[0m\u001b[0m\n\u001b[0;32m-> 3724\u001b[0;31m         \u001b[0mresult\u001b[0m\u001b[0;34m,\u001b[0m \u001b[0mhow\u001b[0m \u001b[0;34m=\u001b[0m \u001b[0mself\u001b[0m\u001b[0;34m.\u001b[0m\u001b[0m_aggregate\u001b[0m\u001b[0;34m(\u001b[0m\u001b[0marg\u001b[0m\u001b[0;34m,\u001b[0m \u001b[0m_level\u001b[0m\u001b[0;34m=\u001b[0m\u001b[0m_level\u001b[0m\u001b[0;34m,\u001b[0m \u001b[0;34m*\u001b[0m\u001b[0margs\u001b[0m\u001b[0;34m,\u001b[0m \u001b[0;34m**\u001b[0m\u001b[0mkwargs\u001b[0m\u001b[0;34m)\u001b[0m\u001b[0;34m\u001b[0m\u001b[0m\n\u001b[0m\u001b[1;32m   3725\u001b[0m         \u001b[0;32mif\u001b[0m \u001b[0mhow\u001b[0m \u001b[0;32mis\u001b[0m \u001b[0;32mNone\u001b[0m\u001b[0;34m:\u001b[0m\u001b[0;34m\u001b[0m\u001b[0m\n\u001b[1;32m   3726\u001b[0m             \u001b[0;32mreturn\u001b[0m \u001b[0mresult\u001b[0m\u001b[0;34m\u001b[0m\u001b[0m\n",
      "\u001b[0;32mC:\\Users\\Dan\\AppData\\Local\\Programs\\Python\\Python36\\lib\\site-packages\\pandas\\core\\base.py\u001b[0m in \u001b[0;36m_aggregate\u001b[0;34m(self, arg, *args, **kwargs)\u001b[0m\n\u001b[1;32m    537\u001b[0m             return self._aggregate_multiple_funcs(arg,\n\u001b[1;32m    538\u001b[0m                                                   \u001b[0m_level\u001b[0m\u001b[0;34m=\u001b[0m\u001b[0m_level\u001b[0m\u001b[0;34m,\u001b[0m\u001b[0;34m\u001b[0m\u001b[0m\n\u001b[0;32m--> 539\u001b[0;31m                                                   _axis=_axis), None\n\u001b[0m\u001b[1;32m    540\u001b[0m         \u001b[0;32melse\u001b[0m\u001b[0;34m:\u001b[0m\u001b[0;34m\u001b[0m\u001b[0m\n\u001b[1;32m    541\u001b[0m             \u001b[0mresult\u001b[0m \u001b[0;34m=\u001b[0m \u001b[0;32mNone\u001b[0m\u001b[0;34m\u001b[0m\u001b[0m\n",
      "\u001b[0;32mC:\\Users\\Dan\\AppData\\Local\\Programs\\Python\\Python36\\lib\\site-packages\\pandas\\core\\base.py\u001b[0m in \u001b[0;36m_aggregate_multiple_funcs\u001b[0;34m(self, arg, _level, _axis)\u001b[0m\n\u001b[1;32m    594\u001b[0m         \u001b[0;31m# if we are empty\u001b[0m\u001b[0;34m\u001b[0m\u001b[0;34m\u001b[0m\u001b[0m\n\u001b[1;32m    595\u001b[0m         \u001b[0;32mif\u001b[0m \u001b[0;32mnot\u001b[0m \u001b[0mlen\u001b[0m\u001b[0;34m(\u001b[0m\u001b[0mresults\u001b[0m\u001b[0;34m)\u001b[0m\u001b[0;34m:\u001b[0m\u001b[0;34m\u001b[0m\u001b[0m\n\u001b[0;32m--> 596\u001b[0;31m             \u001b[0;32mraise\u001b[0m \u001b[0mValueError\u001b[0m\u001b[0;34m(\u001b[0m\u001b[0;34m\"no results\"\u001b[0m\u001b[0;34m)\u001b[0m\u001b[0;34m\u001b[0m\u001b[0m\n\u001b[0m\u001b[1;32m    597\u001b[0m \u001b[0;34m\u001b[0m\u001b[0m\n\u001b[1;32m    598\u001b[0m         \u001b[0;32mtry\u001b[0m\u001b[0;34m:\u001b[0m\u001b[0;34m\u001b[0m\u001b[0m\n",
      "\u001b[0;31mValueError\u001b[0m: no results"
     ],
     "output_type": "error"
    }
   ],
   "source": [
    "if CALCULATE_FEATURES:\n",
    "    method1_features = create_summary_statistics(kaggle_taps,\n",
    "                                                 columns_to_aggregate=[\"FlightTime\", \"HoldTime\", \"LatencyTime\"],\n",
    "                                                 aggregation_functions=[np.mean, np.std, stats.kurtosis, stats.skew,\n",
    "                                                            stats.entropy, percnt10, percnt20, percnt40, percnt60, percnt70,\n",
    "                                                            percnt80, percnt90])\n",
    "    # Add a feature of the mean-diff between Left and Right HoldTimes, and Between LR and RL LatencyTimes:\n",
    "    method1_features[\"mean_diff_L_R_HoldTime\"] = method1_features.R_HoldTime_mean - method1_features.L_HoldTime_mean\n",
    "    method1_features[\"mean_diff_LR_RL_LatencyTime\"] = method1_features.RL_LatencyTime_mean - method1_features.LR_LatencyTime_mean\n",
    "    method1_features[\"mean_diff_LL_RR_LatencyTime\"] = method1_features.LL_LatencyTime_mean - method1_features.RR_LatencyTime_mean\n",
    "    \n",
    "    # Join with the Users data:\n",
    "    method1_features = method1_features.merge(kaggle_users, on=\"ID\", how=\"left\")\n",
    "    # Dump to csv:\n",
    "    method1_features.to_csv(KAGGLE_DATA_ARTICLE_METHOD1_FEATURES)\n",
    "else:\n",
    "    method1_features = pd.read_csv(KAGGLE_DATA_ARTICLE_METHOD1_FEATURES)\n",
    "    \n",
    "print(\"Summary statistics on the Kaggle data:\\n\\n\",method1_features.head())"
   ]
  },
  {
   "cell_type": "markdown",
   "metadata": {},
   "source": [
    "Filter the data so that we only keep patients with plenty of tapping events, and only patients with mild Parkinsons:"
   ]
  },
  {
   "cell_type": "code",
   "execution_count": 19,
   "metadata": {},
   "outputs": [
    {
     "ename": "NameError",
     "evalue": "name 'method1_features' is not defined",
     "traceback": [
      "\u001b[0;31m---------------------------------------------------------------------------\u001b[0m",
      "\u001b[0;31mNameError\u001b[0m                                 Traceback (most recent call last)",
      "\u001b[0;32m<ipython-input-19-b7128deb6233>\u001b[0m in \u001b[0;36m<module>\u001b[0;34m()\u001b[0m\n\u001b[0;32m----> 1\u001b[0;31m \u001b[0mmethod1_features\u001b[0m \u001b[0;34m=\u001b[0m \u001b[0mmethod1_features\u001b[0m\u001b[0;34m[\u001b[0m\u001b[0mmethod1_features\u001b[0m\u001b[0;34m.\u001b[0m\u001b[0mtotal_count\u001b[0m \u001b[0;34m>=\u001b[0m \u001b[0mTAPS_THRESHOLD\u001b[0m\u001b[0;34m]\u001b[0m  \u001b[0;31m# take only users with more than THRESHOLD keystrokes\u001b[0m\u001b[0;34m\u001b[0m\u001b[0m\n\u001b[0m\u001b[1;32m      2\u001b[0m \u001b[0mmethod1_features\u001b[0m \u001b[0;34m=\u001b[0m \u001b[0mmethod1_features\u001b[0m\u001b[0;34m[\u001b[0m\u001b[0mmethod1_features\u001b[0m\u001b[0;34m.\u001b[0m\u001b[0mLevadopa\u001b[0m\u001b[0;34m.\u001b[0m\u001b[0mastype\u001b[0m\u001b[0;34m(\u001b[0m\u001b[0mstr\u001b[0m\u001b[0;34m)\u001b[0m \u001b[0;34m==\u001b[0m \u001b[0;34m'False'\u001b[0m\u001b[0;34m]\u001b[0m\u001b[0;34m\u001b[0m\u001b[0m\n\u001b[1;32m      3\u001b[0m \u001b[0mmethod1_features\u001b[0m \u001b[0;34m=\u001b[0m \u001b[0mmethod1_features\u001b[0m\u001b[0;34m[\u001b[0m\u001b[0;34m(\u001b[0m\u001b[0mmethod1_features\u001b[0m\u001b[0;34m.\u001b[0m\u001b[0mParkinsons\u001b[0m\u001b[0;34m.\u001b[0m\u001b[0mastype\u001b[0m\u001b[0;34m(\u001b[0m\u001b[0mstr\u001b[0m\u001b[0;34m)\u001b[0m \u001b[0;34m==\u001b[0m \u001b[0;34m'False'\u001b[0m\u001b[0;34m)\u001b[0m \u001b[0;34m|\u001b[0m \u001b[0;34m(\u001b[0m \u001b[0;34m(\u001b[0m\u001b[0mmethod1_features\u001b[0m\u001b[0;34m.\u001b[0m\u001b[0mParkinsons\u001b[0m\u001b[0;34m.\u001b[0m\u001b[0mastype\u001b[0m\u001b[0;34m(\u001b[0m\u001b[0mstr\u001b[0m\u001b[0;34m)\u001b[0m \u001b[0;34m==\u001b[0m \u001b[0;34m'True'\u001b[0m\u001b[0;34m)\u001b[0m \u001b[0;34m&\u001b[0m \u001b[0;34m(\u001b[0m\u001b[0mmethod1_features\u001b[0m\u001b[0;34m.\u001b[0m\u001b[0mImpact\u001b[0m \u001b[0;34m==\u001b[0m \u001b[0;34m\"Mild\"\u001b[0m\u001b[0;34m)\u001b[0m\u001b[0;34m)\u001b[0m\u001b[0;34m]\u001b[0m\u001b[0;34m\u001b[0m\u001b[0m\n",
      "\u001b[0;31mNameError\u001b[0m: name 'method1_features' is not defined"
     ],
     "output_type": "error"
    }
   ],
   "source": [
    "method1_features = method1_features[method1_features.total_count >= TAPS_THRESHOLD]  # take only users with more than THRESHOLD keystrokes\n",
    "method1_features = method1_features[method1_features.Levadopa.astype(str) == 'False']\n",
    "method1_features = method1_features[(method1_features.Parkinsons.astype(str) == 'False') | ( (method1_features.Parkinsons.astype(str) == 'True') & (method1_features.Impact == \"Mild\"))]"
   ]
  },
  {
   "cell_type": "markdown",
   "metadata": {},
   "source": [
    "### Summary plots of Kaggle data features\n",
    "For example, following are the plots of the features of the Left side FlightTime data:"
   ]
  },
  {
   "cell_type": "code",
   "execution_count": 20,
   "metadata": {},
   "outputs": [
    {
     "ename": "NameError",
     "evalue": "name 'method1_features' is not defined",
     "traceback": [
      "\u001b[0;31m---------------------------------------------------------------------------\u001b[0m",
      "\u001b[0;31mNameError\u001b[0m                                 Traceback (most recent call last)",
      "\u001b[0;32m<ipython-input-20-1f2b95cb2275>\u001b[0m in \u001b[0;36m<module>\u001b[0;34m()\u001b[0m\n\u001b[1;32m      1\u001b[0m \u001b[0mwarnings\u001b[0m\u001b[0;34m.\u001b[0m\u001b[0msimplefilter\u001b[0m\u001b[0;34m(\u001b[0m\u001b[0maction\u001b[0m\u001b[0;34m=\u001b[0m\u001b[0;34m'ignore'\u001b[0m\u001b[0;34m,\u001b[0m \u001b[0mcategory\u001b[0m\u001b[0;34m=\u001b[0m\u001b[0mFutureWarning\u001b[0m\u001b[0;34m)\u001b[0m \u001b[0;31m# Ignore pandas warning caused by an internal call to deprecated 'reshape'\u001b[0m\u001b[0;34m\u001b[0m\u001b[0m\n\u001b[1;32m      2\u001b[0m \u001b[0;34m\u001b[0m\u001b[0m\n\u001b[0;32m----> 3\u001b[0;31m \u001b[0msick\u001b[0m \u001b[0;34m=\u001b[0m \u001b[0mmethod1_features\u001b[0m\u001b[0;34m.\u001b[0m\u001b[0mloc\u001b[0m\u001b[0;34m[\u001b[0m\u001b[0;34m(\u001b[0m\u001b[0mmethod1_features\u001b[0m\u001b[0;34m[\u001b[0m\u001b[0;34m'Parkinsons'\u001b[0m\u001b[0;34m]\u001b[0m \u001b[0;34m==\u001b[0m \u001b[0;32mTrue\u001b[0m\u001b[0;34m)\u001b[0m\u001b[0;34m]\u001b[0m\u001b[0;34m\u001b[0m\u001b[0m\n\u001b[0m\u001b[1;32m      4\u001b[0m \u001b[0mhealthy\u001b[0m \u001b[0;34m=\u001b[0m \u001b[0mmethod1_features\u001b[0m\u001b[0;34m.\u001b[0m\u001b[0mloc\u001b[0m\u001b[0;34m[\u001b[0m\u001b[0;34m(\u001b[0m\u001b[0mmethod1_features\u001b[0m\u001b[0;34m[\u001b[0m\u001b[0;34m'Parkinsons'\u001b[0m\u001b[0;34m]\u001b[0m \u001b[0;34m==\u001b[0m \u001b[0;32mFalse\u001b[0m\u001b[0;34m)\u001b[0m\u001b[0;34m]\u001b[0m\u001b[0;34m\u001b[0m\u001b[0m\n\u001b[1;32m      5\u001b[0m \u001b[0;34m\u001b[0m\u001b[0m\n",
      "\u001b[0;31mNameError\u001b[0m: name 'method1_features' is not defined"
     ],
     "output_type": "error"
    }
   ],
   "source": [
    "warnings.simplefilter(action='ignore', category=FutureWarning) # Ignore pandas warning caused by an internal call to deprecated 'reshape'\n",
    "\n",
    "sick = method1_features.loc[(method1_features['Parkinsons'] == True)]\n",
    "healthy = method1_features.loc[(method1_features['Parkinsons'] == False)]\n",
    "\n",
    "fig = plt.figure(figsize=(15, 10))\n",
    "lFlight_mean(fig, sick, healthy)\n",
    "lFlight_std(fig, sick, healthy)\n",
    "lFlight_kurtosis(fig, sick, healthy)\n",
    "lFlight_skew(fig, sick, healthy)"
   ]
  },
  {
   "cell_type": "heading",
   "metadata": {},
   "level": 4,
   "source": [
    "Following are the plots describing the differences in means of different sides (Left, Right) HoldTime and side-switching (Left-to-Right, Right-to-Left, etc) LatencyTime:"
   ]
  },
  {
   "cell_type": "code",
   "execution_count": 21,
   "metadata": {},
   "outputs": [
    {
     "ename": "NameError",
     "evalue": "name 'healthy' is not defined",
     "traceback": [
      "\u001b[0;31m---------------------------------------------------------------------------\u001b[0m",
      "\u001b[0;31mNameError\u001b[0m                                 Traceback (most recent call last)",
      "\u001b[0;32m<ipython-input-21-0ba5001b4da2>\u001b[0m in \u001b[0;36m<module>\u001b[0;34m()\u001b[0m\n\u001b[1;32m      1\u001b[0m \u001b[0mfig\u001b[0m \u001b[0;34m=\u001b[0m \u001b[0mplt\u001b[0m\u001b[0;34m.\u001b[0m\u001b[0mfigure\u001b[0m\u001b[0;34m(\u001b[0m\u001b[0mfigsize\u001b[0m\u001b[0;34m=\u001b[0m\u001b[0;34m(\u001b[0m\u001b[0;36m18\u001b[0m\u001b[0;34m,\u001b[0m \u001b[0;36m5\u001b[0m\u001b[0;34m)\u001b[0m\u001b[0;34m)\u001b[0m\u001b[0;34m\u001b[0m\u001b[0m\n\u001b[1;32m      2\u001b[0m \u001b[0;34m\u001b[0m\u001b[0m\n\u001b[0;32m----> 3\u001b[0;31m \u001b[0mLR_Hold_Time\u001b[0m\u001b[0;34m(\u001b[0m\u001b[0mfig\u001b[0m\u001b[0;34m,\u001b[0m \u001b[0mhealthy\u001b[0m\u001b[0;34m,\u001b[0m \u001b[0msick\u001b[0m\u001b[0;34m)\u001b[0m\u001b[0;34m\u001b[0m\u001b[0m\n\u001b[0m\u001b[1;32m      4\u001b[0m \u001b[0mLR_RL_Latency_Time\u001b[0m\u001b[0;34m(\u001b[0m\u001b[0mfig\u001b[0m\u001b[0;34m,\u001b[0m \u001b[0mhealthy\u001b[0m\u001b[0;34m,\u001b[0m \u001b[0msick\u001b[0m\u001b[0;34m)\u001b[0m\u001b[0;34m\u001b[0m\u001b[0m\n\u001b[1;32m      5\u001b[0m \u001b[0mLL_RR_Latency_Time\u001b[0m\u001b[0;34m(\u001b[0m\u001b[0mfig\u001b[0m\u001b[0;34m,\u001b[0m \u001b[0mhealthy\u001b[0m\u001b[0;34m,\u001b[0m \u001b[0msick\u001b[0m\u001b[0;34m)\u001b[0m\u001b[0;34m\u001b[0m\u001b[0m\n",
      "\u001b[0;31mNameError\u001b[0m: name 'healthy' is not defined"
     ],
     "output_type": "error"
    },
    {
     "data": {
      "text/plain": [
       "<matplotlib.figure.Figure at 0x1df2eff55c0>"
      ]
     },
     "execution_count": 0,
     "metadata": {},
     "output_type": "execute_result"
    }
   ],
   "source": [
    "fig = plt.figure(figsize=(18, 5))\n",
    "\n",
    "LR_Hold_Time(fig, healthy, sick)\n",
    "LR_RL_Latency_Time(fig, healthy, sick)\n",
    "LL_RR_Latency_Time(fig, healthy, sick)\n",
    "\n",
    "warnings.resetwarnings()"
   ]
  },
  {
   "cell_type": "markdown",
   "metadata": {},
   "source": [
    "#Modeling Phase 1: Attempting to reproduce the results from the Kaggle challenge article"
   ]
  },
  {
   "cell_type": "code",
   "execution_count": 23,
   "metadata": {},
   "outputs": [],
   "source": [
    "# The summary statistics used in the original article:\n",
    "ARTICLE_EXPLANATORY_VARIABLES =['L_HoldTime_mean', 'L_HoldTime_std', 'L_HoldTime_kurtosis', 'L_HoldTime_skew',\n",
    " 'R_HoldTime_mean', 'R_HoldTime_std', 'R_HoldTime_kurtosis', 'R_HoldTime_skew', 'LL_LatencyTime_mean', 'LL_LatencyTime_std',\n",
    " 'LL_LatencyTime_kurtosis', 'LL_LatencyTime_skew', 'LR_LatencyTime_mean', 'LR_LatencyTime_std', 'LR_LatencyTime_kurtosis',\n",
    " 'LR_LatencyTime_skew', 'RL_LatencyTime_mean', 'RL_LatencyTime_std', 'RL_LatencyTime_kurtosis', 'RL_LatencyTime_skew',\n",
    " 'RR_LatencyTime_mean', 'RR_LatencyTime_std', 'RR_LatencyTime_kurtosis', 'RR_LatencyTime_skew', 'mean_diff_LR_RL_LatencyTime',\n",
    " 'mean_diff_LL_RR_LatencyTime', 'mean_diff_L_R_HoldTime']"
   ]
  },
  {
   "cell_type": "markdown",
   "metadata": {},
   "source": [
    "### First attempt: applying several models to the raw data with the variables used in the article, without further processing:\n"
   ]
  },
  {
   "cell_type": "code",
   "execution_count": 24,
   "metadata": {},
   "outputs": [
    {
     "name": "stdout",
     "output_type": "stream",
     "text": [
      "LogisticRegression:\n\tTrain accuracy:0.7885\n\tTest accuracy (5-fold cross validation):0.44\nRandomForestClassifier:\n\tTrain accuracy:0.9615\n\tTest accuracy (5-fold cross validation):0.5509\n"
     ]
    },
    {
     "name": "stdout",
     "output_type": "stream",
     "text": [
      "AdaBoostClassifier:\n\tTrain accuracy:1.0\n\tTest accuracy (5-fold cross validation):0.5582\nKNeighborsClassifier:\n\tTrain accuracy:0.6538\n\tTest accuracy (5-fold cross validation):0.5382\n"
     ]
    },
    {
     "name": "stdout",
     "output_type": "stream",
     "text": [
      "GradientBoostingClassifier:\n\tTrain accuracy:1.0\n\tTest accuracy (5-fold cross validation):0.5527\nSVC:\n\tTrain accuracy:1.0\n\tTest accuracy (5-fold cross validation):0.6364\n"
     ]
    }
   ],
   "source": [
    "X = method1_features[ARTICLE_EXPLANATORY_VARIABLES]\n",
    "y = method1_features[\"Parkinsons\"]\n",
    "classifiers = [LogisticRegression(),\n",
    "               RandomForestClassifier(),\n",
    "               AdaBoostClassifier(),\n",
    "               KNeighborsClassifier(),\n",
    "               GradientBoostingClassifier(),\n",
    "               SVC(kernel='rbf', probability=True),\n",
    "               ]\n",
    "for final_classifier in classifiers:\n",
    "    accuracy = evaluate_classifier_cv(final_classifier, X, y, cross_validation_folds=5)\n",
    "    print(str(final_classifier).split(\"(\")[0] + \":\")\n",
    "    print(\"\\t\"+accuracy.train)\n",
    "    print(\"\\t\" + accuracy.test)"
   ]
  },
  {
   "cell_type": "markdown",
   "metadata": {},
   "source": [
    "we can see that all models are highly overfitted, and do not perform well."
   ]
  },
  {
   "cell_type": "markdown",
   "metadata": {},
   "source": [
    "### Second attempt: normalize the data and apply PCA dimensionality reduction"
   ]
  },
  {
   "cell_type": "code",
   "execution_count": 25,
   "metadata": {},
   "outputs": [],
   "source": [
    "scaler = StandardScaler()\n",
    "normalized_X = scaler.fit_transform(X)"
   ]
  },
  {
   "cell_type": "code",
   "execution_count": 26,
   "metadata": {},
   "outputs": [
    {
     "ename": "ValueError",
     "evalue": "Unknown projection '3d'",
     "traceback": [
      "\u001b[0;31m---------------------------------------------------------------------------\u001b[0m",
      "\u001b[0;31mKeyError\u001b[0m                                  Traceback (most recent call last)",
      "\u001b[0;32mC:\\Python36\\lib\\site-packages\\matplotlib\\projections\\__init__.py\u001b[0m in \u001b[0;36mget_projection_class\u001b[0;34m(projection)\u001b[0m\n\u001b[1;32m     62\u001b[0m     \u001b[0;32mtry\u001b[0m\u001b[0;34m:\u001b[0m\u001b[0;34m\u001b[0m\u001b[0m\n\u001b[0;32m---> 63\u001b[0;31m         \u001b[0;32mreturn\u001b[0m \u001b[0mprojection_registry\u001b[0m\u001b[0;34m.\u001b[0m\u001b[0mget_projection_class\u001b[0m\u001b[0;34m(\u001b[0m\u001b[0mprojection\u001b[0m\u001b[0;34m)\u001b[0m\u001b[0;34m\u001b[0m\u001b[0m\n\u001b[0m\u001b[1;32m     64\u001b[0m     \u001b[0;32mexcept\u001b[0m \u001b[0mKeyError\u001b[0m\u001b[0;34m:\u001b[0m\u001b[0;34m\u001b[0m\u001b[0m\n",
      "\u001b[0;32mC:\\Python36\\lib\\site-packages\\matplotlib\\projections\\__init__.py\u001b[0m in \u001b[0;36mget_projection_class\u001b[0;34m(self, name)\u001b[0m\n\u001b[1;32m     28\u001b[0m         \"\"\"\n\u001b[0;32m---> 29\u001b[0;31m         \u001b[0;32mreturn\u001b[0m \u001b[0mself\u001b[0m\u001b[0;34m.\u001b[0m\u001b[0m_all_projection_types\u001b[0m\u001b[0;34m[\u001b[0m\u001b[0mname\u001b[0m\u001b[0;34m]\u001b[0m\u001b[0;34m\u001b[0m\u001b[0m\n\u001b[0m\u001b[1;32m     30\u001b[0m \u001b[0;34m\u001b[0m\u001b[0m\n",
      "\u001b[0;31mKeyError\u001b[0m: '3d'",
      "\nDuring handling of the above exception, another exception occurred:\n",
      "\u001b[0;31mValueError\u001b[0m                                Traceback (most recent call last)",
      "\u001b[0;32m<ipython-input-26-6db6c6ff98d6>\u001b[0m in \u001b[0;36m<module>\u001b[0;34m()\u001b[0m\n\u001b[1;32m     13\u001b[0m \u001b[0m_3d_res\u001b[0m \u001b[0;34m=\u001b[0m \u001b[0mget_labeled_data_3d\u001b[0m\u001b[0;34m(\u001b[0m\u001b[0mreduced_X\u001b[0m\u001b[0;34m,\u001b[0m \u001b[0my\u001b[0m\u001b[0;34m)\u001b[0m\u001b[0;34m\u001b[0m\u001b[0m\n\u001b[1;32m     14\u001b[0m \u001b[0;34m\u001b[0m\u001b[0m\n\u001b[0;32m---> 15\u001b[0;31m \u001b[0mplot_dimensionality_reduction\u001b[0m\u001b[0;34m(\u001b[0m\u001b[0m_1d_res\u001b[0m\u001b[0;34m,\u001b[0m \u001b[0m_2d_res\u001b[0m\u001b[0;34m,\u001b[0m \u001b[0m_3d_res\u001b[0m\u001b[0;34m)\u001b[0m\u001b[0;34m\u001b[0m\u001b[0m\n\u001b[0m",
      "\u001b[0;32mC:\\Users\\yoav1\\PycharmProjects\\Parkinsons\\auxiliary_functions.py\u001b[0m in \u001b[0;36mplot_dimensionality_reduction\u001b[0;34m(_1d_res, _2d_res, _3d_res)\u001b[0m\n\u001b[1;32m    134\u001b[0m     \u001b[0max2\u001b[0m\u001b[0;34m.\u001b[0m\u001b[0mlegend\u001b[0m\u001b[0;34m(\u001b[0m\u001b[0;34m(\u001b[0m\u001b[0;34m\"diagnosed\"\u001b[0m\u001b[0;34m,\u001b[0m \u001b[0;34m\"not_diagnosed\"\u001b[0m\u001b[0;34m)\u001b[0m\u001b[0;34m)\u001b[0m\u001b[0;34m\u001b[0m\u001b[0m\n\u001b[1;32m    135\u001b[0m \u001b[0;34m\u001b[0m\u001b[0m\n\u001b[0;32m--> 136\u001b[0;31m     \u001b[0max3\u001b[0m \u001b[0;34m=\u001b[0m \u001b[0mfig\u001b[0m\u001b[0;34m.\u001b[0m\u001b[0madd_subplot\u001b[0m\u001b[0;34m(\u001b[0m\u001b[0;36m1\u001b[0m\u001b[0;34m,\u001b[0m \u001b[0;36m3\u001b[0m\u001b[0;34m,\u001b[0m \u001b[0;36m3\u001b[0m\u001b[0;34m,\u001b[0m \u001b[0mprojection\u001b[0m\u001b[0;34m=\u001b[0m\u001b[0;34m'3d'\u001b[0m\u001b[0;34m,\u001b[0m \u001b[0mtitle\u001b[0m\u001b[0;34m=\u001b[0m\u001b[0;34m\"Casting to 3D using PCA\"\u001b[0m\u001b[0;34m)\u001b[0m\u001b[0;34m\u001b[0m\u001b[0m\n\u001b[0m\u001b[1;32m    137\u001b[0m     \u001b[0max3\u001b[0m\u001b[0;34m.\u001b[0m\u001b[0mtitle\u001b[0m\u001b[0;34m.\u001b[0m\u001b[0mset_position\u001b[0m\u001b[0;34m(\u001b[0m\u001b[0;34m[\u001b[0m\u001b[0;36m0.5\u001b[0m\u001b[0;34m,\u001b[0m \u001b[0;36m1\u001b[0m\u001b[0;34m]\u001b[0m\u001b[0;34m)\u001b[0m\u001b[0;34m\u001b[0m\u001b[0m\n\u001b[1;32m    138\u001b[0m     \u001b[0max3\u001b[0m\u001b[0;34m.\u001b[0m\u001b[0mscatter\u001b[0m\u001b[0;34m(\u001b[0m\u001b[0m_3d_res\u001b[0m\u001b[0;34m[\u001b[0m\u001b[0;36m0\u001b[0m\u001b[0;34m]\u001b[0m\u001b[0;34m,\u001b[0m \u001b[0m_3d_res\u001b[0m\u001b[0;34m[\u001b[0m\u001b[0;36m1\u001b[0m\u001b[0;34m]\u001b[0m\u001b[0;34m,\u001b[0m \u001b[0m_3d_res\u001b[0m\u001b[0;34m[\u001b[0m\u001b[0;36m2\u001b[0m\u001b[0;34m]\u001b[0m\u001b[0;34m,\u001b[0m \u001b[0mcolor\u001b[0m\u001b[0;34m=\u001b[0m\u001b[0;34m'red'\u001b[0m\u001b[0;34m)\u001b[0m\u001b[0;34m\u001b[0m\u001b[0m\n",
      "\u001b[0;32mC:\\Python36\\lib\\site-packages\\matplotlib\\figure.py\u001b[0m in \u001b[0;36madd_subplot\u001b[0;34m(self, *args, **kwargs)\u001b[0m\n\u001b[1;32m   1219\u001b[0m         \u001b[0;32melse\u001b[0m\u001b[0;34m:\u001b[0m\u001b[0;34m\u001b[0m\u001b[0m\n\u001b[1;32m   1220\u001b[0m             projection_class, kwargs, key = process_projection_requirements(\n\u001b[0;32m-> 1221\u001b[0;31m                 self, *args, **kwargs)\n\u001b[0m\u001b[1;32m   1222\u001b[0m \u001b[0;34m\u001b[0m\u001b[0m\n\u001b[1;32m   1223\u001b[0m             \u001b[0;31m# try to find the axes with this key in the stack\u001b[0m\u001b[0;34m\u001b[0m\u001b[0;34m\u001b[0m\u001b[0m\n",
      "\u001b[0;32mC:\\Python36\\lib\\site-packages\\matplotlib\\projections\\__init__.py\u001b[0m in \u001b[0;36mprocess_projection_requirements\u001b[0;34m(figure, *args, **kwargs)\u001b[0m\n\u001b[1;32m     89\u001b[0m \u001b[0;34m\u001b[0m\u001b[0m\n\u001b[1;32m     90\u001b[0m     \u001b[0;32mif\u001b[0m \u001b[0misinstance\u001b[0m\u001b[0;34m(\u001b[0m\u001b[0mprojection\u001b[0m\u001b[0;34m,\u001b[0m \u001b[0msix\u001b[0m\u001b[0;34m.\u001b[0m\u001b[0mstring_types\u001b[0m\u001b[0;34m)\u001b[0m \u001b[0;32mor\u001b[0m \u001b[0mprojection\u001b[0m \u001b[0;32mis\u001b[0m \u001b[0;32mNone\u001b[0m\u001b[0;34m:\u001b[0m\u001b[0;34m\u001b[0m\u001b[0m\n\u001b[0;32m---> 91\u001b[0;31m         \u001b[0mprojection_class\u001b[0m \u001b[0;34m=\u001b[0m \u001b[0mget_projection_class\u001b[0m\u001b[0;34m(\u001b[0m\u001b[0mprojection\u001b[0m\u001b[0;34m)\u001b[0m\u001b[0;34m\u001b[0m\u001b[0m\n\u001b[0m\u001b[1;32m     92\u001b[0m     \u001b[0;32melif\u001b[0m \u001b[0mhasattr\u001b[0m\u001b[0;34m(\u001b[0m\u001b[0mprojection\u001b[0m\u001b[0;34m,\u001b[0m \u001b[0;34m'_as_mpl_axes'\u001b[0m\u001b[0;34m)\u001b[0m\u001b[0;34m:\u001b[0m\u001b[0;34m\u001b[0m\u001b[0m\n\u001b[1;32m     93\u001b[0m         \u001b[0mprojection_class\u001b[0m\u001b[0;34m,\u001b[0m \u001b[0mextra_kwargs\u001b[0m \u001b[0;34m=\u001b[0m \u001b[0mprojection\u001b[0m\u001b[0;34m.\u001b[0m\u001b[0m_as_mpl_axes\u001b[0m\u001b[0;34m(\u001b[0m\u001b[0;34m)\u001b[0m\u001b[0;34m\u001b[0m\u001b[0m\n",
      "\u001b[0;32mC:\\Python36\\lib\\site-packages\\matplotlib\\projections\\__init__.py\u001b[0m in \u001b[0;36mget_projection_class\u001b[0;34m(projection)\u001b[0m\n\u001b[1;32m     63\u001b[0m         \u001b[0;32mreturn\u001b[0m \u001b[0mprojection_registry\u001b[0m\u001b[0;34m.\u001b[0m\u001b[0mget_projection_class\u001b[0m\u001b[0;34m(\u001b[0m\u001b[0mprojection\u001b[0m\u001b[0;34m)\u001b[0m\u001b[0;34m\u001b[0m\u001b[0m\n\u001b[1;32m     64\u001b[0m     \u001b[0;32mexcept\u001b[0m \u001b[0mKeyError\u001b[0m\u001b[0;34m:\u001b[0m\u001b[0;34m\u001b[0m\u001b[0m\n\u001b[0;32m---> 65\u001b[0;31m         \u001b[0;32mraise\u001b[0m \u001b[0mValueError\u001b[0m\u001b[0;34m(\u001b[0m\u001b[0;34m\"Unknown projection '%s'\"\u001b[0m \u001b[0;34m%\u001b[0m \u001b[0mprojection\u001b[0m\u001b[0;34m)\u001b[0m\u001b[0;34m\u001b[0m\u001b[0m\n\u001b[0m\u001b[1;32m     66\u001b[0m \u001b[0;34m\u001b[0m\u001b[0m\n\u001b[1;32m     67\u001b[0m \u001b[0;34m\u001b[0m\u001b[0m\n",
      "\u001b[0;31mValueError\u001b[0m: Unknown projection '3d'"
     ],
     "output_type": "error"
    },
    {
     "data": {
      "image/png": "[encoded data removed]",
      "text/plain": [
       "<Figure size 1440x360 with 2 Axes>"
      ]
     },
     "metadata": {},
     "output_type": "display_data"
    }
   ],
   "source": [
    "# Visualizing the data in 3d, 2d and 1d after PCA:\n",
    "\n",
    "pca = PCA(n_components=1)\n",
    "reduced_X = pca.fit_transform(normalized_X)\n",
    "_1d_res = get_labeled_data_1d(reduced_X, y)\n",
    "\n",
    "pca = PCA(n_components=2)\n",
    "reduced_X = pca.fit_transform(normalized_X)\n",
    "_2d_res = get_labeled_data_2d(reduced_X, y)\n",
    "\n",
    "pca = PCA(n_components=3)\n",
    "reduced_X = pca.fit_transform(normalized_X)\n",
    "_3d_res = get_labeled_data_3d(reduced_X, y)\n",
    "\n",
    "plot_dimensionality_reduction(_1d_res, _2d_res, _3d_res)"
   ]
  },
  {
   "cell_type": "markdown",
   "metadata": {},
   "source": [
    "From the above plots, it is evident that the data is not well seperated in low dimensions. We now try all possible dimensionality reductions, and for every number of dimensions we reduce to, we apply several classification models and keep the test score of the best one:"
   ]
  },
  {
   "cell_type": "code",
   "execution_count": 27,
   "metadata": {},
   "outputs": [
    {
     "data": {
      "image/png": "[encoded data removed]",
      "text/plain": [
       "<Figure size 432x288 with 1 Axes>"
      ]
     },
     "metadata": {},
     "output_type": "display_data"
    }
   ],
   "source": [
    "original_dim = len(normalized_X[0])\n",
    "tested_dimensions = []\n",
    "accuracies = []\n",
    "for dim in [i for i in range(1, original_dim+1)]:\n",
    "    if dim != original_dim:\n",
    "        pca = PCA(n_components=dim)\n",
    "        reduced_X = pca.fit_transform(normalized_X, y.values)\n",
    "    else:\n",
    "        reduced_X = normalized_X\n",
    "    best_accuracy = namedtuple(\"best_accuracy\", \"clf_name test_accuracy train_accuracy\")\n",
    "    best_accuracy.test_accuracy = -1  #init\n",
    "    for clf in classifiers:\n",
    "        accuracy = evaluate_classifier_cv(clf, reduced_X, y, cross_validation_folds=10)\n",
    "        if accuracy.test_score > best_accuracy.test_accuracy:\n",
    "            best_accuracy.test_accuracy = accuracy.test_score\n",
    "            best_accuracy.clf_name = str(clf).split(\"(\")[0]\n",
    "    tested_dimensions.append(dim)\n",
    "    accuracies.append(best_accuracy.test_accuracy)\n",
    "plt.title(\"Best test accuracy by dimension (reduction with PCA)\")\n",
    "plt.xlabel(\"Dimension\")\n",
    "plt.ylabel(\"Test accuracy rate\")\n",
    "p = plt.plot(tested_dimensions, accuracies)\n"
   ]
  },
  {
   "cell_type": "markdown",
   "metadata": {},
   "source": [
    "We can see that PCA dimensionality reduction does not improve performance."
   ]
  },
  {
   "cell_type": "markdown",
   "metadata": {},
   "source": [
    "We now apply LDA dimensionality reduction and scaling to the data, and randomly split to test and train sets. Results here have high variance due to the small size of the dataset, so we repeat the process 100 times and average the results:"
   ]
  },
  {
   "cell_type": "code",
   "execution_count": 28,
   "metadata": {},
   "outputs": [
    {
     "name": "stdout",
     "output_type": "stream",
     "text": [
      "Best AUC and model:\n\n model\nAdaBoostClassifier    0.539457\nName: score, dtype: float64\n"
     ]
    }
   ],
   "source": [
    "# LDA produces a \"Variables are collinear\" warning here. This is true, \n",
    "# as the Pearson Correlation factor of some of the features is very close to one. As we now attempt to reproduce the results of the article,\n",
    "# we will ignore this error.\n",
    "res = pd.DataFrame()\n",
    "for i in range(100):\n",
    "    warnings.filterwarnings(\"ignore\", category=UserWarning)\n",
    "    train_X, train_y, test_X, test_y = split_to_train_test_and_apply_scaling_and_lda_dim_reduction(X, y, \n",
    "                                                                                                   train_percentage=0.7)\n",
    "    warnings.resetwarnings()\n",
    "    \n",
    "    # Fit several models, and find the best one by AUC measure:\n",
    "    best_auc, best_clf = get_best_roc(classifiers, train_X, train_y, test_X, test_y)\n",
    "    res = res.append([{'model': type(best_clf).__name__, 'score':best_auc}])\n",
    "mean_values = res.groupby(\"model\")[\"score\"].mean()\n",
    "print(\"Best AUC and model:\\n\\n\", mean_values[mean_values == mean_values.max()])"
   ]
  },
  {
   "cell_type": "markdown",
   "metadata": {},
   "source": [
    "It is evident that neither technique of dimensionaliy reduction improves performance. \n",
    "We now explore adding additional predictors, specifically calculating percentles of the HoldTime and LatencyTime, trying to better describe the distribution of these measures for each patient. Results here have high variance due to the small size of the dataset, so we repeat the process 100 times and average the results:"
   ]
  },
  {
   "cell_type": "code",
   "execution_count": 29,
   "metadata": {},
   "outputs": [
    {
     "name": "stdout",
     "output_type": "stream",
     "text": [
      "Best AUC and model:\n\n model\nKNeighborsClassifier    0.667702\nName: score, dtype: float64\n"
     ]
    }
   ],
   "source": [
    "PERCENTILES = [c for c in method1_features.columns.values if \"perc\" in c and \"FlightTime\" not in c]\n",
    "X = method1_features[ARTICLE_EXPLANATORY_VARIABLES + PERCENTILES]\n",
    "y = method1_features[\"Parkinsons\"]\n",
    "\n",
    "# LDA produces a \"Variables are collinear\" warning here. This is true, \n",
    "# as the Pearson Correlation factor of some of the features is very close to one. As we now attempt to reproduce the results of the article,\n",
    "# we will ignore this error.\n",
    "\n",
    "res = pd.DataFrame()\n",
    "for i in range(100):\n",
    "    warnings.filterwarnings(\"ignore\", category=UserWarning)\n",
    "    train_X, train_y, test_X, test_y = split_to_train_test_and_apply_scaling_and_lda_dim_reduction(X, y, \n",
    "                                                                                                   train_percentage=0.7)\n",
    "    warnings.resetwarnings()\n",
    "    \n",
    "    # Fit several models, and find the best one by AUC measure:\n",
    "    best_auc, best_clf = get_best_roc(classifiers, train_X, train_y, test_X, test_y)\n",
    "    res = res.append([{'model': type(best_clf).__name__, 'score':best_auc}])\n",
    "mean_values = res.groupby(\"model\")[\"score\"].mean()\n",
    "print(\"Best AUC and model:\\n\\n\", mean_values[mean_values == mean_values.max()])"
   ]
  },
  {
   "cell_type": "markdown",
   "metadata": {},
   "source": [
    "We now continue to follow the method descdribed in the article, by partitioning the data into two groups, Hold variables and Latency variables (depending on the orignal column they were created by). \n",
    "We then assign a Parkinson's probability using each group seperately, and output a final probability as a weighted average of these two probabilities."
   ]
  },
  {
   "cell_type": "code",
   "execution_count": 30,
   "metadata": {
    "collapsed": true
   },
   "outputs": [
    {
     "name": "stdout",
     "output_type": "stream",
     "text": [
      "Test AUC: 0.4097619047619048\nTest Accuracy: 0.4618181818181818\n"
     ]
    }
   ],
   "source": [
    "from TwoGroupsWeightedModel import TwoGroupsWeightedModel\n",
    "import warnings\n",
    "\n",
    "ALL_VARIABLES = ARTICLE_EXPLANATORY_VARIABLES\n",
    "HOLD_VARIABLES = [v for v in ALL_VARIABLES if \"HoldTime\" in v]\n",
    "LATENCY_VARIABLES = [v for v in ALL_VARIABLES if \"LatencyTime\" in v]\n",
    "\n",
    "voting_ensemble = VotingClassifier(estimators=[\n",
    "                                    ('1', RandomForestClassifier()),\n",
    "                                    ('2', SVC(probability=True)),\n",
    "                                    ('3', MLPClassifier()),\n",
    "                                    ('4', LogisticRegression()),\n",
    "                                    ('5', NuSVC(probability=True)),\n",
    "                                    ('6', KNeighborsClassifier()),\n",
    "                                    ('7', DecisionTreeClassifier()),\n",
    "                                    ('8', QuadraticDiscriminantAnalysis())\n",
    "                                  ],\n",
    "                        voting='soft')\n",
    "\n",
    "\n",
    "def weighting_function(hold_probs, latency_probs):\n",
    "    \"\"\"\n",
    "    These are the weights described in the article. We note that this weighting can yield probs > 1, and therefore is not optimal. \n",
    "    We've tried other weightings as well, with no significant improvement.\n",
    "    \"\"\"\n",
    "    return (hold_probs + 0.5*(1-1.2) + 1.2*latency_probs)/2.0\n",
    "\n",
    "\n",
    "groups_model = TwoGroupsWeightedModel(underlying_estimator_module_and_class=\"sklearn.pipeline Pipeline\",\n",
    "                            group1_var_names=HOLD_VARIABLES,\n",
    "                            group2_var_names=LATENCY_VARIABLES,\n",
    "                             weighting_function=weighting_function,              \n",
    "                            classification_threshold=0.5,\n",
    "                            steps=[(\"normalization\", StandardScaler()),\n",
    "                                   (\"lda\", LinearDiscriminantAnalysis()),\n",
    "                                   (\"clf\", voting_ensemble)])\n",
    "\n",
    "# calculate accuracy and AUC for the groups-model, using K-fold CV:\n",
    "X = method1_features[ARTICLE_EXPLANATORY_VARIABLES]\n",
    "y = method1_features[\"Parkinsons\"]\n",
    "\n",
    "\"\"\"\n",
    "Training the model on this data results in a \"Collinear Variables\" warnings. This is true, as some of the variables have very high Pearson-correlation.\n",
    "In order to reporoduce the article findings we ignore these erros for now, and  filter warnings for the next few lines. \n",
    "\"\"\"\n",
    "warnings.filterwarnings(\"ignore\")\n",
    "test_auc = evaluate_classifier_cv(clf=groups_model, X=X, y=y, cross_validation_folds=5, scoring='roc_auc').test_score\n",
    "test_accuracy = evaluate_classifier_cv(clf=groups_model, X=X, y=y, cross_validation_folds=5, scoring='accuracy').test_score\n",
    "warnings.resetwarnings()\n",
    "\n",
    "print(\"Test AUC: {}\\nTest Accuracy: {}\".format(test_auc, test_accuracy))"
   ]
  },
  {
   "cell_type": "markdown",
   "metadata": {
    "collapsed": true
   },
   "source": [
    "Conclusion: in the above section we tried to reproduce and improve the classifying technique described in the article that inspired the Kaggle challenge. \n",
    "We believe that the the results in the aticle are not valid and non-reproducible, and we ellaborate further on this in the project document."
   ]
  },
  {
   "cell_type": "markdown",
   "metadata": {},
   "source": [
    "#Modeling Phase 2: A completely different approach, inspired by results published by a team of MIT researchers"
   ]
  },
  {
   "cell_type": "markdown",
   "metadata": {},
   "source": [
    "We first construct the features for the UPDRS-regression:"
   ]
  },
  {
   "cell_type": "code",
   "execution_count": 31,
   "metadata": {},
   "outputs": [
    {
     "name": "stdout",
     "output_type": "stream",
     "text": [
      "Creating features for dataset #1...\n"
     ]
    },
    {
     "name": "stdout",
     "output_type": "stream",
     "text": [
      "\tRemoved 6 rows from time-windows containing too few taps in file.\n"
     ]
    },
    {
     "name": "stdout",
     "output_type": "stream",
     "text": [
      "\tFiltered 0 rows where the IQR feature cannot be calculated.\n"
     ]
    },
    {
     "name": "stdout",
     "output_type": "stream",
     "text": [
      "\tDone.\nCreating features for dataset #2...\n"
     ]
    },
    {
     "name": "stdout",
     "output_type": "stream",
     "text": [
      "\tRemoved 15042 rows from time-windows containing too few taps in file.\n"
     ]
    },
    {
     "name": "stdout",
     "output_type": "stream",
     "text": [
      "\tFiltered 33650 rows where the IQR feature cannot be calculated.\n"
     ]
    },
    {
     "name": "stdout",
     "output_type": "stream",
     "text": [
      "\tDone.\n"
     ]
    }
   ],
   "source": [
    "from nqi_feature_creation_functions import *\n",
    "MIN_PRESSES_PER_BUCKET_THRESHOLD = 1 # Filtering on a higher value did not prove usefull\n",
    "\n",
    "# Create the UPDRS regression features for both the MIT and the Kaggle Datasets:\n",
    "\n",
    "bin_identifier = [\"ID\", \"binIndex\"] # These two columns uniqely identify a user's time-window (90 secs of taps for specific user)\n",
    "i = 1\n",
    "if CALCULATE_FEATURES:\n",
    "    for taps_input_file_path, nqi_features_output_filepath in \\\n",
    "            zip([MIT_TAPS_INPUT, KAGGLE_TAPS_INPUT], [MIT_NQI_FEATURES, KAGGLE_NQI_FEATURES]):\n",
    "        print(\"Creating features for dataset #{}...\".format(i))\n",
    "        taps = pd.read_csv(taps_input_file_path)\n",
    "        len_before = len(taps)\n",
    "        taps = taps.groupby(bin_identifier).filter(lambda x: x['HoldTime'].count() > MIN_PRESSES_PER_BUCKET_THRESHOLD)\n",
    "        print(\"\\tRemoved {} rows from time-windows containing too few taps in file.\".format(len_before - len(taps)))\n",
    "        \n",
    "        # Filter out time-windows where the IQR feature cannot be calculated (this happens in the Kaggle data set,\n",
    "        # due to sparse time windows and HoltTime values that are very common. See project documentation for elaboration on this issue.)\n",
    "        len_before = len(taps)\n",
    "        taps = taps.groupby(bin_identifier).filter(lambda x: np.percentile(x.HoldTime, 25) != np.percentile(x.HoldTime, 75) )\n",
    "        print(\"\\tFiltered {} rows where the IQR feature cannot be calculated.\".format(len_before - len(taps)))\n",
    "        \n",
    "        # Create summary statistics for HoldTime columns, per time-window (='binIndex'):\n",
    "        grouped_taps = taps.groupby(bin_identifier)[\"HoldTime\"].\\\n",
    "            agg([agg_outliers, agg_iqr, agg_histogram_bin0, agg_histogram_bin1, \n",
    "                 agg_histogram_bin2, agg_histogram_bin3, np.count_nonzero])\n",
    "        # Rename columns for clarity:\n",
    "        grouped_taps.rename(columns={c:'hold_'+c for c in grouped_taps.columns if c not in bin_identifier}, inplace=True)\n",
    "        grouped_taps.rename(columns={'hold_count_nonzero':'count_nonzero'}, inplace=True)\n",
    "        \n",
    "        # Create summary statistics for FlightTime columns, per time-window (='binIndex'):\n",
    "        flight_grouped = taps.groupby(bin_identifier)[\"FlightTime\"].agg([np.mean, np.std]).reset_index()\n",
    "        # Rename columns for clarity:\n",
    "        flight_grouped.rename(columns={c: 'flight_' + c for c in flight_grouped.columns if c not in bin_identifier}, inplace=True)\n",
    "        \n",
    "        # Join all features together:\n",
    "        nqi_calculator_input = grouped_taps.reset_index()\n",
    "        nqi_calculator_input = nqi_calculator_input.merge(flight_grouped, on=bin_identifier)\n",
    "        \n",
    "        # Filter time-bins with insufficient taps:\n",
    "        nqi_calculator_input = nqi_calculator_input[nqi_calculator_input.count_nonzero > MIN_PRESSES_PER_BUCKET_THRESHOLD]\n",
    "        \n",
    "        # Write result ot file:\n",
    "        nqi_calculator_input.to_csv(nqi_features_output_filepath, index=False)\n",
    "        print(\"\\tDone.\")\n",
    "        i += 1"
   ]
  },
  {
   "cell_type": "code",
   "execution_count": 32,
   "metadata": {},
   "outputs": [
    {
     "name": "stdout",
     "output_type": "stream",
     "text": [
      "All regression features on the MIT dataset:\n\n ['hold_agg_outliers', 'hold_agg_iqr', 'hold_agg_histogram_bin0', 'hold_agg_histogram_bin1', 'hold_agg_histogram_bin2', 'hold_agg_histogram_bin3', 'flight_mean', 'flight_std']\n\n\nMIT features sample:\n\n    ID    binIndex  hold_agg_outliers  hold_agg_iqr  hold_agg_histogram_bin0  \\\n0  11     (0, 90]           0.018868      0.275847                 0.005585   \n1  11  (180, 270]           0.018141      0.318952                 0.005170   \n2  11  (270, 360]           0.027888      0.330284                 0.005689   \n3  11  (360, 450]           0.028205      0.254762                 0.005682   \n4  11  (450, 540]           0.011472      0.273350                 0.005629   \n\n   hold_agg_histogram_bin1  hold_agg_histogram_bin2  hold_agg_histogram_bin3  \\\n0                 0.002340                 0.000075                 0.000000   \n1                 0.002739                 0.000054                 0.000036   \n2                 0.002279                 0.000032                 0.000000   \n3                 0.002297                 0.000021                 0.000000   \n4                 0.002325                 0.000046                 0.000000   \n\n   count_nonzero  flight_mean  flight_std  Parkinsons  UPDRS  \n0          530.0   178.038113  173.574397        True  14.25  \n1          441.0   182.795918  226.183604        True  14.25  \n2          502.0   171.605578  151.724316        True  14.25  \n3          390.0   184.779744  226.615372        True  14.25  \n4          523.0   176.496176  160.113229        True  14.25  \n"
     ]
    }
   ],
   "source": [
    "mit_nqi_features = pd.read_csv(MIT_NQI_FEATURES)\n",
    "mit_users = pd.read_csv(MIT_USERS_INPUT)\n",
    "\n",
    "mit_data = mit_nqi_features.merge(mit_users, on=\"ID\").dropna().reset_index().drop(\"index\", axis=1)\n",
    "PREDICTION_COLUMNS = list_diff(mit_data.columns, [\"UPDRS\", \"Parkinsons\", 'binIndex', 'ID', 'count_nonzero'])\n",
    "\n",
    "HOLD_FEATURES = [v for v in PREDICTION_COLUMNS if 'hold' in v]\n",
    "FLIGHT_FEATURES = [v for v in PREDICTION_COLUMNS if 'flight' in v]\n",
    "\n",
    "print(\"All regression features on the MIT dataset:\\n\\n\", PREDICTION_COLUMNS)\n",
    "print(\"\\n\\nMIT features sample:\\n\\n\", mit_data.head())\n",
    "\n",
    "# Split the unified MIT dataset to train and test according to ID's (IDs<=100 belong to train set, all others to test set):\n",
    "train_mit_data = mit_data[mit_data.ID <= 100].copy()\n",
    "test_mit_data = mit_data[mit_data.ID >= 1000].copy()"
   ]
  },
  {
   "cell_type": "markdown",
   "metadata": {},
   "source": [
    "### Summary plots of MIT data features"
   ]
  },
  {
   "cell_type": "code",
   "execution_count": 33,
   "metadata": {},
   "outputs": [
    {
     "data": {
      "image/png": "[encoded data removed]",
      "text/plain": [
       "<Figure size 720x360 with 2 Axes>"
      ]
     },
     "metadata": {},
     "output_type": "display_data"
    }
   ],
   "source": [
    "warnings.simplefilter(action='ignore', category=FutureWarning) # Ignore pandas warning caused by an internal call to deprecated 'reshape'\n",
    "\n",
    "fig = plt.figure(figsize=(10,5))\n",
    "iqr_histogram(fig, mit_data)\n",
    "outliers_histogram(fig, mit_data)\n",
    "\n",
    "warnings.resetwarnings()"
   ]
  },
  {
   "cell_type": "markdown",
   "metadata": {},
   "source": [
    "### Construct a regression model to predict UPDRS score and then classify patients accordingly:"
   ]
  },
  {
   "cell_type": "code",
   "execution_count": 34,
   "metadata": {},
   "outputs": [],
   "source": [
    "# We first define a function that performs the UPDRS-regression\n",
    "# and subsequent classification using the regression's predictions:\n",
    "\n",
    "\n",
    "def updrs_regression_and_pd_classification(train_data, test_data, regression_model, final_classifier, prediction_columns):\n",
    "    \"\"\"\n",
    "    :param train_data, test_data: a DataFrame with NQI-features and regression target ('UPDRS').\n",
    "    :param regression_model: the regression model that will be used for predicting the nqi score.\n",
    "    :param final_classifier: the classification model that will be used for predicting Parkinson's/no-Parkinson's based on the predicted nqi score.\n",
    "    :return: the test AUC of the final model, that uses the predicted-nqi in order to predict Parkinson's.\n",
    "    \"\"\"\n",
    "    # Scale features and compress UPDRS to the [0,1] interval:\n",
    "    scaler = StandardScaler()\n",
    "    min_max_scaler = MinMaxScaler(feature_range=(0, 1))  # We use this to scale the UPDRS target to the [0,1] interval.\n",
    "    \n",
    "    train_X = train_data[prediction_columns]\n",
    "    train_y = train_data[\"UPDRS\"]\n",
    "    \n",
    "    train_X = pd.DataFrame(scaler.fit_transform(train_X))\n",
    "    train_y = min_max_scaler.fit_transform(train_y.values.reshape(-1,1))\n",
    "    \n",
    "    test_X = test_data[prediction_columns]\n",
    "    test_X = pd.DataFrame(scaler.transform(test_X))\n",
    "    \n",
    "    # Fit the regression model, and predict the test data:\n",
    "    regression_model.fit(X=train_X, y=np.ravel(train_y))\n",
    "    train_nqi_predictions = regression_model.predict(train_X)\n",
    "    train_data[\"predicted_nqi\"] = train_nqi_predictions\n",
    "    \n",
    "    # Calculate the average predicted-UPDRS (AKA 'NQI') per training patient:\n",
    "    train_final_df = train_data.groupby(\"ID\")[\"Parkinsons\", \"predicted_nqi\"].mean().reset_index()\n",
    "\n",
    "    # Predict nqi for every subject in the test-set (as mean of predicted UPDRS of all the subjects' time-windows):\n",
    "    test_nqi_predictions = regression_model.predict(test_X)\n",
    "    test_data[\"predicted_nqi\"] = test_nqi_predictions\n",
    "    test_final_df = test_data.groupby(\"ID\")[\"Parkinsons\", \"predicted_nqi\"].mean().reset_index()\n",
    "\n",
    "    # Use the result of the nqi-regression, to predict Parkinsons and calculate test score:    \n",
    "    final_classifier.fit(train_final_df[\"predicted_nqi\"].values.reshape(-1, 1), train_final_df[\"Parkinsons\"])\n",
    "    predicted_test_probs = final_classifier.predict_proba(test_final_df[\"predicted_nqi\"].values.reshape(-1, 1))[:, 1]\n",
    "    test_set_auc = roc_auc_score(y_true=test_final_df[\"Parkinsons\"], y_score=predicted_test_probs)\n",
    "    \n",
    "    # Store results in a results object:\n",
    "    result = namedtuple('result', 'test_auc y_true y_predicted test_df')\n",
    "    result.test_auc, result.y_true, result.y_predicted, result.test_df  = \\\n",
    "        test_set_auc, test_final_df[\"Parkinsons\"], predicted_test_probs, test_final_df.copy()\n",
    "    \n",
    "    return result "
   ]
  },
  {
   "cell_type": "markdown",
   "metadata": {},
   "source": [
    "We now apply the UPDRS-regression procedure defined above. We use a bagging-ensemble of 200 support-vector regressors, and apply it to the HoldTime features (in accordance with the original research). We then use logistic regression as the final classifier (Our tests show that most classification models yield very similar results, so this choice is not critical). "
   ]
  },
  {
   "cell_type": "code",
   "execution_count": 35,
   "metadata": {
    "collapsed": true
   },
   "outputs": [
    {
     "name": "stdout",
     "output_type": "stream",
     "text": [
      "Test AUC using support-vector regression and the HoldTime features (original article features): 0.7138888888888889\n"
     ]
    }
   ],
   "source": [
    "sv_regression_ensemble = BaggingRegressor(base_estimator=SVR(),\n",
    "                                n_estimators=200,\n",
    "                                bootstrap=True,\n",
    "                                n_jobs=1)\n",
    "\n",
    "updrs_regression_on_mit_data_with_sv_regression_hold_features_results = \\\n",
    "    updrs_regression_and_pd_classification(train_mit_data, test_mit_data,\n",
    "                                         regression_model=sv_regression_ensemble,\n",
    "                                         final_classifier=LogisticRegression(), \n",
    "                                         prediction_columns=HOLD_FEATURES)\n",
    "test_auc = updrs_regression_on_mit_data_with_sv_regression_hold_features_results.test_auc\n",
    "print(\"Test AUC using support-vector regression and the HoldTime features (original article features): {}\".format(test_auc))"
   ]
  },
  {
   "cell_type": "markdown",
   "metadata": {},
   "source": [
    "We can see that the above method provides reasonable results. Our test-AUC lies very close to the CI provided in the article (0.72-0.87). We now add statistical features based on the LatencyTime columns that we calculated. This was not performed in the original article:"
   ]
  },
  {
   "cell_type": "code",
   "execution_count": 36,
   "metadata": {},
   "outputs": [
    {
     "name": "stdout",
     "output_type": "stream",
     "text": [
      "Test AUC using support-vector regression and both HoldTime and FlightTime features (our added features): 0.7444444444444445\n"
     ]
    }
   ],
   "source": [
    "sv_regression_ensemble = BaggingRegressor(base_estimator=SVR(),\n",
    "                                n_estimators=200,\n",
    "                                bootstrap=True,\n",
    "                                n_jobs=1)\n",
    "\n",
    "updrs_regression_on_mit_data_with_sv_regression_all_features_results = \\\n",
    "    updrs_regression_and_pd_classification(train_mit_data, test_mit_data,\n",
    "                                           regression_model=sv_regression_ensemble,\n",
    "                                           final_classifier=LogisticRegression(),\n",
    "                                           prediction_columns=HOLD_FEATURES + FLIGHT_FEATURES)\n",
    "\n",
    "test_auc = updrs_regression_on_mit_data_with_sv_regression_all_features_results.test_auc\n",
    "print(\"Test AUC using support-vector regression and both HoldTime and FlightTime features (our added features): {}\".format(test_auc))"
   ]
  },
  {
   "cell_type": "markdown",
   "metadata": {},
   "source": [
    "We can see that the above method works well, providing similar results to those described in the article (our result lie within the CI of the AUC achieved in the Nature article). The features selected above were designed to incorporate the latencyTime as well, which we assumed should be usefull for detection of Parkinson's. We've tried many other statistics for both HoldTime and LatencyTime, with limited success, and we ommit these tests for brevity. \n",
    "\n",
    "Another point for improvement would be to use a more powerfull regression model. we found the following to be more effective - we use a large forest of boosted regression trees instead of the support-vector regression ensemble:"
   ]
  },
  {
   "cell_type": "code",
   "execution_count": 37,
   "metadata": {},
   "outputs": [
    {
     "name": "stdout",
     "output_type": "stream",
     "text": [
      "Test AUC using gb-tree regression with only the HoldTime features: 0.7819444444444444\n"
     ]
    },
    {
     "name": "stdout",
     "output_type": "stream",
     "text": [
      "Test AUC using gb-tree regression using HoldTime+FlightTime features: 0.8333333333333334\n"
     ]
    }
   ],
   "source": [
    "gbt_regression_ensemble = GradientBoostingRegressor(n_estimators=1000)\n",
    "updrs_regression_on_mit_data_with_gbt_regression_hold_features_results = updrs_regression_and_pd_classification(\n",
    "                                                train_mit_data, test_mit_data,\n",
    "                                                regression_model=gbt_regression_ensemble,\n",
    "                                                final_classifier=LogisticRegression(), \n",
    "                                                prediction_columns=HOLD_FEATURES\n",
    "                                                )\n",
    "print(\"Test AUC using gb-tree regression with only the HoldTime features: {}\".\n",
    "      format(updrs_regression_on_mit_data_with_gbt_regression_hold_features_results.test_auc))\n",
    "\n",
    "updrs_regression_on_mit_data_with_gbt_regression_all_features_results = updrs_regression_and_pd_classification(\n",
    "                                                train_mit_data, test_mit_data,\n",
    "                                                regression_model=gbt_regression_ensemble,\n",
    "                                                final_classifier=LogisticRegression(), \n",
    "                                                prediction_columns=HOLD_FEATURES + FLIGHT_FEATURES\n",
    "                                                )\n",
    "print(\"Test AUC using gb-tree regression using HoldTime+FlightTime features: {}\".\n",
    "      format(updrs_regression_on_mit_data_with_gbt_regression_all_features_results.test_auc))"
   ]
  },
  {
   "cell_type": "markdown",
   "metadata": {},
   "source": [
    "Conclusion: Using gradient-boosting regression yields better results, and improves over the previous models. Together with out additional LatencyTime features we see significant improvement."
   ]
  },
  {
   "cell_type": "markdown",
   "metadata": {},
   "source": [
    "We try to provide a visual way to see the improvement in the model, in addition to the higher AUC score. \n",
    "The plots show the predicted NQI scores (mean UPDRS over time-windows per subject) for each target-class (PD/non-PD), in the first model and in the last improved moel. On the right we see slightly better seperation between PD/non-PD patients in their predicted NQI."
   ]
  },
  {
   "cell_type": "code",
   "execution_count": 38,
   "metadata": {},
   "outputs": [
    {
     "data": {
      "image/png": "[encoded data removed]",
      "text/plain": [
       "<Figure size 720x360 with 2 Axes>"
      ]
     },
     "metadata": {},
     "output_type": "display_data"
    }
   ],
   "source": [
    "warnings.simplefilter(action='ignore', category=FutureWarning) # Ignore pandas warning caused by an internal call to deprecated 'reshape'\n",
    "\n",
    "basic_model_test_result = updrs_regression_on_mit_data_with_sv_regression_hold_features_results.test_df\n",
    "our_model_test_result = updrs_regression_on_mit_data_with_gbt_regression_all_features_results.test_df\n",
    "\n",
    "fig = plt.figure(figsize=(10,5))\n",
    "boxplot_nqi_score(fig, 1, basic_model_test_result, \"Basic Model Predicted-NQI\")\n",
    "boxplot_nqi_score(fig, 2, our_model_test_result, \"Our Improved Model Predicted-NQI\")\n",
    "\n",
    "warnings.resetwarnings()"
   ]
  },
  {
   "cell_type": "markdown",
   "metadata": {},
   "source": [
    "The plots above suggest a visual way to see the improvement in the model, in addition to the higher AUC score. On the right we see better seperation between PD/non-PD patients in their predicted NQI."
   ]
  },
  {
   "cell_type": "markdown",
   "metadata": {},
   "source": [
    "# Optimize regressor hyper-parameters:"
   ]
  },
  {
   "cell_type": "code",
   "execution_count": 39,
   "metadata": {},
   "outputs": [
    {
     "name": "stdout",
     "output_type": "stream",
     "text": [
      "Fitting 3 folds for each of 1296 candidates, totalling 3888 fits\n"
     ]
    },
    {
     "name": "stderr",
     "output_type": "stream",
     "text": [
      "[Parallel(n_jobs=-1)]: Done  25 tasks      | elapsed:    7.1s\n"
     ]
    },
    {
     "name": "stderr",
     "output_type": "stream",
     "text": [
      "[Parallel(n_jobs=-1)]: Done 146 tasks      | elapsed:   11.6s\n"
     ]
    },
    {
     "name": "stderr",
     "output_type": "stream",
     "text": [
      "[Parallel(n_jobs=-1)]: Done 349 tasks      | elapsed:   22.2s\n"
     ]
    },
    {
     "name": "stderr",
     "output_type": "stream",
     "text": [
      "[Parallel(n_jobs=-1)]: Done 632 tasks      | elapsed:  1.0min\n"
     ]
    },
    {
     "name": "stderr",
     "output_type": "stream",
     "text": [
      "[Parallel(n_jobs=-1)]: Done 997 tasks      | elapsed:  2.5min\n"
     ]
    },
    {
     "name": "stderr",
     "output_type": "stream",
     "text": [
      "[Parallel(n_jobs=-1)]: Done 1442 tasks      | elapsed:  3.2min\n"
     ]
    },
    {
     "name": "stderr",
     "output_type": "stream",
     "text": [
      "[Parallel(n_jobs=-1)]: Done 1969 tasks      | elapsed:  4.2min\n"
     ]
    },
    {
     "name": "stderr",
     "output_type": "stream",
     "text": [
      "[Parallel(n_jobs=-1)]: Done 2576 tasks      | elapsed:  6.1min\n"
     ]
    },
    {
     "name": "stderr",
     "output_type": "stream",
     "text": [
      "[Parallel(n_jobs=-1)]: Done 3265 tasks      | elapsed:  7.1min\n"
     ]
    },
    {
     "name": "stdout",
     "output_type": "stream",
     "text": [
      "Best params:\n {'learning_rate': 0.01, 'loss': 'lad', 'max_depth': 3, 'max_leaf_nodes': None, 'n_estimators': 100}\n"
     ]
    },
    {
     "name": "stderr",
     "output_type": "stream",
     "text": [
      "[Parallel(n_jobs=-1)]: Done 3888 out of 3888 | elapsed:  8.5min finished\n"
     ]
    }
   ],
   "source": [
    "train_X = train_mit_data[HOLD_FEATURES + FLIGHT_FEATURES]\n",
    "train_y = train_mit_data[\"UPDRS\"]\n",
    "\n",
    "param_space = {\n",
    "    'n_estimators': [100, 500, 1000],\n",
    "    'loss': ['ls', 'lad', 'huber', 'quantile'],\n",
    "    'learning_rate': [0.001, 0.01, 0.1],\n",
    "    'max_depth': [1, 2, 3, 5, 7, 8],\n",
    "    'max_leaf_nodes': [None, 3, 5, 10, 50, 100]\n",
    "}\n",
    "\n",
    "grid_searcher = GridSearchCV(gbt_regression_ensemble, param_grid=param_space, n_jobs=-1, cv=3, verbose=2, scoring=\"r2\")\n",
    "grid_searcher.fit(X=train_X, y=np.ravel(train_y))\n",
    "print(\"Best params:\\n\", grid_searcher.best_params_)\n"
   ]
  },
  {
   "cell_type": "markdown",
   "metadata": {},
   "source": [
    "Calculate AUC with optimized parameters:"
   ]
  },
  {
   "cell_type": "code",
   "execution_count": 40,
   "metadata": {},
   "outputs": [
    {
     "name": "stdout",
     "output_type": "stream",
     "text": [
      "Test AUC using gb-tree regression after hyper-parameter optimization: 0.7083333333333334\n"
     ]
    }
   ],
   "source": [
    "gbt_regression_ensemble.set_params(**grid_searcher.best_params_)\n",
    "\n",
    "updrs_regression_on_mit_data_with_optimized_gbt_regression_results = \\\n",
    "                      updrs_regression_and_pd_classification(train_mit_data, test_mit_data,\n",
    "                                                             regression_model=gbt_regression_ensemble,\n",
    "                                                             final_classifier=LogisticRegression(),\n",
    "                                                             prediction_columns=HOLD_FEATURES + FLIGHT_FEATURES)\n",
    "print(\"Test AUC using gb-tree regression after hyper-parameter optimization: {}\".format(updrs_regression_on_mit_data_with_optimized_gbt_regression_results.test_auc))\n"
   ]
  },
  {
   "cell_type": "markdown",
   "metadata": {},
   "source": [
    "The Optimization did provide additional value, most likely due to the small size of the dataset.\n",
    "\n",
    "We will now try to evaluate the relevance of the above method to home-environment data, by training the model on all of the MIT data, and testing it on the Kaggle data (which is home-environment data):"
   ]
  },
  {
   "cell_type": "code",
   "execution_count": 41,
   "metadata": {},
   "outputs": [
    {
     "name": "stdout",
     "output_type": "stream",
     "text": [
      "Test AUC on Kaggle data training on MIT data: 0.47084548104956264\n"
     ]
    }
   ],
   "source": [
    "kaggle_nqi_features = pd.read_csv(KAGGLE_NQI_FEATURES)\n",
    "kaggle_users_data = pd.read_csv(KAGGLE_USERS_INPUT)\n",
    "kaggle_data = kaggle_nqi_features.merge(kaggle_users_data, on=\"ID\").dropna().reset_index().drop([\"index\"], axis=1)\n",
    "\n",
    "# Remove patients taking Levadopa or patients with non-mild Parkinson's:\n",
    "kaggle_data = kaggle_data[kaggle_data.Levadopa==False]\n",
    "kaggle_data = kaggle_data[kaggle_data.Parkinsons==False | ((kaggle_data.Parkinsons==True) & (kaggle_data.Impact == \"Mild\"))]\n",
    "\n",
    "\n",
    "# Apply our model:\n",
    "gbt_regression_ensemble = GradientBoostingRegressor(n_estimators=1000)\n",
    "updrs_regression_on_kaggle_and_mit_data_with_gbt_regression_results = \\\n",
    "    updrs_regression_and_pd_classification(train_data=mit_data, test_data=kaggle_data,\n",
    "                                           regression_model=gbt_regression_ensemble,\n",
    "                                           final_classifier=LogisticRegression(),\n",
    "                                           prediction_columns=HOLD_FEATURES + FLIGHT_FEATURES)\n",
    "print(\"Test AUC on Kaggle data training on MIT data: {}\".\n",
    "      format(updrs_regression_on_kaggle_and_mit_data_with_gbt_regression_results.test_auc))"
   ]
  },
  {
   "cell_type": "markdown",
   "metadata": {},
   "source": [
    "We see above that the UPDRS-regression trained on the MIT data does not generalize well to the Kaggle data. We propose two possible explanations for this: it could be that the MIT data is fundamentally different, being collected in the lab and not at home. Another possible explanation is that the Kaggle data is corrupt (this could explain the inability to reproduce the first article)."
   ]
  },
  {
   "cell_type": "markdown",
   "metadata": {},
   "source": [
    "Our next step is to apply the main idea from the first article, i.e splitting the keystroaks according to the side of the keyboard in which they occure, to the MIT data using all the features constructed above for UPDRS regression:"
   ]
  },
  {
   "cell_type": "code",
   "execution_count": 42,
   "metadata": {},
   "outputs": [
    {
     "name": "stdout",
     "output_type": "stream",
     "text": [
      "NQI features with keyboard side partitions:\n\n['ID', 'LL_flight_mean', 'LL_flight_std', 'LR_flight_mean', 'LR_flight_std', 'L_hold_agg_histogram_bin0', 'L_hold_agg_histogram_bin1', 'L_hold_agg_histogram_bin2', 'L_hold_agg_histogram_bin3', 'L_hold_agg_iqr', 'L_hold_agg_outliers', 'RL_flight_mean', 'RL_flight_std', 'RR_flight_mean', 'RR_flight_std', 'R_hold_agg_histogram_bin0', 'R_hold_agg_histogram_bin1', 'R_hold_agg_histogram_bin2', 'R_hold_agg_histogram_bin3', 'R_hold_agg_iqr', 'R_hold_agg_outliers', 'binIndex']\n"
     ]
    }
   ],
   "source": [
    "# Preparing the MIT data with measures of assymetry:\n",
    "nqi_features_with_side_partitions_data_path = create_nqi_features_from_raw_data_with_sides_partitions(MIT_TAPS_INPUT, MIT_NQI_FEATURES_SIDES_PARTITIONS)\n",
    "\n",
    "mit_nqi_features_with_sides_partition = pd.read_csv(nqi_features_with_side_partitions_data_path)\n",
    "mit_users = pd.read_csv(MIT_USERS_INPUT)\n",
    "\n",
    "print(\"NQI features with keyboard side partitions:\\n\")\n",
    "print(sorted(mit_nqi_features_with_sides_partition.columns))\n",
    "\n",
    "mit_data_with_sides_partition = mit_nqi_features_with_sides_partition.merge(mit_users, on=\"ID\").dropna().reset_index().drop(\"index\", axis=1)\n",
    "PREDICTION_COLUMNS_SIDE_PARTITION = list_diff(mit_data_with_sides_partition.columns, [\"UPDRS\", \"Parkinsons\", 'binIndex', 'ID', 'count_nonzero'])\n",
    "\n",
    "# Split the unified MIT dataset to train and test according to ID's:\n",
    "train_mit_data_with_sides_partitions = mit_data_with_sides_partition[mit_data_with_sides_partition.ID <= 100].copy()\n",
    "test_mit_data_with_sides_partitions = mit_data_with_sides_partition[mit_data_with_sides_partition.ID >= 1000].copy()"
   ]
  },
  {
   "cell_type": "code",
   "execution_count": 43,
   "metadata": {},
   "outputs": [
    {
     "name": "stdout",
     "output_type": "stream",
     "text": [
      "Test AUC on MIT with assymetry measurement features (keyboard side partitions) : 0.7722222222222223\n"
     ]
    }
   ],
   "source": [
    "updrs_regression_on_mit_data_with_assymetry_features = \\\n",
    "    updrs_regression_and_pd_classification(train_data=train_mit_data_with_sides_partitions,\n",
    "                                           test_data=test_mit_data_with_sides_partitions,\n",
    "                                           regression_model=gbt_regression_ensemble,\n",
    "                                           final_classifier=LogisticRegression(), \n",
    "                                           prediction_columns=PREDICTION_COLUMNS_SIDE_PARTITION)\n",
    "print(\"Test AUC on MIT with assymetry measurement features (keyboard side partitions) : {}\".\n",
    "      format(updrs_regression_on_mit_data_with_assymetry_features.test_auc))"
   ]
  },
  {
   "cell_type": "markdown",
   "metadata": {},
   "source": [
    "Conclusion: our attempt to apply measuring assymetry to the process of predicting a patient UPDRS score did not improve the model over what we have previously achieved. This could be a result of the small size of our datatset, which suffers from high dimensionality when we introduce assymetry features. Our attempts at dimensionality reduction on this dataset did not prove usefull."
   ]
  },
  {
   "cell_type": "code",
   "execution_count": 44,
   "metadata": {},
   "outputs": [
    {
     "data": {
      "image/png": "[encoded data removed]",
      "text/plain": [
       "<Figure size 432x288 with 1 Axes>"
      ]
     },
     "metadata": {},
     "output_type": "display_data"
    }
   ],
   "source": [
    "# Plot ROC curves for all of the above variations on the model:\n",
    "plot_multiple_roc_curves([('model with asymmetry features', updrs_regression_on_mit_data_with_assymetry_features.y_true,\n",
    "                           updrs_regression_on_mit_data_with_assymetry_features.y_predicted),                          \n",
    "                          ('model with gbt regressor, all features', updrs_regression_on_mit_data_with_gbt_regression_all_features_results.y_true,\n",
    "                           updrs_regression_on_mit_data_with_gbt_regression_all_features_results.y_predicted),                          \n",
    "                          ('model with support-vector regressor, hold features', updrs_regression_on_mit_data_with_sv_regression_hold_features_results.y_true,\n",
    "                           updrs_regression_on_mit_data_with_sv_regression_hold_features_results.y_predicted),                          \n",
    "                          ('model trained on Kaggle data', updrs_regression_on_kaggle_and_mit_data_with_gbt_regression_results.y_true,\n",
    "                           updrs_regression_on_kaggle_and_mit_data_with_gbt_regression_results.y_predicted),                          \n",
    "                          ], \n",
    "                         title=\"ROC curves for parkinson's classification based on nqi-regression\")"
   ]
  },
  {
   "cell_type": "markdown",
   "metadata": {},
   "source": [
    "We now make an attempt to use the features that were constructed for the UPDRS-regression to directly classify a patient as Parkinson's positive\\negative. This is desired because in the first dataset we do not have UPDRS scores so we cannot train the above model that performed well on the MIT dataset. "
   ]
  },
  {
   "cell_type": "code",
   "execution_count": 45,
   "metadata": {},
   "outputs": [
    {
     "name": "stdout",
     "output_type": "stream",
     "text": [
      "Fitting & testing fold #1\n"
     ]
    },
    {
     "name": "stdout",
     "output_type": "stream",
     "text": [
      "Fitting & testing fold #2\n"
     ]
    },
    {
     "name": "stdout",
     "output_type": "stream",
     "text": [
      "Fitting & testing fold #3\n"
     ]
    },
    {
     "name": "stdout",
     "output_type": "stream",
     "text": [
      "Fitting & testing fold #4\n"
     ]
    },
    {
     "name": "stdout",
     "output_type": "stream",
     "text": [
      "Fitting & testing fold #5\n"
     ]
    },
    {
     "name": "stdout",
     "output_type": "stream",
     "text": [
      "Fitting & testing fold #6\n"
     ]
    },
    {
     "name": "stdout",
     "output_type": "stream",
     "text": [
      "Fitting & testing fold #7\n"
     ]
    },
    {
     "name": "stdout",
     "output_type": "stream",
     "text": [
      "Fitting & testing fold #8\n"
     ]
    },
    {
     "name": "stdout",
     "output_type": "stream",
     "text": [
      "Fitting & testing fold #9\n"
     ]
    },
    {
     "name": "stdout",
     "output_type": "stream",
     "text": [
      "Fitting & testing fold #10\n"
     ]
    },
    {
     "name": "stdout",
     "output_type": "stream",
     "text": [
      "\nsample of final predictions:\n             predicted_pd_prob  Parkinsons\nID                                       \n1HOEBIGASW           0.413558       False\n6LB9FQABZQ           0.357381       False\nEMYGMAIB2L           0.331409       False\nGN1CUIPUTJ           0.578242       False\nKRJVEQSLL5           0.308901       False\n"
     ]
    }
   ],
   "source": [
    "kaggle_ids = kaggle_data.ID.unique()\n",
    "\n",
    "\n",
    "NFOLDS = 10\n",
    "cv_gen = KFold(NFOLDS, shuffle=True)\n",
    "\n",
    "clf = GradientBoostingClassifier()\n",
    "final_probabilities_over_folds = pd.DataFrame()\n",
    "\n",
    "i = 1\n",
    "for train_indices, test_indices in cv_gen.split(kaggle_ids):\n",
    "    print(\"Fitting & testing fold #{}\".format(i))\n",
    "    train_ids = kaggle_ids[train_indices]\n",
    "    test_ids = kaggle_ids[test_indices]\n",
    "    train_data = kaggle_data[kaggle_data.ID.isin(train_ids)].copy()\n",
    "    test_data = kaggle_data[kaggle_data.ID.isin(test_ids)].copy()\n",
    "    clf.fit(train_data[PREDICTION_COLUMNS], train_data[\"Parkinsons\"])\n",
    "    test_data[\"predicted_pd_prob\"] = clf.predict_proba(X=test_data[HOLD_FEATURES+FLIGHT_FEATURES])[:,1]\n",
    "    \n",
    "    # average probabilities over time-windows per-subject:\n",
    "    final_probabilities_over_folds = pd.concat([final_probabilities_over_folds, test_data.groupby(\"ID\")[\"predicted_pd_prob\", \"Parkinsons\"].mean()])\n",
    "    i += 1\n",
    "print(\"\\nsample of final predictions:\\n\", final_probabilities_over_folds.head())"
   ]
  },
  {
   "cell_type": "code",
   "execution_count": 46,
   "metadata": {},
   "outputs": [
    {
     "name": "stdout",
     "output_type": "stream",
     "text": [
      "0.5998542274052477\n"
     ]
    }
   ],
   "source": [
    "test_auc = roc_auc_score(y_true=final_probabilities_over_folds['Parkinsons'], \n",
    "                    y_score=final_probabilities_over_folds['predicted_pd_prob'])\n",
    "print(test_auc)"
   ]
  },
  {
   "cell_type": "markdown",
   "metadata": {},
   "source": [
    "We see that this approach is not much better than random, although it could have potential given a home-environment data set of better quality and larger size."
   ]
  }
 ],
 "metadata": {
  "kernelspec": {
   "display_name": "Python 3",
   "language": "python",
   "name": "python3"
  },
  "language_info": {
   "codemirror_mode": {
    "name": "ipython",
    "version": 3
   },
   "file_extension": ".py",
   "mimetype": "text/x-python",
   "name": "python",
   "nbconvert_exporter": "python",
   "pygments_lexer": "ipython3",
   "version": "3.6.5"
  }
 },
 "nbformat": 4,
 "nbformat_minor": 1
}
