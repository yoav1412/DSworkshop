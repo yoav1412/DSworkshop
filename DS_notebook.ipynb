{
 "cells": [
  {
   "cell_type": "code",
   "execution_count": 2,
   "metadata": {
    "collapsed": true
   },
   "outputs": [],
   "source": [
    "%matplotlib inline"
   ]
  },
  {
   "cell_type": "code",
   "execution_count": 3,
   "metadata": {},
   "outputs": [],
   "source": [
    "import pandas as pd\n",
    "import numpy as np\n",
    "from sklearn.svm import SVC, NuSVC\n",
    "from scipy import stats\n",
    "from constants import *\n",
    "from auxiliary_functions import *\n",
    "from matplotlib import pyplot as plt\n",
    "from sklearn.model_selection import cross_validate, cross_val_score, train_test_split, KFold, StratifiedKFold, GridSearchCV\n",
    "from sklearn.preprocessing import StandardScaler, MinMaxScaler\n",
    "from sklearn.ensemble import RandomForestClassifier, GradientBoostingClassifier, VotingClassifier, AdaBoostClassifier\n",
    "from sklearn.linear_model import LogisticRegression, SGDClassifier\n",
    "from sklearn.neighbors import KNeighborsClassifier\n",
    "from sklearn.neural_network import MLPClassifier\n",
    "from sklearn.discriminant_analysis import LinearDiscriminantAnalysis, QuadraticDiscriminantAnalysis\n",
    "from collections import namedtuple\n",
    "from sklearn.decomposition import PCA\n",
    "from os import cpu_count\n",
    "from TwoGroupsWeightedModel import TwoGroupsWeightedModel\n",
    "from sklearn.neural_network import MLPClassifier\n",
    "from sklearn.tree import DecisionTreeClassifier"
   ]
  },
  {
   "cell_type": "code",
   "execution_count": 4,
   "metadata": {},
   "outputs": [],
   "source": [
    "process_data_files = False  # if set to False, data will be loaded from saved files"
   ]
  },
  {
   "cell_type": "markdown",
   "metadata": {},
   "source": [
    "Load full users and taps datasets from Kaggle"
   ]
  },
  {
   "cell_type": "code",
   "execution_count": 9,
   "metadata": {
    "collapsed": false
   },
   "outputs": [
    {
     "name": "stdout",
     "output_type": "stream",
     "text": [
      "   Unnamed: 0  FlightTime  HoldTime Hand          ID Direction  LatencyTime  \\\n0           0       156.3     101.6    L  0EA27ICBLF        LL        234.4   \n1           1       359.4      85.9    L  0EA27ICBLF        LL        437.5   \n2           2       125.0      78.1    L  0EA27ICBLF        LL        210.9   \n3           3       281.3      62.5    L  0EA27ICBLF        LL        359.4   \n4           4        93.8     125.0    S  0EA27ICBLF        LS        187.5   \n\n  binIndex  \n0  (0, 90]  \n1  (0, 90]  \n2  (0, 90]  \n3  (0, 90]  \n4  (0, 90]  \n   Unnamed: 0  BirthYear     DA DiagnosisYear  Gender          ID  Impact  \\\n0           0     1952.0   True          2000  Female  0EA27ICBLF  Severe   \n1           1     1959.0  False        ------  Female  0QAZFRHQHW  ------   \n2           2     1946.0  False        ------  Female  0WTDIGPSBZ  ------   \n3           3     1944.0  False        ------    Male  1HOEBIGASW  ------   \n4           4     1953.0  False          2017    Male  1WMVCCU4RH  Medium   \n\n   Levadopa   MAOB  Other  Parkinsons Sided  Tremors       UPDRS  \n0      True  False  False        True  Left     True  Don't know  \n1     False  False  False       False  None    False  Don't know  \n2     False  False  False       False  None    False  Don't know  \n3     False  False  False       False  None    False  Don't know  \n4     False  False  False        True  Left     True  Don't know  \n"
     ]
    }
   ],
   "source": [
    "from KaggleDataLoader import *\n",
    "\n",
    "if not process_data_files:\n",
    "    kaggle_taps = pd.read_csv(KAGGLE_TAPS_INPUT)\n",
    "    print(kaggle_taps.head())\n",
    "    kaggle_users = pd.read_csv(KAGGLE_USERS_INPUT)\n",
    "    print(kaggle_users.head())\n",
    "\n",
    "else:\n",
    "    # Create dataframe from files, perform basic cleaning\n",
    "    kaggle_users = create_merged_users_details_file()\n",
    "    print(kaggle_users.head())\n",
    "    \n",
    "    kaggle_taps = create_merged_taps_dataframe()\n",
    "    kaggle_taps = clean_bad_values(kaggle_taps)\n",
    "    kaggle_taps = clean_incompatible_user_ids(kaggle_taps, kaggle_users)\n",
    "    print(kaggle_taps.head())\n",
    "    \n",
    "    \n",
    "    # Filter outliers\n",
    "    def filter_column_by_quantile(df, column, threshold):\n",
    "        len_before = len(df)\n",
    "        df = df[df[column] < np.percentile(df[column], threshold)]\n",
    "        len_after = len(df)\n",
    "        print(\"Filtered out {} rows with outliers in column '{}'\".format((len_before - len_after), column))\n",
    "        return df\n",
    "    \n",
    "    \n",
    "    def plot_percentiles_of_column(df, col, start, end, bins):\n",
    "        X = np.linspace(start, end, bins)\n",
    "        Y = [np.percentile(df[col], x) for x in X]\n",
    "        plt.plot(X, Y)\n",
    "        plt.title(col + \" Percentiles\")\n",
    "        plt.xlabel(\"Percent\")\n",
    "        plt.ylabel(\"Percentile Value\")\n",
    "        plt.show()\n",
    "    \n",
    "    \n",
    "    # Filter out outliers of HoldTime:\n",
    "    plot_percentiles_of_column(kaggle_taps, 'HoldTime', 99.96, 99.9999, 20)\n",
    "    # After the percentile 99.993 we see significantly higher values, which are definitely outliers.\n",
    "    kaggle_taps = filter_column_by_quantile(kaggle_taps, 'HoldTime', 99.993)\n",
    "    \n",
    "    # Add parsed date and time column + calculate cumulative time\n",
    "    kaggle_taps = add_cumulative_timestamps_column(kaggle_taps)\n",
    "    \n",
    "    \n",
    "    # Group to bin indexes by the cumulative timestamps\n",
    "    def build_bins(df, bin_size_seconds):\n",
    "        df[\"PressTimeCumulative\"] = df[\"PressTimeCumulative\"] / 1000\n",
    "        max_press = (int(max((df[\"PressTimeCumulative\"])) / bin_size_seconds) + 1) * bin_size_seconds + 1\n",
    "        user_bins = [i for i in range(0, max_press, bin_size_seconds)]\n",
    "        df[\"binIndex\"] = pd.cut((df[\"PressTimeCumulative\"]), user_bins)\n",
    "        return df\n",
    "    \n",
    "    \n",
    "    kaggle_taps = build_bins(kaggle_taps, 90)\n",
    "    \n",
    "    # Keep only necessary columns and save to file\n",
    "    kaggle_taps = kaggle_taps[TAPS_FINAL_COLUMNS + ['binIndex']]\n",
    "    print(kaggle_taps.head())\n",
    "    \n",
    "    kaggle_taps.to_csv(constants.KAGGLE_TAPS_INPUT, index=False)"
   ]
  },
  {
   "cell_type": "markdown",
   "metadata": {},
   "source": [
    "Load full users and taps datasets from MIT dataset"
   ]
  },
  {
   "cell_type": "code",
   "execution_count": 10,
   "metadata": {
    "collapsed": true
   },
   "outputs": [
    {
     "name": "stdout",
     "output_type": "stream",
     "text": [
      "   ID Hand Direction  HoldTime  LatencyTime  FlightTime  pressTime binIndex\n0  68    L        RL     133.7        590.4       471.0     2.4218  (0, 90]\n1  68    L        LL     184.7        473.1       339.4     2.8949  (0, 90]\n2  68    L        LL     149.9        346.4       161.7     3.2413  (0, 90]\n3  68    R        LR     213.7        720.3       570.4     3.9616  (0, 90]\n4  68    R        RR     164.3       2505.7      2291.9     6.4673  (0, 90]\n   ID  Parkinsons  UDPRS\n0  11        True  14.25\n1  60       False   2.00\n2  67        True  25.25\n3  68       False   6.00\n4  70        True  26.25\n"
     ]
    }
   ],
   "source": [
    "from MITDataLoader import *\n",
    "\n",
    "if not process_data_files:\n",
    "    mit_taps = pd.read_csv(MIT_TAPS_INPUT)\n",
    "    print(mit_taps.head())\n",
    "    mit_users = pd.read_csv(MIT_USERS_INPUT)\n",
    "    print(mit_users.head())\n",
    "\n",
    "else:\n",
    "    mit_users = pd.read_csv(USERS, delimiter=',', header=0, error_bad_lines=False,\n",
    "                            low_memory=False, usecols=[\"pID\", \"gt\", \"updrs108\", \"file_1\", \"file_2\"])\n",
    "    \n",
    "    mit_taps = create_merged_taps_dataframe()\n",
    "    mit_taps = clean_errors_and_bad_values(mit_taps)\n",
    "    \n",
    "    # Group to bin indexes by pressTime and add as a new column\n",
    "    bin_size_seconds = 90\n",
    "    max_press = (int(max(mit_taps[\"pressTime\"]) / bin_size_seconds) + 1) * bin_size_seconds + 1\n",
    "    user_bins = [i for i in range(0, max_press, bin_size_seconds)]\n",
    "    mit_taps[\"binIndex\"] = pd.cut(mit_taps[\"pressTime\"], user_bins)\n",
    "    print(mit_taps.head())\n",
    "    \n",
    "    \n",
    "    # Filter outliers\n",
    "    \n",
    "    def plot_percentile(df, column, start, end, bins):\n",
    "        X = np.linspace(start, end, bins)\n",
    "        Y = [np.percentile(df[column], x) for x in X]\n",
    "        plt.plot(X, Y)\n",
    "        plt.title(column + \" Percentiles\")\n",
    "        plt.xlabel(\"Percent\")\n",
    "        plt.ylabel(\"Percentile Value\")\n",
    "        plt.show()\n",
    "    \n",
    "    \n",
    "    def filter_column_by_quantile(df, column, threshold):\n",
    "        len_before = len(df)\n",
    "        df = df[df[column] < np.percentile(df[column], threshold)]\n",
    "        len_after = len(df)\n",
    "        print(\"Filtered out {} rows with outliers in column '{}'\".format((len_before - len_after), column))\n",
    "    \n",
    "    \n",
    "    if SHOW_PLOTS:\n",
    "        for col in list(set(FLOAT_COLUMNS) - {\"pressTime\"}):\n",
    "            plot_percentile(mit_taps, col, 98, 99.9999, 40)\n",
    "    \n",
    "    # Filter according to the results in the plots\n",
    "    filter_column_by_quantile(mit_taps, \"HoldTime\", 99.99)\n",
    "    filter_column_by_quantile(mit_taps, \"LatencyTime\", 99.4)\n",
    "    filter_column_by_quantile(mit_taps, \"FlightTime\", 99.95)\n",
    "    \n",
    "    # Save to file - Taps file\n",
    "    mit_taps[[\"HoldTime\", \"LatencyTime\", \"FlightTime\"]] = \\\n",
    "        1000 * mit_taps[[\"HoldTime\", \"LatencyTime\", \"FlightTime\"]]  # to milliseconds\n",
    "    print(mit_taps.head())\n",
    "    \n",
    "    mit_taps.to_csv(MIT_TAPS_INPUT, index=False)\n",
    "    \n",
    "    # Save to file - Users file\n",
    "    mit_users.rename(columns={'pID': 'ID', 'gt': 'Parkinsons', 'updrs108': 'UDPRS'}, inplace=True)\n",
    "    mit_users = mit_users[['ID', 'Parkinsons', 'UDPRS']]\n",
    "    print(mit_users.head())\n",
    "    \n",
    "    mit_users.to_csv(MIT_USERS_INPUT, index=False)\n"
   ]
  },
  {
   "cell_type": "markdown",
   "metadata": {},
   "source": [
    "#Feature Creation"
   ]
  },
  {
   "cell_type": "markdown",
   "metadata": {},
   "source": [
    "##1.Creating features from the Kaggle data set, according to the first method:"
   ]
  },
  {
   "cell_type": "code",
   "execution_count": 11,
   "metadata": {},
   "outputs": [],
   "source": [
    "# Load the raw data, after cleaning:\n",
    "from method1_feature_extraction import *\n",
    "\n",
    "raw_kaggle_data = pd.read_csv(KAGGLE_TAPS_INPUT)\n",
    "kaggle_users_data = pd.read_csv(KAGGLE_USERS_INPUT)"
   ]
  },
  {
   "cell_type": "code",
   "execution_count": 12,
   "metadata": {},
   "outputs": [
    {
     "name": "stdout",
     "output_type": "stream",
     "text": [
      "           ID  L_FlightTime_mean  L_FlightTime_std  L_FlightTime_kurtosis  \\\n0  0EA27ICBLF         239.655394        107.822976              -1.263192   \n1  0QAZFRHQHW         319.277429        162.896291              -0.659685   \n2  1HOEBIGASW         386.722581        175.209404              -0.927794   \n3  1XNJCXS3EY         226.013786         85.352172              -0.493719   \n4  2JTCBKUP8T         265.411441        160.215877              -0.093353   \n\n   L_FlightTime_skew  L_FlightTime_entropy  L_FlightTime_percnt10  \\\n0          -0.032858             11.148338                   93.8   \n1           0.361020              6.322468                  117.2   \n2          -0.326568              3.319654                  132.8   \n3          -0.125464              6.045913                  113.3   \n4           0.540118              8.959632                   54.7   \n\n   L_FlightTime_percnt20  L_FlightTime_percnt40  L_FlightTime_percnt60  \\\n0                  125.0                 203.10                 281.30   \n1                  171.9                 253.52                 351.60   \n2                  187.5                 365.20                 437.50   \n3                  156.3                 203.10                 247.24   \n4                  117.2                 214.80                 289.10   \n\n      ...      DiagnosisYear  Gender  Impact  Levadopa   MAOB  Other  \\\n0     ...               2000  Female  Severe      True  False  False   \n1     ...             ------  Female  ------     False  False  False   \n2     ...             ------    Male  ------     False  False  False   \n3     ...             ------    Male  ------     False  False  False   \n4     ...               2013    Male  Medium      True  False  False   \n\n   Parkinsons  Sided  Tremors       UPDRS  \n0        True   Left     True  Don't know  \n1       False   None    False  Don't know  \n2       False   None    False  Don't know  \n3       False   None    False  Don't know  \n4        True  Right     True  Don't know  \n\n[5 rows x 234 columns]\n"
     ]
    }
   ],
   "source": [
    "# For every patient, calculate summary statistics for all of their data, partitioned into Left/Right, \n",
    "# and LR/RL/LL/RR transitions: \n",
    "method1_features = create_summary_statistics(raw_kaggle_data,\n",
    "                                             columns_to_aggregate=[\"FlightTime\", \"HoldTime\", \"LatencyTime\"],\n",
    "                                             aggregation_functions=[np.mean, np.std, stats.kurtosis, stats.skew,\n",
    "                                                        stats.entropy, percnt10, percnt20, percnt40, percnt60, percnt70,\n",
    "                                                        percnt80, percnt90])\n",
    "# Add a feature of the mean-diff between Left and Right HoldTimes, and Between LR and RL LatencyTimes:\n",
    "method1_features[\"mean_diff_L_R_HoldTime\"] = method1_features.R_HoldTime_mean - method1_features.L_HoldTime_mean\n",
    "method1_features[\"mean_diff_LR_RL_LatencyTime\"] = method1_features.RL_LatencyTime_mean - method1_features.LR_LatencyTime_mean\n",
    "method1_features[\"mean_diff_LL_RR_LatencyTime\"] = method1_features.LL_LatencyTime_mean - method1_features.RR_LatencyTime_mean\n",
    "\n",
    "# Join with the Users data:\n",
    "method1_features = method1_features.merge(kaggle_users_data, on=\"ID\", how=\"left\")\n",
    "# Dump to csv:\n",
    "method1_features.to_csv(KAGGLE_DATA_ARTICLE_METHOD1_FEATURES)\n",
    "print(method1_features.head())"
   ]
  },
  {
   "cell_type": "code",
   "execution_count": 13,
   "metadata": {},
   "outputs": [],
   "source": [
    "# Filter the data so that we only keep patients with plenty of tapping events, and only patients with mild Parkinsons:\n",
    "method1_features = method1_features[method1_features.total_count >= TAPS_THRESHOLD]  # take only users with more than THRESHOLD keystrokes\n",
    "method1_features = method1_features[method1_features.Levadopa == False]\n",
    "method1_features = method1_features[method1_features.Parkinsons == False | ( (method1_features.Parkinsons == True) & (method1_features.Impact == \"Mild\"))]\n"
   ]
  },
  {
   "cell_type": "markdown",
   "metadata": {},
   "source": [
    "#Modeling Phase 1: Attempting to reproduce the results from the Kaggle challenge article"
   ]
  },
  {
   "cell_type": "code",
   "execution_count": 15,
   "metadata": {},
   "outputs": [],
   "source": [
    "# The summary statistics used in the original article:\n",
    "ARTICLE_EXPLANATORY_VARIABLES =['L_HoldTime_mean', 'L_HoldTime_std', 'L_HoldTime_kurtosis', 'L_HoldTime_skew',\n",
    " 'R_HoldTime_mean', 'R_HoldTime_std', 'R_HoldTime_kurtosis', 'R_HoldTime_skew', 'LL_LatencyTime_mean', 'LL_LatencyTime_std',\n",
    " 'LL_LatencyTime_kurtosis', 'LL_LatencyTime_skew', 'LR_LatencyTime_mean', 'LR_LatencyTime_std', 'LR_LatencyTime_kurtosis',\n",
    " 'LR_LatencyTime_skew', 'RL_LatencyTime_mean', 'RL_LatencyTime_std', 'RL_LatencyTime_kurtosis', 'RL_LatencyTime_skew',\n",
    " 'RR_LatencyTime_mean', 'RR_LatencyTime_std', 'RR_LatencyTime_kurtosis', 'RR_LatencyTime_skew', 'mean_diff_LR_RL_LatencyTime',\n",
    " 'mean_diff_LL_RR_LatencyTime', 'mean_diff_L_R_HoldTime']\n",
    "\n",
    "\n"
   ]
  },
  {
   "cell_type": "code",
   "execution_count": 9,
   "metadata": {},
   "outputs": [],
   "source": [
    ""
   ]
  },
  {
   "cell_type": "markdown",
   "metadata": {},
   "source": [
    "### First attempt: applying several models to the raw data with the variables used in the article, without further processing:\n"
   ]
  },
  {
   "cell_type": "code",
   "execution_count": 16,
   "metadata": {
    "collapsed": false
   },
   "outputs": [
    {
     "name": "stdout",
     "output_type": "stream",
     "text": [
      "LogisticRegression:\n\tTrain accuracy:0.7885\n\tTest accuracy (5-fold cross validation):0.4945\nRandomForestClassifier:\n\tTrain accuracy:0.9808\n\tTest accuracy (5-fold cross validation):0.5382\n"
     ]
    },
    {
     "name": "stdout",
     "output_type": "stream",
     "text": [
      "AdaBoostClassifier:\n\tTrain accuracy:1.0\n\tTest accuracy (5-fold cross validation):0.4945\nKNeighborsClassifier:\n\tTrain accuracy:0.6538\n\tTest accuracy (5-fold cross validation):0.5982\n"
     ]
    },
    {
     "name": "stdout",
     "output_type": "stream",
     "text": [
      "GradientBoostingClassifier:\n\tTrain accuracy:1.0\n\tTest accuracy (5-fold cross validation):0.4836\nSVC:\n\tTrain accuracy:1.0\n\tTest accuracy (5-fold cross validation):0.6345\n"
     ]
    }
   ],
   "source": [
    "X = method1_features[ARTICLE_EXPLANATORY_VARIABLES]\n",
    "y = method1_features[\"Parkinsons\"]\n",
    "classifiers = [LogisticRegression(),\n",
    "               RandomForestClassifier(),\n",
    "               AdaBoostClassifier(),\n",
    "               KNeighborsClassifier(),\n",
    "               GradientBoostingClassifier(),\n",
    "               SVC(kernel='rbf', probability=True),\n",
    "               ]\n",
    "for clf in classifiers:\n",
    "    accuracy = evaluate_classifier_cv(clf, X, y, cross_validation_folds=5)\n",
    "    print(str(clf).split(\"(\")[0]+\":\")\n",
    "    print(\"\\t\"+accuracy.train)\n",
    "    print(\"\\t\" + accuracy.test)"
   ]
  },
  {
   "cell_type": "markdown",
   "metadata": {},
   "source": [
    "we can see that all models are highly overfitted, and do not perform well."
   ]
  },
  {
   "cell_type": "markdown",
   "metadata": {},
   "source": [
    "### Second attempt: normalize the data and apply PCA dimensionality reduction"
   ]
  },
  {
   "cell_type": "code",
   "execution_count": 17,
   "metadata": {},
   "outputs": [],
   "source": [
    "scaler = StandardScaler()\n",
    "normalized_X = scaler.fit_transform(X)"
   ]
  },
  {
   "cell_type": "code",
   "execution_count": 18,
   "metadata": {},
   "outputs": [
    {
     "ename": "AttributeError",
     "evalue": "'NoneType' object has no attribute 'sqrt'",
     "traceback": [
      "\u001b[1;31m---------------------------------------------------------------------------\u001b[0m",
      "\u001b[1;31mAttributeError\u001b[0m                            Traceback (most recent call last)",
      "\u001b[1;32m<ipython-input-18-4a1122ab2c6a>\u001b[0m in \u001b[0;36m<module>\u001b[1;34m()\u001b[0m\n\u001b[0;32m      7\u001b[0m \u001b[0mpca\u001b[0m \u001b[1;33m=\u001b[0m \u001b[0mPCA\u001b[0m\u001b[1;33m(\u001b[0m\u001b[0mn_components\u001b[0m\u001b[1;33m=\u001b[0m\u001b[1;36m2\u001b[0m\u001b[1;33m)\u001b[0m\u001b[1;33m\u001b[0m\u001b[0m\n\u001b[0;32m      8\u001b[0m \u001b[0mreduced_X\u001b[0m \u001b[1;33m=\u001b[0m \u001b[0mpca\u001b[0m\u001b[1;33m.\u001b[0m\u001b[0mfit_transform\u001b[0m\u001b[1;33m(\u001b[0m\u001b[0mnormalized_X\u001b[0m\u001b[1;33m)\u001b[0m\u001b[1;33m\u001b[0m\u001b[0m\n\u001b[1;32m----> 9\u001b[1;33m \u001b[0mplot_labeled_data_2d\u001b[0m\u001b[1;33m(\u001b[0m\u001b[0mreduced_X\u001b[0m\u001b[1;33m,\u001b[0m \u001b[0my\u001b[0m\u001b[1;33m,\u001b[0m \u001b[1;34m\"Casting to 2D using Principal Component Analysis\"\u001b[0m\u001b[1;33m)\u001b[0m\u001b[1;33m\u001b[0m\u001b[0m\n\u001b[0m\u001b[0;32m     10\u001b[0m \u001b[1;33m\u001b[0m\u001b[0m\n\u001b[0;32m     11\u001b[0m \u001b[1;33m\u001b[0m\u001b[0m\n",
      "\u001b[1;32m~\\PycharmProjects\\Parkinsons\\auxiliary_functions.py\u001b[0m in \u001b[0;36mplot_labeled_data_2d\u001b[1;34m(reduced_X, y, title, group_labels, show)\u001b[0m\n\u001b[0;32m     94\u001b[0m     \u001b[0mx2_pd_true\u001b[0m \u001b[1;33m=\u001b[0m \u001b[1;33m[\u001b[0m\u001b[0mreduced_X\u001b[0m\u001b[1;33m[\u001b[0m\u001b[0mi\u001b[0m\u001b[1;33m]\u001b[0m\u001b[1;33m[\u001b[0m\u001b[1;36m1\u001b[0m\u001b[1;33m]\u001b[0m \u001b[1;32mfor\u001b[0m \u001b[0mi\u001b[0m \u001b[1;32min\u001b[0m \u001b[0mrange\u001b[0m\u001b[1;33m(\u001b[0m\u001b[0mlen\u001b[0m\u001b[1;33m(\u001b[0m\u001b[0my\u001b[0m\u001b[1;33m)\u001b[0m\u001b[1;33m)\u001b[0m \u001b[1;32mif\u001b[0m \u001b[0my\u001b[0m\u001b[1;33m.\u001b[0m\u001b[0mvalues\u001b[0m\u001b[1;33m[\u001b[0m\u001b[0mi\u001b[0m\u001b[1;33m]\u001b[0m \u001b[1;33m==\u001b[0m \u001b[1;32mTrue\u001b[0m\u001b[1;33m]\u001b[0m\u001b[1;33m\u001b[0m\u001b[0m\n\u001b[0;32m     95\u001b[0m     \u001b[0mx2_pd_false\u001b[0m \u001b[1;33m=\u001b[0m \u001b[1;33m[\u001b[0m\u001b[0mreduced_X\u001b[0m\u001b[1;33m[\u001b[0m\u001b[0mi\u001b[0m\u001b[1;33m]\u001b[0m\u001b[1;33m[\u001b[0m\u001b[1;36m1\u001b[0m\u001b[1;33m]\u001b[0m \u001b[1;32mfor\u001b[0m \u001b[0mi\u001b[0m \u001b[1;32min\u001b[0m \u001b[0mrange\u001b[0m\u001b[1;33m(\u001b[0m\u001b[0mlen\u001b[0m\u001b[1;33m(\u001b[0m\u001b[0my\u001b[0m\u001b[1;33m)\u001b[0m\u001b[1;33m)\u001b[0m \u001b[1;32mif\u001b[0m \u001b[0my\u001b[0m\u001b[1;33m.\u001b[0m\u001b[0mvalues\u001b[0m\u001b[1;33m[\u001b[0m\u001b[0mi\u001b[0m\u001b[1;33m]\u001b[0m \u001b[1;33m==\u001b[0m \u001b[1;32mFalse\u001b[0m\u001b[1;33m]\u001b[0m\u001b[1;33m\u001b[0m\u001b[0m\n\u001b[1;32m---> 96\u001b[1;33m     \u001b[0mb\u001b[0m \u001b[1;33m=\u001b[0m \u001b[0mplt\u001b[0m\u001b[1;33m.\u001b[0m\u001b[0mscatter\u001b[0m\u001b[1;33m(\u001b[0m\u001b[0mx1_pd_true\u001b[0m\u001b[1;33m,\u001b[0m \u001b[0mx2_pd_true\u001b[0m\u001b[1;33m,\u001b[0m \u001b[0mcolor\u001b[0m\u001b[1;33m=\u001b[0m\u001b[1;34m'red'\u001b[0m\u001b[1;33m)\u001b[0m\u001b[1;33m\u001b[0m\u001b[0m\n\u001b[0m\u001b[0;32m     97\u001b[0m     \u001b[0ma\u001b[0m \u001b[1;33m=\u001b[0m \u001b[0mplt\u001b[0m\u001b[1;33m.\u001b[0m\u001b[0mscatter\u001b[0m\u001b[1;33m(\u001b[0m\u001b[0mx1_pd_false\u001b[0m\u001b[1;33m,\u001b[0m \u001b[0mx2_pd_false\u001b[0m\u001b[1;33m,\u001b[0m \u001b[0mcolor\u001b[0m\u001b[1;33m=\u001b[0m\u001b[1;34m'blue'\u001b[0m\u001b[1;33m)\u001b[0m\u001b[1;33m\u001b[0m\u001b[0m\n\u001b[0;32m     98\u001b[0m     \u001b[0mplt\u001b[0m\u001b[1;33m.\u001b[0m\u001b[0mtitle\u001b[0m\u001b[1;33m(\u001b[0m\u001b[0mtitle\u001b[0m\u001b[1;33m)\u001b[0m\u001b[1;33m\u001b[0m\u001b[0m\n",
      "\u001b[1;32mC:\\Python36\\lib\\site-packages\\matplotlib\\pyplot.py\u001b[0m in \u001b[0;36mscatter\u001b[1;34m(x, y, s, c, marker, cmap, norm, vmin, vmax, alpha, linewidths, verts, edgecolors, hold, data, **kwargs)\u001b[0m\n\u001b[0;32m   3468\u001b[0m                          \u001b[0mvmin\u001b[0m\u001b[1;33m=\u001b[0m\u001b[0mvmin\u001b[0m\u001b[1;33m,\u001b[0m \u001b[0mvmax\u001b[0m\u001b[1;33m=\u001b[0m\u001b[0mvmax\u001b[0m\u001b[1;33m,\u001b[0m \u001b[0malpha\u001b[0m\u001b[1;33m=\u001b[0m\u001b[0malpha\u001b[0m\u001b[1;33m,\u001b[0m\u001b[1;33m\u001b[0m\u001b[0m\n\u001b[0;32m   3469\u001b[0m                          \u001b[0mlinewidths\u001b[0m\u001b[1;33m=\u001b[0m\u001b[0mlinewidths\u001b[0m\u001b[1;33m,\u001b[0m \u001b[0mverts\u001b[0m\u001b[1;33m=\u001b[0m\u001b[0mverts\u001b[0m\u001b[1;33m,\u001b[0m\u001b[1;33m\u001b[0m\u001b[0m\n\u001b[1;32m-> 3470\u001b[1;33m                          edgecolors=edgecolors, data=data, **kwargs)\n\u001b[0m\u001b[0;32m   3471\u001b[0m     \u001b[1;32mfinally\u001b[0m\u001b[1;33m:\u001b[0m\u001b[1;33m\u001b[0m\u001b[0m\n\u001b[0;32m   3472\u001b[0m         \u001b[0max\u001b[0m\u001b[1;33m.\u001b[0m\u001b[0m_hold\u001b[0m \u001b[1;33m=\u001b[0m \u001b[0mwashold\u001b[0m\u001b[1;33m\u001b[0m\u001b[0m\n",
      "\u001b[1;32mC:\\Python36\\lib\\site-packages\\mpl_toolkits\\mplot3d\\axes3d.py\u001b[0m in \u001b[0;36mscatter\u001b[1;34m(self, xs, ys, zs, zdir, s, c, depthshade, *args, **kwargs)\u001b[0m\n\u001b[0;32m   2360\u001b[0m \u001b[1;33m\u001b[0m\u001b[0m\n\u001b[0;32m   2361\u001b[0m         patches = super(Axes3D, self).scatter(\n\u001b[1;32m-> 2362\u001b[1;33m             xs, ys, s=s, c=c, *args, **kwargs)\n\u001b[0m\u001b[0;32m   2363\u001b[0m         \u001b[0mis_2d\u001b[0m \u001b[1;33m=\u001b[0m \u001b[1;32mnot\u001b[0m \u001b[0mcbook\u001b[0m\u001b[1;33m.\u001b[0m\u001b[0miterable\u001b[0m\u001b[1;33m(\u001b[0m\u001b[0mzs\u001b[0m\u001b[1;33m)\u001b[0m\u001b[1;33m\u001b[0m\u001b[0m\n\u001b[0;32m   2364\u001b[0m         \u001b[0mzs\u001b[0m \u001b[1;33m=\u001b[0m \u001b[0m_backports\u001b[0m\u001b[1;33m.\u001b[0m\u001b[0mbroadcast_to\u001b[0m\u001b[1;33m(\u001b[0m\u001b[0mzs\u001b[0m\u001b[1;33m,\u001b[0m \u001b[0mlen\u001b[0m\u001b[1;33m(\u001b[0m\u001b[0mxs\u001b[0m\u001b[1;33m)\u001b[0m\u001b[1;33m)\u001b[0m\u001b[1;33m\u001b[0m\u001b[0m\n",
      "\u001b[1;32mC:\\Python36\\lib\\site-packages\\matplotlib\\__init__.py\u001b[0m in \u001b[0;36minner\u001b[1;34m(ax, *args, **kwargs)\u001b[0m\n\u001b[0;32m   1853\u001b[0m                         \u001b[1;34m\"the Matplotlib list!)\"\u001b[0m \u001b[1;33m%\u001b[0m \u001b[1;33m(\u001b[0m\u001b[0mlabel_namer\u001b[0m\u001b[1;33m,\u001b[0m \u001b[0mfunc\u001b[0m\u001b[1;33m.\u001b[0m\u001b[0m__name__\u001b[0m\u001b[1;33m)\u001b[0m\u001b[1;33m,\u001b[0m\u001b[1;33m\u001b[0m\u001b[0m\n\u001b[0;32m   1854\u001b[0m                         RuntimeWarning, stacklevel=2)\n\u001b[1;32m-> 1855\u001b[1;33m             \u001b[1;32mreturn\u001b[0m \u001b[0mfunc\u001b[0m\u001b[1;33m(\u001b[0m\u001b[0max\u001b[0m\u001b[1;33m,\u001b[0m \u001b[1;33m*\u001b[0m\u001b[0margs\u001b[0m\u001b[1;33m,\u001b[0m \u001b[1;33m**\u001b[0m\u001b[0mkwargs\u001b[0m\u001b[1;33m)\u001b[0m\u001b[1;33m\u001b[0m\u001b[0m\n\u001b[0m\u001b[0;32m   1856\u001b[0m \u001b[1;33m\u001b[0m\u001b[0m\n\u001b[0;32m   1857\u001b[0m         inner.__doc__ = _add_data_doc(inner.__doc__,\n",
      "\u001b[1;32mC:\\Python36\\lib\\site-packages\\matplotlib\\axes\\_axes.py\u001b[0m in \u001b[0;36mscatter\u001b[1;34m(self, x, y, s, c, marker, cmap, norm, vmin, vmax, alpha, linewidths, verts, edgecolors, **kwargs)\u001b[0m\n\u001b[0;32m   4318\u001b[0m                 \u001b[0moffsets\u001b[0m\u001b[1;33m=\u001b[0m\u001b[0moffsets\u001b[0m\u001b[1;33m,\u001b[0m\u001b[1;33m\u001b[0m\u001b[0m\n\u001b[0;32m   4319\u001b[0m                 \u001b[0mtransOffset\u001b[0m\u001b[1;33m=\u001b[0m\u001b[0mkwargs\u001b[0m\u001b[1;33m.\u001b[0m\u001b[0mpop\u001b[0m\u001b[1;33m(\u001b[0m\u001b[1;34m'transform'\u001b[0m\u001b[1;33m,\u001b[0m \u001b[0mself\u001b[0m\u001b[1;33m.\u001b[0m\u001b[0mtransData\u001b[0m\u001b[1;33m)\u001b[0m\u001b[1;33m,\u001b[0m\u001b[1;33m\u001b[0m\u001b[0m\n\u001b[1;32m-> 4320\u001b[1;33m                 \u001b[0malpha\u001b[0m\u001b[1;33m=\u001b[0m\u001b[0malpha\u001b[0m\u001b[1;33m\u001b[0m\u001b[0m\n\u001b[0m\u001b[0;32m   4321\u001b[0m                 )\n\u001b[0;32m   4322\u001b[0m         \u001b[0mcollection\u001b[0m\u001b[1;33m.\u001b[0m\u001b[0mset_transform\u001b[0m\u001b[1;33m(\u001b[0m\u001b[0mmtransforms\u001b[0m\u001b[1;33m.\u001b[0m\u001b[0mIdentityTransform\u001b[0m\u001b[1;33m(\u001b[0m\u001b[1;33m)\u001b[0m\u001b[1;33m)\u001b[0m\u001b[1;33m\u001b[0m\u001b[0m\n",
      "\u001b[1;32mC:\\Python36\\lib\\site-packages\\matplotlib\\collections.py\u001b[0m in \u001b[0;36m__init__\u001b[1;34m(self, paths, sizes, **kwargs)\u001b[0m\n\u001b[0;32m    927\u001b[0m         \u001b[0mCollection\u001b[0m\u001b[1;33m.\u001b[0m\u001b[0m__init__\u001b[0m\u001b[1;33m(\u001b[0m\u001b[0mself\u001b[0m\u001b[1;33m,\u001b[0m \u001b[1;33m**\u001b[0m\u001b[0mkwargs\u001b[0m\u001b[1;33m)\u001b[0m\u001b[1;33m\u001b[0m\u001b[0m\n\u001b[0;32m    928\u001b[0m         \u001b[0mself\u001b[0m\u001b[1;33m.\u001b[0m\u001b[0mset_paths\u001b[0m\u001b[1;33m(\u001b[0m\u001b[0mpaths\u001b[0m\u001b[1;33m)\u001b[0m\u001b[1;33m\u001b[0m\u001b[0m\n\u001b[1;32m--> 929\u001b[1;33m         \u001b[0mself\u001b[0m\u001b[1;33m.\u001b[0m\u001b[0mset_sizes\u001b[0m\u001b[1;33m(\u001b[0m\u001b[0msizes\u001b[0m\u001b[1;33m)\u001b[0m\u001b[1;33m\u001b[0m\u001b[0m\n\u001b[0m\u001b[0;32m    930\u001b[0m         \u001b[0mself\u001b[0m\u001b[1;33m.\u001b[0m\u001b[0mstale\u001b[0m \u001b[1;33m=\u001b[0m \u001b[1;32mTrue\u001b[0m\u001b[1;33m\u001b[0m\u001b[0m\n\u001b[0;32m    931\u001b[0m \u001b[1;33m\u001b[0m\u001b[0m\n",
      "\u001b[1;32mC:\\Python36\\lib\\site-packages\\matplotlib\\collections.py\u001b[0m in \u001b[0;36mset_sizes\u001b[1;34m(self, sizes, dpi)\u001b[0m\n\u001b[0;32m    900\u001b[0m             \u001b[0mself\u001b[0m\u001b[1;33m.\u001b[0m\u001b[0m_sizes\u001b[0m \u001b[1;33m=\u001b[0m \u001b[0mnp\u001b[0m\u001b[1;33m.\u001b[0m\u001b[0masarray\u001b[0m\u001b[1;33m(\u001b[0m\u001b[0msizes\u001b[0m\u001b[1;33m)\u001b[0m\u001b[1;33m\u001b[0m\u001b[0m\n\u001b[0;32m    901\u001b[0m             \u001b[0mself\u001b[0m\u001b[1;33m.\u001b[0m\u001b[0m_transforms\u001b[0m \u001b[1;33m=\u001b[0m \u001b[0mnp\u001b[0m\u001b[1;33m.\u001b[0m\u001b[0mzeros\u001b[0m\u001b[1;33m(\u001b[0m\u001b[1;33m(\u001b[0m\u001b[0mlen\u001b[0m\u001b[1;33m(\u001b[0m\u001b[0mself\u001b[0m\u001b[1;33m.\u001b[0m\u001b[0m_sizes\u001b[0m\u001b[1;33m)\u001b[0m\u001b[1;33m,\u001b[0m \u001b[1;36m3\u001b[0m\u001b[1;33m,\u001b[0m \u001b[1;36m3\u001b[0m\u001b[1;33m)\u001b[0m\u001b[1;33m)\u001b[0m\u001b[1;33m\u001b[0m\u001b[0m\n\u001b[1;32m--> 902\u001b[1;33m             \u001b[0mscale\u001b[0m \u001b[1;33m=\u001b[0m \u001b[0mnp\u001b[0m\u001b[1;33m.\u001b[0m\u001b[0msqrt\u001b[0m\u001b[1;33m(\u001b[0m\u001b[0mself\u001b[0m\u001b[1;33m.\u001b[0m\u001b[0m_sizes\u001b[0m\u001b[1;33m)\u001b[0m \u001b[1;33m*\u001b[0m \u001b[0mdpi\u001b[0m \u001b[1;33m/\u001b[0m \u001b[1;36m72.0\u001b[0m \u001b[1;33m*\u001b[0m \u001b[0mself\u001b[0m\u001b[1;33m.\u001b[0m\u001b[0m_factor\u001b[0m\u001b[1;33m\u001b[0m\u001b[0m\n\u001b[0m\u001b[0;32m    903\u001b[0m             \u001b[0mself\u001b[0m\u001b[1;33m.\u001b[0m\u001b[0m_transforms\u001b[0m\u001b[1;33m[\u001b[0m\u001b[1;33m:\u001b[0m\u001b[1;33m,\u001b[0m \u001b[1;36m0\u001b[0m\u001b[1;33m,\u001b[0m \u001b[1;36m0\u001b[0m\u001b[1;33m]\u001b[0m \u001b[1;33m=\u001b[0m \u001b[0mscale\u001b[0m\u001b[1;33m\u001b[0m\u001b[0m\n\u001b[0;32m    904\u001b[0m             \u001b[0mself\u001b[0m\u001b[1;33m.\u001b[0m\u001b[0m_transforms\u001b[0m\u001b[1;33m[\u001b[0m\u001b[1;33m:\u001b[0m\u001b[1;33m,\u001b[0m \u001b[1;36m1\u001b[0m\u001b[1;33m,\u001b[0m \u001b[1;36m1\u001b[0m\u001b[1;33m]\u001b[0m \u001b[1;33m=\u001b[0m \u001b[0mscale\u001b[0m\u001b[1;33m\u001b[0m\u001b[0m\n",
      "\u001b[1;31mAttributeError\u001b[0m: 'NoneType' object has no attribute 'sqrt'"
     ],
     "output_type": "error"
    },
    {
     "data": {
      "image/png": "[encoded data removed]",
      "text/plain": [
       "<Figure size 432x288 with 1 Axes>"
      ]
     },
     "metadata": {},
     "output_type": "display_data"
    }
   ],
   "source": [
    "# Visualizing the data in 3d, 2d and 1d after PCA:\n",
    "pca = PCA(n_components=3)\n",
    "reduced_X = pca.fit_transform(normalized_X)\n",
    "plot_labeled_data_3d(reduced_X, y, \"Casting to 3D using Principal Component Analysis\")\n",
    "\n",
    "\n",
    "pca = PCA(n_components=2)\n",
    "reduced_X = pca.fit_transform(normalized_X)\n",
    "plot_labeled_data_2d(reduced_X, y, \"Casting to 2D using Principal Component Analysis\")\n",
    "\n",
    "\n",
    "pca = PCA(n_components=1)\n",
    "reduced_X = pca.fit_transform(normalized_X)\n",
    "plot_labeled_data_1d(reduced_X, y, \"Casting to 1D using Principal Component Analysis\")"
   ]
  },
  {
   "cell_type": "code",
   "execution_count": 19,
   "metadata": {},
   "outputs": [
    {
     "data": {
      "text/plain": [
       "[<matplotlib.lines.Line2D at 0x1585795d6d8>]"
      ]
     },
     "execution_count": 19,
     "metadata": {},
     "output_type": "execute_result"
    },
    {
     "data": {
      "image/png": "[encoded data removed]",
      "text/plain": [
       "<Figure size 432x288 with 1 Axes>"
      ]
     },
     "metadata": {},
     "output_type": "display_data"
    }
   ],
   "source": [
    "original_dim = len(normalized_X[0])\n",
    "tested_dimensions = []\n",
    "accuracies = []\n",
    "for dim in [i for i in range(1, original_dim+1)]:\n",
    "    if dim != original_dim:\n",
    "        pca = PCA(n_components=dim)\n",
    "        reduced_X = pca.fit_transform(normalized_X, y.values)\n",
    "    else:\n",
    "        reduced_X = normalized_X\n",
    "    best_accuracy = namedtuple(\"best_accuracy\", \"clf_name test_accuracy train_accuracy\")\n",
    "    best_accuracy.test_accuracy = -1  #init\n",
    "    for clf in classifiers:\n",
    "        accuracy = evaluate_classifier_cv(clf, reduced_X, y, cross_validation_folds=10)\n",
    "        if accuracy.test_score > best_accuracy.test_accuracy:\n",
    "            best_accuracy.test_accuracy = accuracy.test_score\n",
    "            best_accuracy.clf_name = str(clf).split(\"(\")[0]\n",
    "    tested_dimensions.append(dim)\n",
    "    accuracies.append(best_accuracy.test_accuracy)\n",
    "plt.title(\"Best test accuracy by dimension (reduction with PCA)\")\n",
    "plt.xlabel(\"Dimension\")\n",
    "plt.ylabel(\"Test accuracy rate\")\n",
    "plt.plot(tested_dimensions, accuracies)\n"
   ]
  },
  {
   "cell_type": "markdown",
   "metadata": {},
   "source": [
    "We can see that PCA dimensionality reduction does not improve prformance."
   ]
  },
  {
   "cell_type": "code",
   "execution_count": null,
   "metadata": {},
   "outputs": [
    {
     "name": "stderr",
     "output_type": "stream",
     "text": [
      "C:\\Python36\\lib\\site-packages\\sklearn\\utils\\validation.py:578: DataConversionWarning: A column-vector y was passed when a 1d array was expected. Please change the shape of y to (n_samples, ), for example using ravel().\n  y = column_or_1d(y, warn=True)\nC:\\Python36\\lib\\site-packages\\sklearn\\discriminant_analysis.py:388: UserWarning: Variables are collinear.\n  warnings.warn(\"Variables are collinear.\")\n"
     ]
    }
   ],
   "source": [
    ""
   ]
  },
  {
   "cell_type": "code",
   "execution_count": 18,
   "metadata": {},
   "outputs": [
    {
     "name": "stdout",
     "output_type": "stream",
     "text": [
      "best AUC after LDA dimensionality reduction: 0.7166666666666667  (by model: LogisticRegression)\n"
     ]
    },
    {
     "name": "stderr",
     "output_type": "stream",
     "text": [
      "C:\\Python36\\lib\\site-packages\\sklearn\\utils\\validation.py:578: DataConversionWarning: A column-vector y was passed when a 1d array was expected. Please change the shape of y to (n_samples, ), for example using ravel().\n  y = column_or_1d(y, warn=True)\nC:\\Python36\\lib\\site-packages\\sklearn\\discriminant_analysis.py:388: UserWarning: Variables are collinear.\n  warnings.warn(\"Variables are collinear.\")\nC:\\Users\\yoav1\\PycharmProjects\\Parkinsons\\auxiliary_functions.py:27: DataConversionWarning: A column-vector y was passed when a 1d array was expected. Please change the shape of y to (n_samples,), for example using ravel().\n  model.fit(train_X, train_y)\nC:\\Python36\\lib\\site-packages\\sklearn\\utils\\validation.py:578: DataConversionWarning: A column-vector y was passed when a 1d array was expected. Please change the shape of y to (n_samples, ), for example using ravel().\n  y = column_or_1d(y, warn=True)\nC:\\Users\\yoav1\\PycharmProjects\\Parkinsons\\auxiliary_functions.py:27: DataConversionWarning: A column-vector y was passed when a 1d array was expected. Please change the shape of y to (n_samples, ), for example using ravel().\n  model.fit(train_X, train_y)\nC:\\Python36\\lib\\site-packages\\sklearn\\utils\\validation.py:578: DataConversionWarning: A column-vector y was passed when a 1d array was expected. Please change the shape of y to (n_samples, ), for example using ravel().\n  y = column_or_1d(y, warn=True)\n"
     ]
    }
   ],
   "source": [
    "# Apply LDA dim-reduction and scaling to the data, and randomly split test and train sets:\n",
    "\n",
    "# TODO: this section and the next one have very variable results (some runs even get AUC of 0.8...). maybe use K-fold-CV to reduce variance.\n",
    "\n",
    "\n",
    "train_X, train_y, test_X, test_y = split_to_train_test_and_apply_scaling_and_lda_dim_reduction(X, y, \n",
    "                                                                                               train_percentage=0.7)\n",
    "\n",
    "# Fit several models, and find the best one by AUC measure:\n",
    "best_auc, best_clf = get_best_roc(classifiers, train_X, train_y, test_X, test_y)\n",
    "print(\"best AUC after LDA dimensionality reduction:\", best_auc, \" (by model: {})\".format(type(best_clf).__name__))\n",
    "\n",
    "\n",
    "# TODO:\n",
    "    #1. fix warnings here -Done\n",
    "    #2. continue with splititing to two groups, and exactly following the first article - Done\n",
    "    #3. add the feature extraction of the second method (nqi features)\n",
    "    #4. continue to second method."
   ]
  },
  {
   "cell_type": "markdown",
   "metadata": {},
   "source": [
    "It is evident that neither technique of dimensionaliy reduction improves performance. \n",
    "We now explore adding additional predictors, specifically calculating percentles of the HoldTime and LatencyTime, trying to better describe the distribution of these measures for each patient:"
   ]
  },
  {
   "cell_type": "code",
   "execution_count": 19,
   "metadata": {},
   "outputs": [
    {
     "name": "stdout",
     "output_type": "stream",
     "text": [
      "best AUC with additional variables: 0.6875  (by model: LogisticRegression)\n"
     ]
    },
    {
     "name": "stderr",
     "output_type": "stream",
     "text": [
      "C:\\Python36\\lib\\site-packages\\sklearn\\utils\\validation.py:578: DataConversionWarning: A column-vector y was passed when a 1d array was expected. Please change the shape of y to (n_samples, ), for example using ravel().\n  y = column_or_1d(y, warn=True)\nC:\\Python36\\lib\\site-packages\\sklearn\\discriminant_analysis.py:388: UserWarning: Variables are collinear.\n  warnings.warn(\"Variables are collinear.\")\nC:\\Users\\yoav1\\PycharmProjects\\Parkinsons\\auxiliary_functions.py:27: DataConversionWarning: A column-vector y was passed when a 1d array was expected. Please change the shape of y to (n_samples,), for example using ravel().\n  model.fit(train_X, train_y)\nC:\\Python36\\lib\\site-packages\\sklearn\\utils\\validation.py:578: DataConversionWarning: A column-vector y was passed when a 1d array was expected. Please change the shape of y to (n_samples, ), for example using ravel().\n  y = column_or_1d(y, warn=True)\nC:\\Users\\yoav1\\PycharmProjects\\Parkinsons\\auxiliary_functions.py:27: DataConversionWarning: A column-vector y was passed when a 1d array was expected. Please change the shape of y to (n_samples, ), for example using ravel().\n  model.fit(train_X, train_y)\nC:\\Python36\\lib\\site-packages\\sklearn\\utils\\validation.py:578: DataConversionWarning: A column-vector y was passed when a 1d array was expected. Please change the shape of y to (n_samples, ), for example using ravel().\n  y = column_or_1d(y, warn=True)\n"
     ]
    }
   ],
   "source": [
    "PERCENTILES = [c for c in method1_features.columns.values if \"perc\" in c and \"FlightTime\" not in c]\n",
    "X = method1_features[ARTICLE_EXPLANATORY_VARIABLES + PERCENTILES]\n",
    "y = method1_features[\"Parkinsons\"]\n",
    "\n",
    "train_X, train_y, test_X, test_y = split_to_train_test_and_apply_scaling_and_lda_dim_reduction(X, y, \n",
    "                                                                                               train_percentage=0.7)\n",
    "# Fit several models, and find the best one by AUC measure:\n",
    "best_auc, best_clf = get_best_roc(classifiers, train_X, train_y, test_X, test_y)\n",
    "print(\"best AUC with additional variables:\", best_auc, \" (by model: {})\".format(type(best_clf).__name__))"
   ]
  },
  {
   "cell_type": "markdown",
   "metadata": {},
   "source": [
    "We now continue to follow the method descdribed in the article, by partitioning the data into two groups, Hold variables and Latency variables (depending on the orignal column they were created by). \n",
    "We then assign a Parkinson's probability using each group seperately, and output a final probability as a weighted average of these two probabilities."
   ]
  },
  {
   "cell_type": "code",
   "execution_count": 20,
   "metadata": {
    "collapsed": true
   },
   "outputs": [
    {
     "name": "stdout",
     "output_type": "stream",
     "text": [
      "Test AUC: 0.5326984126984128\nTest Accuracy: 0.49818181818181817\n"
     ]
    }
   ],
   "source": [
    "from TwoGroupsWeightedModel import TwoGroupsWeightedModel\n",
    "import warnings\n",
    "\n",
    "ALL_VARIABLES = ARTICLE_EXPLANATORY_VARIABLES\n",
    "HOLD_VARIABLES = [v for v in ALL_VARIABLES if \"HoldTime\" in v]\n",
    "LATENCY_VARIABLES = [v for v in ALL_VARIABLES if \"LatencyTime\" in v]\n",
    "\n",
    "voting_ensemble = VotingClassifier(estimators=[\n",
    "                                    ('1', RandomForestClassifier()),\n",
    "                                    ('2', SVC(probability=True)),\n",
    "                                    ('3', MLPClassifier()),\n",
    "                                    ('4', LogisticRegression()),\n",
    "                                    ('5', NuSVC(probability=True)),\n",
    "                                    ('6', KNeighborsClassifier()),\n",
    "                                    ('7', DecisionTreeClassifier()),\n",
    "                                    ('8', QuadraticDiscriminantAnalysis())\n",
    "                                  ],\n",
    "                        voting='soft')\n",
    "\n",
    "\n",
    "def weighting_function(hold_probs, latency_probs):\n",
    "    \"\"\"\n",
    "    These are the weights described in the article. We note that this weighting can yield probs > 1, and therefore is not optimal. \n",
    "    We've tried other weightings as well, with no significant improvement.\n",
    "    \"\"\"\n",
    "    return (hold_probs + 0.5*(1-1.2) + 1.2*latency_probs)/2.0\n",
    "\n",
    "\n",
    "groups_model = TwoGroupsWeightedModel(underlying_estimator_module_and_class=\"sklearn.pipeline Pipeline\",\n",
    "                            group1_var_names=HOLD_VARIABLES,\n",
    "                            group2_var_names=LATENCY_VARIABLES,\n",
    "                             weighting_function=weighting_function,              \n",
    "                            classification_threshold=0.5,\n",
    "                            steps=[(\"normalization\", StandardScaler()),\n",
    "                                   (\"lda\", LinearDiscriminantAnalysis()),\n",
    "                                   (\"clf\", voting_ensemble)])\n",
    "\n",
    "# calculate accuracy and AUC for the groups-model, using K-fold CV:\n",
    "X = method1_features[ARTICLE_EXPLANATORY_VARIABLES]\n",
    "y = method1_features[\"Parkinsons\"]\n",
    "\n",
    "\"\"\"\n",
    "Training the model on this data results in a \"Collinear Variables\" warnings. This is true, as some of the variables have very high Pearson-correlation.\n",
    "In order to reporoduce the article findings we ignore these erros for now, and  filter warnings for the next few lines. \n",
    "\"\"\"\n",
    "warnings.filterwarnings(\"ignore\")\n",
    "test_auc = evaluate_classifier_cv(clf=groups_model, X=X, y=y, cross_validation_folds=5, scoring='roc_auc').test_score\n",
    "test_accuracy = evaluate_classifier_cv(clf=groups_model, X=X, y=y, cross_validation_folds=5, scoring='accuracy').test_score\n",
    "warnings.resetwarnings()\n",
    "\n",
    "print(\"Test AUC: {}\\nTest Accuracy: {}\".format(test_auc, test_accuracy))"
   ]
  },
  {
   "cell_type": "markdown",
   "metadata": {
    "collapsed": true
   },
   "source": [
    "Conclusion: in the above section we tried to reproduce and improve the classifying technique described in the article that inspired the Kaggle challenge. \n",
    "We believe that the the results in the aticle are not valid and non-reproducible, and we ellaborate further on this in the project document."
   ]
  },
  {
   "cell_type": "code",
   "execution_count": 73,
   "metadata": {},
   "outputs": [
    {
     "data": {
      "text/plain": [
       "pandas.core.frame.DataFrame"
      ]
     },
     "execution_count": 73,
     "metadata": {},
     "output_type": "execute_result"
    }
   ],
   "source": [
    "#Modeling Phase 2: A completely different approah, inspired by results published by a team of MIT researchers"
   ]
  },
  {
   "cell_type": "code",
   "execution_count": null,
   "metadata": {},
   "outputs": [],
   "source": [
    ""
   ]
  },
  {
   "cell_type": "code",
   "execution_count": null,
   "metadata": {},
   "outputs": [],
   "source": []
  }
 ],
 "metadata": {
  "kernelspec": {
   "display_name": "Python 2",
   "language": "python",
   "name": "python2"
  },
  "language_info": {
   "codemirror_mode": {
    "name": "ipython",
    "version": 2
   },
   "file_extension": ".py",
   "mimetype": "text/x-python",
   "name": "python",
   "nbconvert_exporter": "python",
   "pygments_lexer": "ipython2",
   "version": "2.7.6"
  }
 },
 "nbformat": 4,
 "nbformat_minor": 0
}
