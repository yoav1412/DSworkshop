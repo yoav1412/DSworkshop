{
 "cells": [
  {
   "cell_type": "code",
   "execution_count": null,
   "metadata": {
    "collapsed": true
   },
   "outputs": [],
   "source": [
    "%matplotlib inline"
   ]
  },
  {
   "cell_type": "heading",
   "metadata": {},
   "level": 1,
   "source": [
    "Load full users and taps datasets from Kaggle"
   ]
  },
  {
   "cell_type": "code",
   "execution_count": 1,
   "metadata": {
    "collapsed": false
   },
   "outputs": [
    {
     "name": "stdout",
     "output_type": "stream",
     "text": [
      "Loading taps files: 100/622\n"
     ]
    },
    {
     "name": "stdout",
     "output_type": "stream",
     "text": [
      "Loading taps files: 200/622\n"
     ]
    },
    {
     "name": "stdout",
     "output_type": "stream",
     "text": [
      "Loading taps files: 300/622\n"
     ]
    },
    {
     "name": "stdout",
     "output_type": "stream",
     "text": [
      "Loading taps files: 400/622\n"
     ]
    },
    {
     "name": "stdout",
     "output_type": "stream",
     "text": [
      "Loading taps files: 500/622\n"
     ]
    },
    {
     "name": "stdout",
     "output_type": "stream",
     "text": [
      "Loading taps files: 600/622\n"
     ]
    },
    {
     "name": "stdout",
     "output_type": "stream",
     "text": [
      "Filtered out 386 rows with bad values in column 'HoldTime'\n"
     ]
    },
    {
     "name": "stdout",
     "output_type": "stream",
     "text": [
      "Filtered out 167 rows with bad values in column 'LatencyTime'\n"
     ]
    },
    {
     "name": "stdout",
     "output_type": "stream",
     "text": [
      "Filtered out 196 rows with bad values in column 'FlightTime'\n"
     ]
    },
    {
     "name": "stdout",
     "output_type": "stream",
     "text": [
      "Filtered out 0 rows with bad values in column 'Direction'\n"
     ]
    },
    {
     "name": "stdout",
     "output_type": "stream",
     "text": [
      "Filtered out 0 rows with bad values in column 'Hand'\n"
     ]
    },
    {
     "name": "stdout",
     "output_type": "stream",
     "text": [
      "there are 50 unique user IDs in the Tappy data with no entry in the Users file\n"
     ]
    },
    {
     "name": "stdout",
     "output_type": "stream",
     "text": [
      "Filtered out 301925 rows with bad values in column 'ID'\n"
     ]
    }
   ],
   "source": [
    "from KaggleDataLoader import *\n",
    "\n",
    "# Create dataframe from files, perform basic cleaning\n",
    "kaggle_users = create_merged_users_details_file()\n",
    "kaggle_users.head()\n",
    "\n",
    "kaggle_taps = create_merged_taps_dataframe()\n",
    "kaggle_taps = clean_bad_values(kaggle_taps)\n",
    "kaggle_taps = clean_incompatible_user_ids(kaggle_taps, kaggle_users)\n",
    "kaggle_taps.head()\n",
    "\n",
    "\n",
    "# Filter outliers\n",
    "def filter_column_by_quantile(df, column, threshold):\n",
    "    len_before = len(df)\n",
    "    df = df[df[column] < np.percentile(df[column], threshold)]\n",
    "    len_after = len(df)\n",
    "    print(\"Filtered out {} rows with outliers in column '{}'\".format((len_before - len_after), column))\n",
    "    return df\n",
    "\n",
    "\n",
    "def plot_percentiles_of_column(df, col, start, end, bins):\n",
    "    X = np.linspace(start, end, bins)\n",
    "    Y = [np.percentile(df[col], x) for x in X]\n",
    "    plt.plot(X, Y)\n",
    "    plt.title(col + \" Percentiles\")\n",
    "    plt.xlabel(\"Percent\")\n",
    "    plt.ylabel(\"Percentile Value\")\n",
    "    plt.show()\n",
    "\n",
    "\n",
    "# Filter out outliers of HoldTime:\n",
    "plot_percentiles_of_column(kaggle_taps, 'HoldTime', 99.96, 99.9999, 20)\n",
    "# After the percentile 99.993 we see significantly higher values, which are definitely outliers.\n",
    "kaggle_taps = filter_column_by_quantile(kaggle_taps, 'HoldTime', 99.993)\n",
    "\n",
    "# Add parsed date and time column + calculate cumulative time\n",
    "kaggle_taps = add_cumulative_timestamps_column(kaggle_taps)\n",
    "\n",
    "\n",
    "# Group to bin indexes by the cumulative timestamps\n",
    "def build_bins(df, bin_size_seconds):\n",
    "    df[\"PressTimeCumulative\"] = df[\"PressTimeCumulative\"] / 1000\n",
    "    max_press = (int(max((df[\"PressTimeCumulative\"])) / bin_size_seconds) + 1) * bin_size_seconds + 1\n",
    "    user_bins = [i for i in range(0, max_press, bin_size_seconds)]\n",
    "    df[\"binIndex\"] = pd.cut((df[\"PressTimeCumulative\"]), user_bins)\n",
    "    return df\n",
    "\n",
    "\n",
    "kaggle_taps = build_bins(kaggle_taps, 90)\n",
    "\n",
    "# Keep only necessary columns and save to file\n",
    "kaggle_taps = kaggle_taps[TAPS_FINAL_COLUMNS + ['binIndex']]\n",
    "kaggle_taps.head()\n",
    "\n",
    "kaggle_taps.to_csv(constants.KAGGLE_TAPS_INPUT, index=False)"
   ]
  },
  {
   "cell_type": "heading",
   "metadata": {},
   "level": 1,
   "source": [
    "Load full users and taps datasets from MIT dataset"
   ]
  },
  {
   "cell_type": "code",
   "execution_count": null,
   "metadata": {},
   "outputs": [],
   "source": [
    "from MITDataLoader import *\n",
    "\n",
    "\n",
    "mit_users = pd.read_csv(USERS, delimiter=',', header=0, error_bad_lines=False,\n",
    "                        low_memory=False, usecols=[\"pID\", \"gt\", \"updrs108\", \"file_1\", \"file_2\"])\n",
    "\n",
    "mit_taps = create_merged_taps_dataframe()\n",
    "mit_taps = clean_errors_and_bad_values(mit_taps)\n",
    "\n",
    "# Group to bin indexes by pressTime and add as a new column\n",
    "bin_size_seconds = 90\n",
    "max_press = (int(max(mit_taps[\"pressTime\"]) / bin_size_seconds) + 1) * bin_size_seconds + 1\n",
    "user_bins = [i for i in range(0, max_press, bin_size_seconds)]\n",
    "mit_taps[\"binIndex\"] = pd.cut(mit_taps[\"pressTime\"], user_bins)\n",
    "mit_taps.head()\n",
    "\n",
    "\n",
    "# Filter outliers\n",
    "\n",
    "def plot_percentile(df, column, start, end, bins):\n",
    "    X = np.linspace(start, end, bins)\n",
    "    Y = [np.percentile(df[column], x) for x in X]\n",
    "    plt.plot(X, Y)\n",
    "    plt.title(column + \" Percentiles\")\n",
    "    plt.xlabel(\"Percent\")\n",
    "    plt.ylabel(\"Percentile Value\")\n",
    "    plt.show()\n",
    "\n",
    "\n",
    "def filter_column_by_quantile(df, column, threshold):\n",
    "    len_before = len(df)\n",
    "    df = df[df[column] < np.percentile(df[column], threshold)]\n",
    "    len_after = len(df)\n",
    "    print(\"Filtered out {} rows with outliers in column '{}'\".format((len_before - len_after), column))\n",
    "\n",
    "\n",
    "if SHOW_PLOTS:\n",
    "    for col in FLOAT_COLUMNS:\n",
    "        plot_percentile(mit_taps, col, 98, 99.9999, 40)\n",
    "\n",
    "# Filter according to the results in the plots\n",
    "filter_column_by_quantile(mit_taps, \"HoldTime\", 99.99)\n",
    "filter_column_by_quantile(mit_taps, \"LatencyTime\", 99.4)\n",
    "filter_column_by_quantile(mit_taps, \"FlightTime\", 99.95)\n",
    "\n",
    "# Save to file - Taps file\n",
    "mit_taps[[\"HoldTime\", \"LatencyTime\", \"FlightTime\"]] = \\\n",
    "    1000 * mit_taps[[\"HoldTime\", \"LatencyTime\", \"FlightTime\"]]  # to milliseconds\n",
    "mit_taps.head()\n",
    "\n",
    "mit_taps.to_csv(MIT_TAPS_INPUT, index=False)\n",
    "\n",
    "# Save to file - Users file\n",
    "mit_users.rename(columns={'pID': 'ID', 'gt': 'Parkinsons', 'updrs108': 'UDPRS'}, inplace=True)\n",
    "mit_users = mit_users[['ID', 'Parkinsons', 'UDPRS']]\n",
    "mit_users.head()\n",
    "\n",
    "mit_users.to_csv(MIT_USERS_INPUT, index=False)\n"
   ]
  }
 ],
 "metadata": {
  "kernelspec": {
   "display_name": "Python 2",
   "language": "python",
   "name": "python2"
  },
  "language_info": {
   "codemirror_mode": {
    "name": "ipython",
    "version": 2
   },
   "file_extension": ".py",
   "mimetype": "text/x-python",
   "name": "python",
   "nbconvert_exporter": "python",
   "pygments_lexer": "ipython2",
   "version": "2.7.6"
  }
 },
 "nbformat": 4,
 "nbformat_minor": 0
}
